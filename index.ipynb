{
 "cells": [
  {
   "cell_type": "markdown",
   "metadata": {},
   "source": [
    "# Business-Understanding\n",
    "\n",
    "As a Data Scientist, your task is to develop a predictive model to identify purchase intent for a segment of our online users. The goal is to accurately predict which users are likely to make a purchase during their web session, enabling the business to target potential buyers more effectively."
   ]
  },
  {
   "cell_type": "markdown",
   "metadata": {},
   "source": [
    "# Data-Understanding\n",
    "\n",
    "The data is from [Kaggle](https://www.kaggle.com/competitions/22122shop/data)\n",
    "\n",
    "There are 18 variables with 10 quantitative and 7 categorical input features, 500K observations (one row or web session per online user) in a tabular format with the first 50K rows missing the Rev revenue flag (1 for purchase intent and 0 otherwise). The data was collected for the period of 1 year.\n",
    "\n",
    "Features description (from the dataset authors):\n",
    "\n",
    "1. `Administrative (Adm)`, `Informational (Inf)`,` Product Related (Prd)`: \n",
    "    - counts of different page types viewed by the user in that session. Values are derived from the URL information of the pages visited by the user and updated in real time when a user takes an action, e.g. moving from one page to another.\n",
    "2. `Administrative Duration (AdmDur)`, `Informational Duration (InfDur)`, and `Product Related Duration (PrdDur)`: \n",
    "    - total time spent on the page of the specified type.\n",
    "3. `Bounce Rate (BncRt):` \n",
    "    - %visitors who enter the site from that page and then leave (\"bounce\") without triggering any other requests to the analytics server during that session. Measured by Google Analytics\n",
    "4. `Exit Rate (ExtRt)`: \n",
    "    - %visitors that were the last in the session. Calculated as for all pageviews to the page. Measured by Google Analytics.\n",
    "5. `Page Value (PgVal)`: \n",
    "    - average value for a web page that the user visited before completing an e-commerce transaction.\n",
    "6. `Special Day (SpclDay)`: \n",
    "    - closeness of the site visiting time to a specific special day (e.g. Mother’s Day, Valentine's Day) in which the sessions are more likely to be finalized with transaction. The value of this attribute is determined by considering the dynamics of e-commerce such as the duration between the order date and delivery date. For example, for Valentine's day, this value takes a nonzero value between Feb 2 and Feb 12, zero before and after this date unless it is close to another special day, and its maximum value of 1 on Feb 8.\n",
    "7. `Operating system (OS)` of the user's PC\n",
    "8. `Browser (Bsr)`: web user's web browser\n",
    "9. `Region (Rgn) `of the web user\n",
    "10. `Traffic type (TfcTp)`: TBD\n",
    "11. `Visitor type (VstTp)`: Type of visitor\n",
    "12. `Weekend (Wknd)`: whether the page view event took place on weekend\n",
    "13. `Month of the year (Mo)`: the month of the page view event"
   ]
  },
  {
   "cell_type": "code",
   "execution_count": 85,
   "metadata": {},
   "outputs": [],
   "source": [
    "import pandas as pd\n",
    "import numpy as np\n",
    "import matplotlib.pyplot as plt\n",
    "import seaborn as sns\n",
    "%matplotlib inline"
   ]
  },
  {
   "cell_type": "code",
   "execution_count": 49,
   "metadata": {},
   "outputs": [],
   "source": [
    "sns.set_style('darkgrid')"
   ]
  },
  {
   "cell_type": "code",
   "execution_count": 50,
   "metadata": {},
   "outputs": [
    {
     "data": {
      "text/html": [
       "<div>\n",
       "<style scoped>\n",
       "    .dataframe tbody tr th:only-of-type {\n",
       "        vertical-align: middle;\n",
       "    }\n",
       "\n",
       "    .dataframe tbody tr th {\n",
       "        vertical-align: top;\n",
       "    }\n",
       "\n",
       "    .dataframe thead th {\n",
       "        text-align: right;\n",
       "    }\n",
       "</style>\n",
       "<table border=\"1\" class=\"dataframe\">\n",
       "  <thead>\n",
       "    <tr style=\"text-align: right;\">\n",
       "      <th></th>\n",
       "      <th>Adm</th>\n",
       "      <th>AdmDur</th>\n",
       "      <th>Inf</th>\n",
       "      <th>InfDur</th>\n",
       "      <th>Prd</th>\n",
       "      <th>PrdDur</th>\n",
       "      <th>BncRt</th>\n",
       "      <th>ExtRt</th>\n",
       "      <th>PgVal</th>\n",
       "      <th>SpclDay</th>\n",
       "      <th>Mo</th>\n",
       "      <th>OS</th>\n",
       "      <th>Bsr</th>\n",
       "      <th>Rgn</th>\n",
       "      <th>TfcTp</th>\n",
       "      <th>VstTp</th>\n",
       "      <th>Wkd</th>\n",
       "      <th>Rev</th>\n",
       "    </tr>\n",
       "  </thead>\n",
       "  <tbody>\n",
       "    <tr>\n",
       "      <th>0</th>\n",
       "      <td>0</td>\n",
       "      <td>0.00</td>\n",
       "      <td>0</td>\n",
       "      <td>0.00</td>\n",
       "      <td>18</td>\n",
       "      <td>132.99</td>\n",
       "      <td>0.038211</td>\n",
       "      <td>0.054523</td>\n",
       "      <td>0.000000</td>\n",
       "      <td>0.0</td>\n",
       "      <td>4</td>\n",
       "      <td>3</td>\n",
       "      <td>1</td>\n",
       "      <td>1</td>\n",
       "      <td>2</td>\n",
       "      <td>0</td>\n",
       "      <td>1</td>\n",
       "      <td>NaN</td>\n",
       "    </tr>\n",
       "    <tr>\n",
       "      <th>1</th>\n",
       "      <td>1</td>\n",
       "      <td>0.00</td>\n",
       "      <td>0</td>\n",
       "      <td>0.00</td>\n",
       "      <td>37</td>\n",
       "      <td>1150.20</td>\n",
       "      <td>0.001245</td>\n",
       "      <td>0.030321</td>\n",
       "      <td>0.000000</td>\n",
       "      <td>0.0</td>\n",
       "      <td>11</td>\n",
       "      <td>2</td>\n",
       "      <td>2</td>\n",
       "      <td>4</td>\n",
       "      <td>2</td>\n",
       "      <td>0</td>\n",
       "      <td>1</td>\n",
       "      <td>NaN</td>\n",
       "    </tr>\n",
       "    <tr>\n",
       "      <th>2</th>\n",
       "      <td>6</td>\n",
       "      <td>191.98</td>\n",
       "      <td>0</td>\n",
       "      <td>0.00</td>\n",
       "      <td>38</td>\n",
       "      <td>1266.78</td>\n",
       "      <td>0.004742</td>\n",
       "      <td>0.019551</td>\n",
       "      <td>17.816864</td>\n",
       "      <td>0.0</td>\n",
       "      <td>10</td>\n",
       "      <td>2</td>\n",
       "      <td>3</td>\n",
       "      <td>1</td>\n",
       "      <td>3</td>\n",
       "      <td>0</td>\n",
       "      <td>0</td>\n",
       "      <td>NaN</td>\n",
       "    </tr>\n",
       "    <tr>\n",
       "      <th>3</th>\n",
       "      <td>3</td>\n",
       "      <td>263.68</td>\n",
       "      <td>0</td>\n",
       "      <td>0.00</td>\n",
       "      <td>24</td>\n",
       "      <td>749.14</td>\n",
       "      <td>0.004474</td>\n",
       "      <td>0.024079</td>\n",
       "      <td>14.578547</td>\n",
       "      <td>0.0</td>\n",
       "      <td>7</td>\n",
       "      <td>2</td>\n",
       "      <td>2</td>\n",
       "      <td>2</td>\n",
       "      <td>1</td>\n",
       "      <td>0</td>\n",
       "      <td>1</td>\n",
       "      <td>NaN</td>\n",
       "    </tr>\n",
       "    <tr>\n",
       "      <th>4</th>\n",
       "      <td>0</td>\n",
       "      <td>0.00</td>\n",
       "      <td>0</td>\n",
       "      <td>0.00</td>\n",
       "      <td>3</td>\n",
       "      <td>136.41</td>\n",
       "      <td>0.000000</td>\n",
       "      <td>0.066300</td>\n",
       "      <td>0.000000</td>\n",
       "      <td>0.0</td>\n",
       "      <td>12</td>\n",
       "      <td>1</td>\n",
       "      <td>1</td>\n",
       "      <td>3</td>\n",
       "      <td>3</td>\n",
       "      <td>1</td>\n",
       "      <td>0</td>\n",
       "      <td>NaN</td>\n",
       "    </tr>\n",
       "    <tr>\n",
       "      <th>...</th>\n",
       "      <td>...</td>\n",
       "      <td>...</td>\n",
       "      <td>...</td>\n",
       "      <td>...</td>\n",
       "      <td>...</td>\n",
       "      <td>...</td>\n",
       "      <td>...</td>\n",
       "      <td>...</td>\n",
       "      <td>...</td>\n",
       "      <td>...</td>\n",
       "      <td>...</td>\n",
       "      <td>...</td>\n",
       "      <td>...</td>\n",
       "      <td>...</td>\n",
       "      <td>...</td>\n",
       "      <td>...</td>\n",
       "      <td>...</td>\n",
       "      <td>...</td>\n",
       "    </tr>\n",
       "    <tr>\n",
       "      <th>499995</th>\n",
       "      <td>14</td>\n",
       "      <td>262.46</td>\n",
       "      <td>0</td>\n",
       "      <td>0.00</td>\n",
       "      <td>170</td>\n",
       "      <td>3967.02</td>\n",
       "      <td>0.003314</td>\n",
       "      <td>0.015669</td>\n",
       "      <td>2.904034</td>\n",
       "      <td>0.0</td>\n",
       "      <td>12</td>\n",
       "      <td>2</td>\n",
       "      <td>2</td>\n",
       "      <td>4</td>\n",
       "      <td>2</td>\n",
       "      <td>0</td>\n",
       "      <td>0</td>\n",
       "      <td>0.0</td>\n",
       "    </tr>\n",
       "    <tr>\n",
       "      <th>499996</th>\n",
       "      <td>0</td>\n",
       "      <td>0.00</td>\n",
       "      <td>0</td>\n",
       "      <td>0.00</td>\n",
       "      <td>7</td>\n",
       "      <td>295.57</td>\n",
       "      <td>0.000000</td>\n",
       "      <td>0.000000</td>\n",
       "      <td>0.000000</td>\n",
       "      <td>0.0</td>\n",
       "      <td>9</td>\n",
       "      <td>1</td>\n",
       "      <td>5</td>\n",
       "      <td>4</td>\n",
       "      <td>3</td>\n",
       "      <td>0</td>\n",
       "      <td>0</td>\n",
       "      <td>0.0</td>\n",
       "    </tr>\n",
       "    <tr>\n",
       "      <th>499997</th>\n",
       "      <td>6</td>\n",
       "      <td>134.64</td>\n",
       "      <td>3</td>\n",
       "      <td>92.28</td>\n",
       "      <td>30</td>\n",
       "      <td>888.50</td>\n",
       "      <td>0.000000</td>\n",
       "      <td>0.003452</td>\n",
       "      <td>30.172020</td>\n",
       "      <td>0.0</td>\n",
       "      <td>11</td>\n",
       "      <td>2</td>\n",
       "      <td>2</td>\n",
       "      <td>1</td>\n",
       "      <td>4</td>\n",
       "      <td>0</td>\n",
       "      <td>0</td>\n",
       "      <td>0.0</td>\n",
       "    </tr>\n",
       "    <tr>\n",
       "      <th>499998</th>\n",
       "      <td>0</td>\n",
       "      <td>0.00</td>\n",
       "      <td>0</td>\n",
       "      <td>0.00</td>\n",
       "      <td>27</td>\n",
       "      <td>1185.14</td>\n",
       "      <td>0.000000</td>\n",
       "      <td>0.001593</td>\n",
       "      <td>0.000000</td>\n",
       "      <td>0.0</td>\n",
       "      <td>5</td>\n",
       "      <td>2</td>\n",
       "      <td>2</td>\n",
       "      <td>2</td>\n",
       "      <td>3</td>\n",
       "      <td>0</td>\n",
       "      <td>1</td>\n",
       "      <td>0.0</td>\n",
       "    </tr>\n",
       "    <tr>\n",
       "      <th>499999</th>\n",
       "      <td>6</td>\n",
       "      <td>51.36</td>\n",
       "      <td>0</td>\n",
       "      <td>0.00</td>\n",
       "      <td>59</td>\n",
       "      <td>1898.21</td>\n",
       "      <td>0.000000</td>\n",
       "      <td>0.003224</td>\n",
       "      <td>0.000000</td>\n",
       "      <td>0.0</td>\n",
       "      <td>12</td>\n",
       "      <td>2</td>\n",
       "      <td>2</td>\n",
       "      <td>2</td>\n",
       "      <td>1</td>\n",
       "      <td>0</td>\n",
       "      <td>0</td>\n",
       "      <td>0.0</td>\n",
       "    </tr>\n",
       "  </tbody>\n",
       "</table>\n",
       "<p>500000 rows × 18 columns</p>\n",
       "</div>"
      ],
      "text/plain": [
       "        Adm  AdmDur  Inf  InfDur  Prd   PrdDur     BncRt     ExtRt      PgVal  \\\n",
       "0         0    0.00    0    0.00   18   132.99  0.038211  0.054523   0.000000   \n",
       "1         1    0.00    0    0.00   37  1150.20  0.001245  0.030321   0.000000   \n",
       "2         6  191.98    0    0.00   38  1266.78  0.004742  0.019551  17.816864   \n",
       "3         3  263.68    0    0.00   24   749.14  0.004474  0.024079  14.578547   \n",
       "4         0    0.00    0    0.00    3   136.41  0.000000  0.066300   0.000000   \n",
       "...     ...     ...  ...     ...  ...      ...       ...       ...        ...   \n",
       "499995   14  262.46    0    0.00  170  3967.02  0.003314  0.015669   2.904034   \n",
       "499996    0    0.00    0    0.00    7   295.57  0.000000  0.000000   0.000000   \n",
       "499997    6  134.64    3   92.28   30   888.50  0.000000  0.003452  30.172020   \n",
       "499998    0    0.00    0    0.00   27  1185.14  0.000000  0.001593   0.000000   \n",
       "499999    6   51.36    0    0.00   59  1898.21  0.000000  0.003224   0.000000   \n",
       "\n",
       "        SpclDay  Mo  OS  Bsr  Rgn  TfcTp  VstTp  Wkd  Rev  \n",
       "0           0.0   4   3    1    1      2      0    1  NaN  \n",
       "1           0.0  11   2    2    4      2      0    1  NaN  \n",
       "2           0.0  10   2    3    1      3      0    0  NaN  \n",
       "3           0.0   7   2    2    2      1      0    1  NaN  \n",
       "4           0.0  12   1    1    3      3      1    0  NaN  \n",
       "...         ...  ..  ..  ...  ...    ...    ...  ...  ...  \n",
       "499995      0.0  12   2    2    4      2      0    0  0.0  \n",
       "499996      0.0   9   1    5    4      3      0    0  0.0  \n",
       "499997      0.0  11   2    2    1      4      0    0  0.0  \n",
       "499998      0.0   5   2    2    2      3      0    1  0.0  \n",
       "499999      0.0  12   2    2    2      1      0    0  0.0  \n",
       "\n",
       "[500000 rows x 18 columns]"
      ]
     },
     "execution_count": 50,
     "metadata": {},
     "output_type": "execute_result"
    }
   ],
   "source": [
    "df = pd.read_csv('XY_Shop.csv')\n",
    "df"
   ]
  },
  {
   "cell_type": "markdown",
   "metadata": {},
   "source": [
    "# EDA"
   ]
  },
  {
   "cell_type": "markdown",
   "metadata": {},
   "source": [
    "## Data-Cleaning"
   ]
  },
  {
   "cell_type": "markdown",
   "metadata": {},
   "source": [
    "We first split the data to remove the rows with missing values in the rev column."
   ]
  },
  {
   "cell_type": "code",
   "execution_count": 51,
   "metadata": {},
   "outputs": [
    {
     "data": {
      "text/plain": [
       "50000"
      ]
     },
     "execution_count": 51,
     "metadata": {},
     "output_type": "execute_result"
    }
   ],
   "source": [
    "# checking the missing values\n",
    "df.isna().sum().sum()"
   ]
  },
  {
   "cell_type": "code",
   "execution_count": 52,
   "metadata": {},
   "outputs": [
    {
     "name": "stdout",
     "output_type": "stream",
     "text": [
      "<class 'pandas.core.frame.DataFrame'>\n",
      "Index: 450000 entries, 50000 to 499999\n",
      "Data columns (total 18 columns):\n",
      " #   Column   Non-Null Count   Dtype  \n",
      "---  ------   --------------   -----  \n",
      " 0   Adm      450000 non-null  int64  \n",
      " 1   AdmDur   450000 non-null  float64\n",
      " 2   Inf      450000 non-null  int64  \n",
      " 3   InfDur   450000 non-null  float64\n",
      " 4   Prd      450000 non-null  int64  \n",
      " 5   PrdDur   450000 non-null  float64\n",
      " 6   BncRt    450000 non-null  float64\n",
      " 7   ExtRt    450000 non-null  float64\n",
      " 8   PgVal    450000 non-null  float64\n",
      " 9   SpclDay  450000 non-null  float64\n",
      " 10  Mo       450000 non-null  int64  \n",
      " 11  OS       450000 non-null  int64  \n",
      " 12  Bsr      450000 non-null  int64  \n",
      " 13  Rgn      450000 non-null  int64  \n",
      " 14  TfcTp    450000 non-null  int64  \n",
      " 15  VstTp    450000 non-null  int64  \n",
      " 16  Wkd      450000 non-null  int64  \n",
      " 17  Rev      450000 non-null  float64\n",
      "dtypes: float64(8), int64(10)\n",
      "memory usage: 65.2 MB\n"
     ]
    }
   ],
   "source": [
    "missing_rev = df.loc[df.Rev.isna()]\n",
    "df.dropna(inplace=True)\n",
    "df.info()"
   ]
  },
  {
   "cell_type": "markdown",
   "metadata": {},
   "source": [
    "Now we check for duplicates"
   ]
  },
  {
   "cell_type": "code",
   "execution_count": 53,
   "metadata": {},
   "outputs": [
    {
     "data": {
      "text/plain": [
       "87"
      ]
     },
     "execution_count": 53,
     "metadata": {},
     "output_type": "execute_result"
    }
   ],
   "source": [
    "df.duplicated().sum()"
   ]
  },
  {
   "cell_type": "code",
   "execution_count": 54,
   "metadata": {},
   "outputs": [
    {
     "data": {
      "text/html": [
       "<div>\n",
       "<style scoped>\n",
       "    .dataframe tbody tr th:only-of-type {\n",
       "        vertical-align: middle;\n",
       "    }\n",
       "\n",
       "    .dataframe tbody tr th {\n",
       "        vertical-align: top;\n",
       "    }\n",
       "\n",
       "    .dataframe thead th {\n",
       "        text-align: right;\n",
       "    }\n",
       "</style>\n",
       "<table border=\"1\" class=\"dataframe\">\n",
       "  <thead>\n",
       "    <tr style=\"text-align: right;\">\n",
       "      <th></th>\n",
       "      <th>Adm</th>\n",
       "      <th>AdmDur</th>\n",
       "      <th>Inf</th>\n",
       "      <th>InfDur</th>\n",
       "      <th>Prd</th>\n",
       "      <th>PrdDur</th>\n",
       "      <th>BncRt</th>\n",
       "      <th>ExtRt</th>\n",
       "      <th>PgVal</th>\n",
       "      <th>SpclDay</th>\n",
       "      <th>Mo</th>\n",
       "      <th>OS</th>\n",
       "      <th>Bsr</th>\n",
       "      <th>Rgn</th>\n",
       "      <th>TfcTp</th>\n",
       "      <th>VstTp</th>\n",
       "      <th>Wkd</th>\n",
       "      <th>Rev</th>\n",
       "    </tr>\n",
       "  </thead>\n",
       "  <tbody>\n",
       "    <tr>\n",
       "      <th>50000</th>\n",
       "      <td>0</td>\n",
       "      <td>0.00</td>\n",
       "      <td>0</td>\n",
       "      <td>0.00</td>\n",
       "      <td>1</td>\n",
       "      <td>0.00</td>\n",
       "      <td>0.157489</td>\n",
       "      <td>0.115168</td>\n",
       "      <td>0.000000</td>\n",
       "      <td>0.0</td>\n",
       "      <td>12</td>\n",
       "      <td>2</td>\n",
       "      <td>2</td>\n",
       "      <td>1</td>\n",
       "      <td>9</td>\n",
       "      <td>0</td>\n",
       "      <td>0</td>\n",
       "      <td>0.0</td>\n",
       "    </tr>\n",
       "    <tr>\n",
       "      <th>50001</th>\n",
       "      <td>7</td>\n",
       "      <td>116.19</td>\n",
       "      <td>0</td>\n",
       "      <td>0.00</td>\n",
       "      <td>79</td>\n",
       "      <td>2683.58</td>\n",
       "      <td>0.000000</td>\n",
       "      <td>0.001910</td>\n",
       "      <td>0.000000</td>\n",
       "      <td>0.0</td>\n",
       "      <td>4</td>\n",
       "      <td>2</td>\n",
       "      <td>3</td>\n",
       "      <td>2</td>\n",
       "      <td>2</td>\n",
       "      <td>1</td>\n",
       "      <td>0</td>\n",
       "      <td>0.0</td>\n",
       "    </tr>\n",
       "    <tr>\n",
       "      <th>50002</th>\n",
       "      <td>6</td>\n",
       "      <td>233.07</td>\n",
       "      <td>0</td>\n",
       "      <td>0.00</td>\n",
       "      <td>8</td>\n",
       "      <td>171.08</td>\n",
       "      <td>0.033427</td>\n",
       "      <td>0.062316</td>\n",
       "      <td>0.000000</td>\n",
       "      <td>0.0</td>\n",
       "      <td>12</td>\n",
       "      <td>2</td>\n",
       "      <td>2</td>\n",
       "      <td>2</td>\n",
       "      <td>1</td>\n",
       "      <td>0</td>\n",
       "      <td>0</td>\n",
       "      <td>0.0</td>\n",
       "    </tr>\n",
       "    <tr>\n",
       "      <th>50003</th>\n",
       "      <td>0</td>\n",
       "      <td>0.00</td>\n",
       "      <td>0</td>\n",
       "      <td>0.00</td>\n",
       "      <td>5</td>\n",
       "      <td>0.00</td>\n",
       "      <td>0.140943</td>\n",
       "      <td>0.160706</td>\n",
       "      <td>0.000000</td>\n",
       "      <td>0.0</td>\n",
       "      <td>6</td>\n",
       "      <td>2</td>\n",
       "      <td>2</td>\n",
       "      <td>3</td>\n",
       "      <td>5</td>\n",
       "      <td>0</td>\n",
       "      <td>0</td>\n",
       "      <td>0.0</td>\n",
       "    </tr>\n",
       "    <tr>\n",
       "      <th>50004</th>\n",
       "      <td>0</td>\n",
       "      <td>0.00</td>\n",
       "      <td>0</td>\n",
       "      <td>0.00</td>\n",
       "      <td>6</td>\n",
       "      <td>112.57</td>\n",
       "      <td>0.035324</td>\n",
       "      <td>0.021440</td>\n",
       "      <td>0.000000</td>\n",
       "      <td>0.0</td>\n",
       "      <td>10</td>\n",
       "      <td>2</td>\n",
       "      <td>2</td>\n",
       "      <td>4</td>\n",
       "      <td>7</td>\n",
       "      <td>1</td>\n",
       "      <td>1</td>\n",
       "      <td>0.0</td>\n",
       "    </tr>\n",
       "    <tr>\n",
       "      <th>...</th>\n",
       "      <td>...</td>\n",
       "      <td>...</td>\n",
       "      <td>...</td>\n",
       "      <td>...</td>\n",
       "      <td>...</td>\n",
       "      <td>...</td>\n",
       "      <td>...</td>\n",
       "      <td>...</td>\n",
       "      <td>...</td>\n",
       "      <td>...</td>\n",
       "      <td>...</td>\n",
       "      <td>...</td>\n",
       "      <td>...</td>\n",
       "      <td>...</td>\n",
       "      <td>...</td>\n",
       "      <td>...</td>\n",
       "      <td>...</td>\n",
       "      <td>...</td>\n",
       "    </tr>\n",
       "    <tr>\n",
       "      <th>499995</th>\n",
       "      <td>14</td>\n",
       "      <td>262.46</td>\n",
       "      <td>0</td>\n",
       "      <td>0.00</td>\n",
       "      <td>170</td>\n",
       "      <td>3967.02</td>\n",
       "      <td>0.003314</td>\n",
       "      <td>0.015669</td>\n",
       "      <td>2.904034</td>\n",
       "      <td>0.0</td>\n",
       "      <td>12</td>\n",
       "      <td>2</td>\n",
       "      <td>2</td>\n",
       "      <td>4</td>\n",
       "      <td>2</td>\n",
       "      <td>0</td>\n",
       "      <td>0</td>\n",
       "      <td>0.0</td>\n",
       "    </tr>\n",
       "    <tr>\n",
       "      <th>499996</th>\n",
       "      <td>0</td>\n",
       "      <td>0.00</td>\n",
       "      <td>0</td>\n",
       "      <td>0.00</td>\n",
       "      <td>7</td>\n",
       "      <td>295.57</td>\n",
       "      <td>0.000000</td>\n",
       "      <td>0.000000</td>\n",
       "      <td>0.000000</td>\n",
       "      <td>0.0</td>\n",
       "      <td>9</td>\n",
       "      <td>1</td>\n",
       "      <td>5</td>\n",
       "      <td>4</td>\n",
       "      <td>3</td>\n",
       "      <td>0</td>\n",
       "      <td>0</td>\n",
       "      <td>0.0</td>\n",
       "    </tr>\n",
       "    <tr>\n",
       "      <th>499997</th>\n",
       "      <td>6</td>\n",
       "      <td>134.64</td>\n",
       "      <td>3</td>\n",
       "      <td>92.28</td>\n",
       "      <td>30</td>\n",
       "      <td>888.50</td>\n",
       "      <td>0.000000</td>\n",
       "      <td>0.003452</td>\n",
       "      <td>30.172020</td>\n",
       "      <td>0.0</td>\n",
       "      <td>11</td>\n",
       "      <td>2</td>\n",
       "      <td>2</td>\n",
       "      <td>1</td>\n",
       "      <td>4</td>\n",
       "      <td>0</td>\n",
       "      <td>0</td>\n",
       "      <td>0.0</td>\n",
       "    </tr>\n",
       "    <tr>\n",
       "      <th>499998</th>\n",
       "      <td>0</td>\n",
       "      <td>0.00</td>\n",
       "      <td>0</td>\n",
       "      <td>0.00</td>\n",
       "      <td>27</td>\n",
       "      <td>1185.14</td>\n",
       "      <td>0.000000</td>\n",
       "      <td>0.001593</td>\n",
       "      <td>0.000000</td>\n",
       "      <td>0.0</td>\n",
       "      <td>5</td>\n",
       "      <td>2</td>\n",
       "      <td>2</td>\n",
       "      <td>2</td>\n",
       "      <td>3</td>\n",
       "      <td>0</td>\n",
       "      <td>1</td>\n",
       "      <td>0.0</td>\n",
       "    </tr>\n",
       "    <tr>\n",
       "      <th>499999</th>\n",
       "      <td>6</td>\n",
       "      <td>51.36</td>\n",
       "      <td>0</td>\n",
       "      <td>0.00</td>\n",
       "      <td>59</td>\n",
       "      <td>1898.21</td>\n",
       "      <td>0.000000</td>\n",
       "      <td>0.003224</td>\n",
       "      <td>0.000000</td>\n",
       "      <td>0.0</td>\n",
       "      <td>12</td>\n",
       "      <td>2</td>\n",
       "      <td>2</td>\n",
       "      <td>2</td>\n",
       "      <td>1</td>\n",
       "      <td>0</td>\n",
       "      <td>0</td>\n",
       "      <td>0.0</td>\n",
       "    </tr>\n",
       "  </tbody>\n",
       "</table>\n",
       "<p>449913 rows × 18 columns</p>\n",
       "</div>"
      ],
      "text/plain": [
       "        Adm  AdmDur  Inf  InfDur  Prd   PrdDur     BncRt     ExtRt      PgVal  \\\n",
       "50000     0    0.00    0    0.00    1     0.00  0.157489  0.115168   0.000000   \n",
       "50001     7  116.19    0    0.00   79  2683.58  0.000000  0.001910   0.000000   \n",
       "50002     6  233.07    0    0.00    8   171.08  0.033427  0.062316   0.000000   \n",
       "50003     0    0.00    0    0.00    5     0.00  0.140943  0.160706   0.000000   \n",
       "50004     0    0.00    0    0.00    6   112.57  0.035324  0.021440   0.000000   \n",
       "...     ...     ...  ...     ...  ...      ...       ...       ...        ...   \n",
       "499995   14  262.46    0    0.00  170  3967.02  0.003314  0.015669   2.904034   \n",
       "499996    0    0.00    0    0.00    7   295.57  0.000000  0.000000   0.000000   \n",
       "499997    6  134.64    3   92.28   30   888.50  0.000000  0.003452  30.172020   \n",
       "499998    0    0.00    0    0.00   27  1185.14  0.000000  0.001593   0.000000   \n",
       "499999    6   51.36    0    0.00   59  1898.21  0.000000  0.003224   0.000000   \n",
       "\n",
       "        SpclDay  Mo  OS  Bsr  Rgn  TfcTp  VstTp  Wkd  Rev  \n",
       "50000       0.0  12   2    2    1      9      0    0  0.0  \n",
       "50001       0.0   4   2    3    2      2      1    0  0.0  \n",
       "50002       0.0  12   2    2    2      1      0    0  0.0  \n",
       "50003       0.0   6   2    2    3      5      0    0  0.0  \n",
       "50004       0.0  10   2    2    4      7      1    1  0.0  \n",
       "...         ...  ..  ..  ...  ...    ...    ...  ...  ...  \n",
       "499995      0.0  12   2    2    4      2      0    0  0.0  \n",
       "499996      0.0   9   1    5    4      3      0    0  0.0  \n",
       "499997      0.0  11   2    2    1      4      0    0  0.0  \n",
       "499998      0.0   5   2    2    2      3      0    1  0.0  \n",
       "499999      0.0  12   2    2    2      1      0    0  0.0  \n",
       "\n",
       "[449913 rows x 18 columns]"
      ]
     },
     "execution_count": 54,
     "metadata": {},
     "output_type": "execute_result"
    }
   ],
   "source": [
    "df.drop_duplicates(inplace=True)\n",
    "df"
   ]
  },
  {
   "cell_type": "markdown",
   "metadata": {},
   "source": [
    "## Page Visits"
   ]
  },
  {
   "cell_type": "code",
   "execution_count": 55,
   "metadata": {},
   "outputs": [
    {
     "name": "stdout",
     "output_type": "stream",
     "text": [
      "Adm     2\n",
      "Inf     0\n",
      "Prd    30\n",
      "dtype: int32\n"
     ]
    },
    {
     "data": {
      "image/png": "[encoded data removed]",
      "text/plain": [
       "<Figure size 640x480 with 1 Axes>"
      ]
     },
     "metadata": {},
     "output_type": "display_data"
    }
   ],
   "source": [
    "page_visits = df[['Adm', 'Inf', 'Prd']]\n",
    "\n",
    "# plotting the average page visits per session\n",
    "avg_visits = page_visits.mean().astype(int)\n",
    "print(avg_visits)\n",
    "\n",
    "sns.barplot(x=avg_visits.index, y=avg_visits);"
   ]
  },
  {
   "cell_type": "markdown",
   "metadata": {},
   "source": [
    "- Products page averages the most visits per session with about 30 per session.\n",
    "- There is a contrast in page visits for the Administrative pages with an average of 0 visits per session.\n",
    "- Informational pages averages no visits per session."
   ]
  },
  {
   "cell_type": "code",
   "execution_count": 56,
   "metadata": {},
   "outputs": [
    {
     "name": "stdout",
     "output_type": "stream",
     "text": [
      "AdmDur      76.870743\n",
      "InfDur      31.830116\n",
      "PrdDur    1165.230601\n",
      "dtype: float64\n"
     ]
    },
    {
     "data": {
      "image/png": "[encoded data removed]",
      "text/plain": [
       "<Figure size 640x480 with 1 Axes>"
      ]
     },
     "metadata": {},
     "output_type": "display_data"
    }
   ],
   "source": [
    "page_time = df[['AdmDur', 'InfDur','PrdDur']]\n",
    "avg_page_time = page_time.mean()\n",
    "print(avg_page_time)\n",
    "\n",
    "# plotting\n",
    "sns.barplot(x=avg_page_time.index, y=avg_page_time);"
   ]
  },
  {
   "cell_type": "markdown",
   "metadata": {},
   "source": [
    "Same case for the duration, most time is spent on the product pages compared to the administrative and informational pages."
   ]
  },
  {
   "cell_type": "markdown",
   "metadata": {},
   "source": [
    "## Bounce and Exit Rates"
   ]
  },
  {
   "cell_type": "code",
   "execution_count": 57,
   "metadata": {},
   "outputs": [
    {
     "data": {
      "text/plain": [
       "BncRt    0.018359\n",
       "ExtRt    0.036841\n",
       "dtype: float64"
      ]
     },
     "execution_count": 57,
     "metadata": {},
     "output_type": "execute_result"
    }
   ],
   "source": [
    "bounce_exit = df[['BncRt', 'ExtRt']]\n",
    "bounce_exit.mean()"
   ]
  },
  {
   "cell_type": "markdown",
   "metadata": {},
   "source": [
    "- Bounce rate is relatively low at around 2%.\n",
    "- Same case for Exit rate at around 4%"
   ]
  },
  {
   "cell_type": "markdown",
   "metadata": {},
   "source": [
    "## Purchases on different times of the year"
   ]
  },
  {
   "cell_type": "code",
   "execution_count": 58,
   "metadata": {},
   "outputs": [
    {
     "data": {
      "text/html": [
       "<div>\n",
       "<style scoped>\n",
       "    .dataframe tbody tr th:only-of-type {\n",
       "        vertical-align: middle;\n",
       "    }\n",
       "\n",
       "    .dataframe tbody tr th {\n",
       "        vertical-align: top;\n",
       "    }\n",
       "\n",
       "    .dataframe thead th {\n",
       "        text-align: right;\n",
       "    }\n",
       "</style>\n",
       "<table border=\"1\" class=\"dataframe\">\n",
       "  <thead>\n",
       "    <tr style=\"text-align: right;\">\n",
       "      <th></th>\n",
       "      <th>Mo</th>\n",
       "      <th>Rev</th>\n",
       "    </tr>\n",
       "  </thead>\n",
       "  <tbody>\n",
       "    <tr>\n",
       "      <th>0</th>\n",
       "      <td>1</td>\n",
       "      <td>252.0</td>\n",
       "    </tr>\n",
       "    <tr>\n",
       "      <th>1</th>\n",
       "      <td>2</td>\n",
       "      <td>4388.0</td>\n",
       "    </tr>\n",
       "    <tr>\n",
       "      <th>2</th>\n",
       "      <td>3</td>\n",
       "      <td>4440.0</td>\n",
       "    </tr>\n",
       "    <tr>\n",
       "      <th>3</th>\n",
       "      <td>4</td>\n",
       "      <td>11889.0</td>\n",
       "    </tr>\n",
       "    <tr>\n",
       "      <th>4</th>\n",
       "      <td>5</td>\n",
       "      <td>8223.0</td>\n",
       "    </tr>\n",
       "    <tr>\n",
       "      <th>5</th>\n",
       "      <td>6</td>\n",
       "      <td>9561.0</td>\n",
       "    </tr>\n",
       "    <tr>\n",
       "      <th>6</th>\n",
       "      <td>7</td>\n",
       "      <td>3218.0</td>\n",
       "    </tr>\n",
       "    <tr>\n",
       "      <th>7</th>\n",
       "      <td>8</td>\n",
       "      <td>3813.0</td>\n",
       "    </tr>\n",
       "    <tr>\n",
       "      <th>8</th>\n",
       "      <td>9</td>\n",
       "      <td>4389.0</td>\n",
       "    </tr>\n",
       "    <tr>\n",
       "      <th>9</th>\n",
       "      <td>10</td>\n",
       "      <td>14331.0</td>\n",
       "    </tr>\n",
       "    <tr>\n",
       "      <th>10</th>\n",
       "      <td>11</td>\n",
       "      <td>17111.0</td>\n",
       "    </tr>\n",
       "    <tr>\n",
       "      <th>11</th>\n",
       "      <td>12</td>\n",
       "      <td>19243.0</td>\n",
       "    </tr>\n",
       "  </tbody>\n",
       "</table>\n",
       "</div>"
      ],
      "text/plain": [
       "    Mo      Rev\n",
       "0    1    252.0\n",
       "1    2   4388.0\n",
       "2    3   4440.0\n",
       "3    4  11889.0\n",
       "4    5   8223.0\n",
       "5    6   9561.0\n",
       "6    7   3218.0\n",
       "7    8   3813.0\n",
       "8    9   4389.0\n",
       "9   10  14331.0\n",
       "10  11  17111.0\n",
       "11  12  19243.0"
      ]
     },
     "execution_count": 58,
     "metadata": {},
     "output_type": "execute_result"
    }
   ],
   "source": [
    "monthly_rev = df.groupby('Mo')['Rev'].sum().reset_index()\n",
    "monthly_rev"
   ]
  },
  {
   "cell_type": "markdown",
   "metadata": {},
   "source": [
    "we now convert the month numbers to the actual names of the months then plot.\n"
   ]
  },
  {
   "cell_type": "code",
   "execution_count": null,
   "metadata": {},
   "outputs": [],
   "source": [
    "import calendar\n",
    "\n",
    "# Transforming the month column\n",
    "monthly_rev['Mo'] = monthly_rev.Mo.map(\n",
    "    lambda x: calendar.month_name[int(x)]\n",
    ")"
   ]
  },
  {
   "cell_type": "code",
   "execution_count": 67,
   "metadata": {},
   "outputs": [
    {
     "name": "stderr",
     "output_type": "stream",
     "text": [
      "c:\\Users\\mutis\\anaconda3\\Lib\\site-packages\\seaborn\\_oldcore.py:1119: FutureWarning: use_inf_as_na option is deprecated and will be removed in a future version. Convert inf values to NaN before operating instead.\n",
      "  with pd.option_context('mode.use_inf_as_na', True):\n",
      "c:\\Users\\mutis\\anaconda3\\Lib\\site-packages\\seaborn\\_oldcore.py:1119: FutureWarning: use_inf_as_na option is deprecated and will be removed in a future version. Convert inf values to NaN before operating instead.\n",
      "  with pd.option_context('mode.use_inf_as_na', True):\n"
     ]
    },
    {
     "data": {
      "image/png": "[encoded data removed]",
      "text/plain": [
       "<Figure size 640x480 with 1 Axes>"
      ]
     },
     "metadata": {},
     "output_type": "display_data"
    }
   ],
   "source": [
    "# plotting the distribution\n",
    "sns.lineplot(\n",
    "    monthly_rev,\n",
    "    x='Mo', \n",
    "    y='Rev'\n",
    ")\n",
    "plt.xlabel('Month')\n",
    "plt.ylabel('Purchases')\n",
    "plt.title('Purchases Throgh the year')\n",
    "plt.xticks(rotation=45);"
   ]
  },
  {
   "cell_type": "markdown",
   "metadata": {},
   "source": [
    "- Purchases tend to peak in October and continue to rise steadily, reaching their highest levels by the end of the year. This can be contributed by special events such as holiday shopping and special promotions among others.\n",
    "- Purchases tend to be lowest in January, gradually rise to a peak in April, though not as high as the peak in October, and then steadily decline afterward.\n",
    "- This pattern reflects typical consumer behavior influenced by seasonal events, financial cycles, and marketing strategies."
   ]
  },
  {
   "cell_type": "markdown",
   "metadata": {},
   "source": [
    "## Purchases on special days"
   ]
  },
  {
   "cell_type": "markdown",
   "metadata": {},
   "source": [
    "Investigating how closeness to the special days influences the purchases."
   ]
  },
  {
   "cell_type": "code",
   "execution_count": 76,
   "metadata": {},
   "outputs": [],
   "source": [
    "special_purchases = df.loc[df.SpclDay > 0].groupby(\n",
    "    'SpclDay'\n",
    ")['Rev'].sum().reset_index()\n",
    "special_purchases.columns = ['Closeness', 'Purchases']"
   ]
  },
  {
   "cell_type": "code",
   "execution_count": 77,
   "metadata": {},
   "outputs": [
    {
     "name": "stderr",
     "output_type": "stream",
     "text": [
      "c:\\Users\\mutis\\anaconda3\\Lib\\site-packages\\seaborn\\_oldcore.py:1119: FutureWarning: use_inf_as_na option is deprecated and will be removed in a future version. Convert inf values to NaN before operating instead.\n",
      "  with pd.option_context('mode.use_inf_as_na', True):\n",
      "c:\\Users\\mutis\\anaconda3\\Lib\\site-packages\\seaborn\\_oldcore.py:1119: FutureWarning: use_inf_as_na option is deprecated and will be removed in a future version. Convert inf values to NaN before operating instead.\n",
      "  with pd.option_context('mode.use_inf_as_na', True):\n"
     ]
    },
    {
     "data": {
      "image/png": "[encoded data removed]",
      "text/plain": [
       "<Figure size 640x480 with 1 Axes>"
      ]
     },
     "metadata": {},
     "output_type": "display_data"
    }
   ],
   "source": [
    "# Plotting the trend\n",
    "sns.lineplot(\n",
    "    special_purchases,\n",
    "    x='Closeness',\n",
    "    y='Purchases'\n",
    ")\n",
    "\n",
    "plt.title('Effect of closeness to Special days on purchases');"
   ]
  },
  {
   "cell_type": "markdown",
   "metadata": {},
   "source": [
    "\n",
    "Purchases tend to increase when the closeness value is around the midpoint, indicating a balanced anticipation of the special day. As the date of the special event approaches, the likelihood of making a purchase gradually decreases. Conversely, when the event is farther away, purchase activity is relatively lower but starts to rise as the date nears, peaking at the midpoint before gradually declining again."
   ]
  },
  {
   "cell_type": "markdown",
   "metadata": {},
   "source": [
    "## Purchases on weekends"
   ]
  },
  {
   "cell_type": "markdown",
   "metadata": {},
   "source": [
    "Effect of weekends on purchases"
   ]
  },
  {
   "cell_type": "code",
   "execution_count": 92,
   "metadata": {},
   "outputs": [
    {
     "data": {
      "text/plain": [
       "Wkd\n",
       "0    321053\n",
       "1    128860\n",
       "Name: count, dtype: int64"
      ]
     },
     "execution_count": 92,
     "metadata": {},
     "output_type": "execute_result"
    }
   ],
   "source": [
    "df.Wkd.value_counts()"
   ]
  },
  {
   "cell_type": "code",
   "execution_count": 100,
   "metadata": {},
   "outputs": [
    {
     "name": "stdout",
     "output_type": "stream",
     "text": [
      "   Wkd       Rev\n",
      "0    0  0.171043\n",
      "1    1  0.356542\n"
     ]
    },
    {
     "data": {
      "image/png": "[encoded data removed]",
      "text/plain": [
       "<Figure size 640x480 with 1 Axes>"
      ]
     },
     "metadata": {},
     "output_type": "display_data"
    }
   ],
   "source": [
    "weekend_purchases = df.groupby('Wkd')['Rev'].mean().reset_index()\n",
    "\n",
    "# plotting\n",
    "sns.barplot(\n",
    "    weekend_purchases,\n",
    "    x='Wkd',\n",
    "    y='Rev'\n",
    ")\n",
    "print(weekend_purchases)\n",
    "\n",
    "plt.xticks([0, 1], labels=['Normal', 'Weekend'])\n",
    "plt.xlabel('Day')\n",
    "plt.ylabel('purchases %');"
   ]
  },
  {
   "cell_type": "markdown",
   "metadata": {},
   "source": [
    "Purchases occur more on weekends than on normal days as indicated by the chart. About 35% of the visits in the weekends result to purchases compared to normal days at 17%."
   ]
  },
  {
   "cell_type": "markdown",
   "metadata": {},
   "source": [
    "## Page value"
   ]
  },
  {
   "cell_type": "markdown",
   "metadata": {},
   "source": [
    "Investigating the effect of page value to the purchases."
   ]
  },
  {
   "cell_type": "code",
   "execution_count": 79,
   "metadata": {},
   "outputs": [
    {
     "data": {
      "text/html": [
       "<div>\n",
       "<style scoped>\n",
       "    .dataframe tbody tr th:only-of-type {\n",
       "        vertical-align: middle;\n",
       "    }\n",
       "\n",
       "    .dataframe tbody tr th {\n",
       "        vertical-align: top;\n",
       "    }\n",
       "\n",
       "    .dataframe thead th {\n",
       "        text-align: right;\n",
       "    }\n",
       "</style>\n",
       "<table border=\"1\" class=\"dataframe\">\n",
       "  <thead>\n",
       "    <tr style=\"text-align: right;\">\n",
       "      <th></th>\n",
       "      <th>PgVal</th>\n",
       "    </tr>\n",
       "  </thead>\n",
       "  <tbody>\n",
       "    <tr>\n",
       "      <th>count</th>\n",
       "      <td>449913.000000</td>\n",
       "    </tr>\n",
       "    <tr>\n",
       "      <th>mean</th>\n",
       "      <td>5.500630</td>\n",
       "    </tr>\n",
       "    <tr>\n",
       "      <th>std</th>\n",
       "      <td>16.525529</td>\n",
       "    </tr>\n",
       "    <tr>\n",
       "      <th>min</th>\n",
       "      <td>0.000000</td>\n",
       "    </tr>\n",
       "    <tr>\n",
       "      <th>25%</th>\n",
       "      <td>0.000000</td>\n",
       "    </tr>\n",
       "    <tr>\n",
       "      <th>50%</th>\n",
       "      <td>0.000000</td>\n",
       "    </tr>\n",
       "    <tr>\n",
       "      <th>75%</th>\n",
       "      <td>0.000000</td>\n",
       "    </tr>\n",
       "    <tr>\n",
       "      <th>max</th>\n",
       "      <td>360.740676</td>\n",
       "    </tr>\n",
       "  </tbody>\n",
       "</table>\n",
       "</div>"
      ],
      "text/plain": [
       "               PgVal\n",
       "count  449913.000000\n",
       "mean        5.500630\n",
       "std        16.525529\n",
       "min         0.000000\n",
       "25%         0.000000\n",
       "50%         0.000000\n",
       "75%         0.000000\n",
       "max       360.740676"
      ]
     },
     "execution_count": 79,
     "metadata": {},
     "output_type": "execute_result"
    }
   ],
   "source": [
    "df[['PgVal']].describe()"
   ]
  },
  {
   "cell_type": "markdown",
   "metadata": {},
   "source": [
    "The page value ranges from 0 to 360. We bin the range to different values to get the  purchases as value increases."
   ]
  },
  {
   "cell_type": "code",
   "execution_count": 90,
   "metadata": {},
   "outputs": [
    {
     "name": "stderr",
     "output_type": "stream",
     "text": [
      "C:\\Users\\mutis\\AppData\\Local\\Temp\\ipykernel_6932\\934730105.py:6: FutureWarning: The default of observed=False is deprecated and will be changed to True in a future version of pandas. Pass observed=False to retain current behavior or observed=True to adopt the future default and silence this warning.\n",
      "  value_cat_purchases = value_df.groupby('val_cat')['Rev'].mean().reset_index()\n",
      "c:\\Users\\mutis\\anaconda3\\Lib\\site-packages\\seaborn\\categorical.py:641: FutureWarning: The default of observed=False is deprecated and will be changed to True in a future version of pandas. Pass observed=False to retain current behavior or observed=True to adopt the future default and silence this warning.\n",
      "  grouped_vals = vals.groupby(grouper)\n"
     ]
    },
    {
     "data": {
      "image/png": "[encoded data removed]",
      "text/plain": [
       "<Figure size 640x480 with 1 Axes>"
      ]
     },
     "metadata": {},
     "output_type": "display_data"
    }
   ],
   "source": [
    "value_df = df.copy()\n",
    "# binning the page value to 10 categories\n",
    "value_df['val_cat'] = pd.cut(df['PgVal'], bins=10, labels=np.arange(1, 11))\n",
    "\n",
    "# get the percentage of purchases\n",
    "value_cat_purchases = value_df.groupby('val_cat')['Rev'].mean().reset_index()\n",
    "\n",
    "# plotting\n",
    "sns.barplot(\n",
    "    value_cat_purchases,\n",
    "    x='val_cat',\n",
    "    y='Rev',\n",
    ")\n",
    "\n",
    "plt.title('Purchases According to page value')\n",
    "plt.xlabel('Page Value')\n",
    "plt.ylabel('Purchases');"
   ]
  },
  {
   "cell_type": "markdown",
   "metadata": {},
   "source": [
    "There is an upward trend as the page value increases, more purchases are made."
   ]
  },
  {
   "cell_type": "markdown",
   "metadata": {},
   "source": [
    "# Data preparation"
   ]
  },
  {
   "cell_type": "code",
   "execution_count": 91,
   "metadata": {},
   "outputs": [
    {
     "name": "stdout",
     "output_type": "stream",
     "text": [
      "<class 'pandas.core.frame.DataFrame'>\n",
      "Index: 449913 entries, 50000 to 499999\n",
      "Data columns (total 18 columns):\n",
      " #   Column   Non-Null Count   Dtype  \n",
      "---  ------   --------------   -----  \n",
      " 0   Adm      449913 non-null  int64  \n",
      " 1   AdmDur   449913 non-null  float64\n",
      " 2   Inf      449913 non-null  int64  \n",
      " 3   InfDur   449913 non-null  float64\n",
      " 4   Prd      449913 non-null  int64  \n",
      " 5   PrdDur   449913 non-null  float64\n",
      " 6   BncRt    449913 non-null  float64\n",
      " 7   ExtRt    449913 non-null  float64\n",
      " 8   PgVal    449913 non-null  float64\n",
      " 9   SpclDay  449913 non-null  float64\n",
      " 10  Mo       449913 non-null  int64  \n",
      " 11  OS       449913 non-null  int64  \n",
      " 12  Bsr      449913 non-null  int64  \n",
      " 13  Rgn      449913 non-null  int64  \n",
      " 14  TfcTp    449913 non-null  int64  \n",
      " 15  VstTp    449913 non-null  int64  \n",
      " 16  Wkd      449913 non-null  int64  \n",
      " 17  Rev      449913 non-null  float64\n",
      "dtypes: float64(8), int64(10)\n",
      "memory usage: 81.3 MB\n"
     ]
    }
   ],
   "source": [
    "df.info()"
   ]
  },
  {
   "cell_type": "markdown",
   "metadata": {},
   "source": [
    "most columns are either in float64 format or int64 but some of them are categorical. So we convert the categorical columns to object."
   ]
  },
  {
   "cell_type": "code",
   "execution_count": 106,
   "metadata": {},
   "outputs": [
    {
     "name": "stdout",
     "output_type": "stream",
     "text": [
      "<class 'pandas.core.frame.DataFrame'>\n",
      "Index: 449913 entries, 50000 to 499999\n",
      "Data columns (total 18 columns):\n",
      " #   Column   Non-Null Count   Dtype  \n",
      "---  ------   --------------   -----  \n",
      " 0   Adm      449913 non-null  int64  \n",
      " 1   AdmDur   449913 non-null  float64\n",
      " 2   Inf      449913 non-null  int64  \n",
      " 3   InfDur   449913 non-null  float64\n",
      " 4   Prd      449913 non-null  int64  \n",
      " 5   PrdDur   449913 non-null  float64\n",
      " 6   BncRt    449913 non-null  float64\n",
      " 7   ExtRt    449913 non-null  float64\n",
      " 8   PgVal    449913 non-null  float64\n",
      " 9   SpclDay  449913 non-null  float64\n",
      " 10  Mo       449913 non-null  object \n",
      " 11  OS       449913 non-null  object \n",
      " 12  Bsr      449913 non-null  object \n",
      " 13  Rgn      449913 non-null  object \n",
      " 14  TfcTp    449913 non-null  object \n",
      " 15  VstTp    449913 non-null  object \n",
      " 16  Wkd      449913 non-null  int64  \n",
      " 17  Rev      449913 non-null  float64\n",
      "dtypes: float64(8), int64(4), object(6)\n",
      "memory usage: 81.3+ MB\n"
     ]
    }
   ],
   "source": [
    "df[['Mo', 'OS', 'Bsr', 'Rgn', 'TfcTp', 'VstTp']] = (\n",
    "    df[['Mo', 'OS', 'Bsr', 'Rgn', 'TfcTp', 'VstTp']].astype('object')\n",
    ")\n",
    "df.info()"
   ]
  },
  {
   "cell_type": "markdown",
   "metadata": {},
   "source": [
    "now our data is in the correct data types."
   ]
  },
  {
   "cell_type": "markdown",
   "metadata": {},
   "source": [
    "# Modelling"
   ]
  },
  {
   "cell_type": "markdown",
   "metadata": {},
   "source": [
    "We first start by spitting the data to the train and test sets."
   ]
  },
  {
   "cell_type": "markdown",
   "metadata": {},
   "source": [
    "## Preprocessing"
   ]
  },
  {
   "cell_type": "code",
   "execution_count": 110,
   "metadata": {},
   "outputs": [],
   "source": [
    "# importing modules\n",
    "from sklearn.model_selection import train_test_split\n",
    "from sklearn.linear_model import LogisticRegression\n",
    "from sklearn.preprocessing import StandardScaler"
   ]
  },
  {
   "cell_type": "code",
   "execution_count": 111,
   "metadata": {},
   "outputs": [],
   "source": [
    "# the seed for random generators\n",
    "random_state = 20"
   ]
  },
  {
   "cell_type": "code",
   "execution_count": 112,
   "metadata": {},
   "outputs": [],
   "source": [
    "X = df.drop('Rev', axis=1)\n",
    "y = df['Rev']\n",
    "\n",
    "X_train, X_test, y_train, y_test = train_test_split(X, y,\n",
    "                                                    random_state=random_state)"
   ]
  },
  {
   "cell_type": "markdown",
   "metadata": {},
   "source": [
    "We now proceed to create dummy variables for the categorical columns."
   ]
  },
  {
   "cell_type": "code",
   "execution_count": 114,
   "metadata": {},
   "outputs": [],
   "source": [
    "# creating dummy variables for categorical\n",
    "X_train_dummy = pd.get_dummies(X_train.select_dtypes('object'),\n",
    "                               drop_first=True,\n",
    "                               dtype=int)\n",
    "X_test_dummy = pd.get_dummies(X_test.select_dtypes('object'),\n",
    "                              drop_first=True,\n",
    "                              dtype=int)"
   ]
  },
  {
   "cell_type": "markdown",
   "metadata": {},
   "source": [
    "We then scale the numerical columns to put them on the same scale."
   ]
  },
  {
   "cell_type": "code",
   "execution_count": 121,
   "metadata": {},
   "outputs": [],
   "source": [
    "scaler = StandardScaler()\n",
    "numeric_training = X_train.select_dtypes(exclude='object')\n",
    "numeric_test = X_test.select_dtypes(exclude='object')\n",
    "X_train_scaled = pd.DataFrame(\n",
    "    scaler.fit_transform(numeric_training),\n",
    "    columns=numeric_training.columns,\n",
    "    index=numeric_training.index\n",
    ")\n",
    "X_test_scaled = pd.DataFrame(\n",
    "    scaler.transform(numeric_test),\n",
    "    columns=numeric_test.columns,\n",
    "    index=numeric_test.index\n",
    ")"
   ]
  },
  {
   "cell_type": "code",
   "execution_count": 123,
   "metadata": {},
   "outputs": [
    {
     "data": {
      "text/html": [
       "<div>\n",
       "<style scoped>\n",
       "    .dataframe tbody tr th:only-of-type {\n",
       "        vertical-align: middle;\n",
       "    }\n",
       "\n",
       "    .dataframe tbody tr th {\n",
       "        vertical-align: top;\n",
       "    }\n",
       "\n",
       "    .dataframe thead th {\n",
       "        text-align: right;\n",
       "    }\n",
       "</style>\n",
       "<table border=\"1\" class=\"dataframe\">\n",
       "  <thead>\n",
       "    <tr style=\"text-align: right;\">\n",
       "      <th></th>\n",
       "      <th>Adm</th>\n",
       "      <th>AdmDur</th>\n",
       "      <th>Inf</th>\n",
       "      <th>InfDur</th>\n",
       "      <th>Prd</th>\n",
       "      <th>PrdDur</th>\n",
       "      <th>BncRt</th>\n",
       "      <th>ExtRt</th>\n",
       "      <th>PgVal</th>\n",
       "      <th>SpclDay</th>\n",
       "      <th>...</th>\n",
       "      <th>TfcTp_2</th>\n",
       "      <th>TfcTp_3</th>\n",
       "      <th>TfcTp_4</th>\n",
       "      <th>TfcTp_5</th>\n",
       "      <th>TfcTp_6</th>\n",
       "      <th>TfcTp_7</th>\n",
       "      <th>TfcTp_8</th>\n",
       "      <th>TfcTp_9</th>\n",
       "      <th>VstTp_1</th>\n",
       "      <th>VstTp_2</th>\n",
       "    </tr>\n",
       "  </thead>\n",
       "  <tbody>\n",
       "    <tr>\n",
       "      <th>199738</th>\n",
       "      <td>-0.734052</td>\n",
       "      <td>-0.485583</td>\n",
       "      <td>-0.412760</td>\n",
       "      <td>-0.260327</td>\n",
       "      <td>-0.208215</td>\n",
       "      <td>-0.229697</td>\n",
       "      <td>-0.487376</td>\n",
       "      <td>-0.523353</td>\n",
       "      <td>-0.332714</td>\n",
       "      <td>-0.310491</td>\n",
       "      <td>...</td>\n",
       "      <td>0</td>\n",
       "      <td>1</td>\n",
       "      <td>0</td>\n",
       "      <td>0</td>\n",
       "      <td>0</td>\n",
       "      <td>0</td>\n",
       "      <td>0</td>\n",
       "      <td>0</td>\n",
       "      <td>0</td>\n",
       "      <td>0</td>\n",
       "    </tr>\n",
       "    <tr>\n",
       "      <th>52555</th>\n",
       "      <td>0.300392</td>\n",
       "      <td>-0.258402</td>\n",
       "      <td>1.276139</td>\n",
       "      <td>-0.129599</td>\n",
       "      <td>1.118539</td>\n",
       "      <td>1.713617</td>\n",
       "      <td>0.020644</td>\n",
       "      <td>-0.272948</td>\n",
       "      <td>-0.332714</td>\n",
       "      <td>-0.310491</td>\n",
       "      <td>...</td>\n",
       "      <td>1</td>\n",
       "      <td>0</td>\n",
       "      <td>0</td>\n",
       "      <td>0</td>\n",
       "      <td>0</td>\n",
       "      <td>0</td>\n",
       "      <td>0</td>\n",
       "      <td>0</td>\n",
       "      <td>0</td>\n",
       "      <td>0</td>\n",
       "    </tr>\n",
       "    <tr>\n",
       "      <th>311137</th>\n",
       "      <td>-0.734052</td>\n",
       "      <td>-0.485583</td>\n",
       "      <td>-0.412760</td>\n",
       "      <td>-0.260327</td>\n",
       "      <td>-0.692990</td>\n",
       "      <td>-0.511456</td>\n",
       "      <td>-0.487376</td>\n",
       "      <td>-0.129734</td>\n",
       "      <td>-0.332714</td>\n",
       "      <td>-0.310491</td>\n",
       "      <td>...</td>\n",
       "      <td>1</td>\n",
       "      <td>0</td>\n",
       "      <td>0</td>\n",
       "      <td>0</td>\n",
       "      <td>0</td>\n",
       "      <td>0</td>\n",
       "      <td>0</td>\n",
       "      <td>0</td>\n",
       "      <td>0</td>\n",
       "      <td>0</td>\n",
       "    </tr>\n",
       "    <tr>\n",
       "      <th>325494</th>\n",
       "      <td>0.645206</td>\n",
       "      <td>0.136276</td>\n",
       "      <td>-0.412760</td>\n",
       "      <td>-0.260327</td>\n",
       "      <td>-0.514389</td>\n",
       "      <td>-0.621169</td>\n",
       "      <td>1.246706</td>\n",
       "      <td>1.212630</td>\n",
       "      <td>-0.332714</td>\n",
       "      <td>-0.310491</td>\n",
       "      <td>...</td>\n",
       "      <td>0</td>\n",
       "      <td>1</td>\n",
       "      <td>0</td>\n",
       "      <td>0</td>\n",
       "      <td>0</td>\n",
       "      <td>0</td>\n",
       "      <td>0</td>\n",
       "      <td>0</td>\n",
       "      <td>0</td>\n",
       "      <td>0</td>\n",
       "    </tr>\n",
       "    <tr>\n",
       "      <th>379185</th>\n",
       "      <td>0.300392</td>\n",
       "      <td>-0.366087</td>\n",
       "      <td>-0.412760</td>\n",
       "      <td>-0.260327</td>\n",
       "      <td>-0.565418</td>\n",
       "      <td>-0.463498</td>\n",
       "      <td>-0.487376</td>\n",
       "      <td>-0.785660</td>\n",
       "      <td>-0.332714</td>\n",
       "      <td>-0.310491</td>\n",
       "      <td>...</td>\n",
       "      <td>0</td>\n",
       "      <td>1</td>\n",
       "      <td>0</td>\n",
       "      <td>0</td>\n",
       "      <td>0</td>\n",
       "      <td>0</td>\n",
       "      <td>0</td>\n",
       "      <td>0</td>\n",
       "      <td>0</td>\n",
       "      <td>0</td>\n",
       "    </tr>\n",
       "    <tr>\n",
       "      <th>...</th>\n",
       "      <td>...</td>\n",
       "      <td>...</td>\n",
       "      <td>...</td>\n",
       "      <td>...</td>\n",
       "      <td>...</td>\n",
       "      <td>...</td>\n",
       "      <td>...</td>\n",
       "      <td>...</td>\n",
       "      <td>...</td>\n",
       "      <td>...</td>\n",
       "      <td>...</td>\n",
       "      <td>...</td>\n",
       "      <td>...</td>\n",
       "      <td>...</td>\n",
       "      <td>...</td>\n",
       "      <td>...</td>\n",
       "      <td>...</td>\n",
       "      <td>...</td>\n",
       "      <td>...</td>\n",
       "      <td>...</td>\n",
       "      <td>...</td>\n",
       "    </tr>\n",
       "    <tr>\n",
       "      <th>81962</th>\n",
       "      <td>-0.734052</td>\n",
       "      <td>-0.485583</td>\n",
       "      <td>-0.412760</td>\n",
       "      <td>-0.260327</td>\n",
       "      <td>-0.361302</td>\n",
       "      <td>-0.520394</td>\n",
       "      <td>-0.487376</td>\n",
       "      <td>-0.850491</td>\n",
       "      <td>-0.332714</td>\n",
       "      <td>-0.310491</td>\n",
       "      <td>...</td>\n",
       "      <td>0</td>\n",
       "      <td>0</td>\n",
       "      <td>0</td>\n",
       "      <td>0</td>\n",
       "      <td>0</td>\n",
       "      <td>0</td>\n",
       "      <td>1</td>\n",
       "      <td>0</td>\n",
       "      <td>0</td>\n",
       "      <td>0</td>\n",
       "    </tr>\n",
       "    <tr>\n",
       "      <th>270085</th>\n",
       "      <td>-0.734052</td>\n",
       "      <td>-0.485583</td>\n",
       "      <td>-0.412760</td>\n",
       "      <td>-0.260327</td>\n",
       "      <td>-0.667476</td>\n",
       "      <td>-0.630941</td>\n",
       "      <td>-0.487376</td>\n",
       "      <td>1.268036</td>\n",
       "      <td>-0.332714</td>\n",
       "      <td>-0.310491</td>\n",
       "      <td>...</td>\n",
       "      <td>1</td>\n",
       "      <td>0</td>\n",
       "      <td>0</td>\n",
       "      <td>0</td>\n",
       "      <td>0</td>\n",
       "      <td>0</td>\n",
       "      <td>0</td>\n",
       "      <td>0</td>\n",
       "      <td>0</td>\n",
       "      <td>0</td>\n",
       "    </tr>\n",
       "    <tr>\n",
       "      <th>335966</th>\n",
       "      <td>0.300392</td>\n",
       "      <td>0.103875</td>\n",
       "      <td>-0.412760</td>\n",
       "      <td>-0.260327</td>\n",
       "      <td>-0.744019</td>\n",
       "      <td>-0.654740</td>\n",
       "      <td>-0.487376</td>\n",
       "      <td>0.144580</td>\n",
       "      <td>-0.332714</td>\n",
       "      <td>-0.310491</td>\n",
       "      <td>...</td>\n",
       "      <td>1</td>\n",
       "      <td>0</td>\n",
       "      <td>0</td>\n",
       "      <td>0</td>\n",
       "      <td>0</td>\n",
       "      <td>0</td>\n",
       "      <td>0</td>\n",
       "      <td>0</td>\n",
       "      <td>1</td>\n",
       "      <td>0</td>\n",
       "    </tr>\n",
       "    <tr>\n",
       "      <th>87136</th>\n",
       "      <td>1.334836</td>\n",
       "      <td>0.706913</td>\n",
       "      <td>-0.412760</td>\n",
       "      <td>-0.260327</td>\n",
       "      <td>-0.590932</td>\n",
       "      <td>-0.318124</td>\n",
       "      <td>0.064870</td>\n",
       "      <td>-0.188867</td>\n",
       "      <td>-0.332714</td>\n",
       "      <td>-0.310491</td>\n",
       "      <td>...</td>\n",
       "      <td>1</td>\n",
       "      <td>0</td>\n",
       "      <td>0</td>\n",
       "      <td>0</td>\n",
       "      <td>0</td>\n",
       "      <td>0</td>\n",
       "      <td>0</td>\n",
       "      <td>0</td>\n",
       "      <td>0</td>\n",
       "      <td>0</td>\n",
       "    </tr>\n",
       "    <tr>\n",
       "      <th>404838</th>\n",
       "      <td>-0.734052</td>\n",
       "      <td>-0.485583</td>\n",
       "      <td>2.120589</td>\n",
       "      <td>3.400881</td>\n",
       "      <td>1.220597</td>\n",
       "      <td>1.409744</td>\n",
       "      <td>-0.359416</td>\n",
       "      <td>-0.477133</td>\n",
       "      <td>0.275650</td>\n",
       "      <td>-0.310491</td>\n",
       "      <td>...</td>\n",
       "      <td>0</td>\n",
       "      <td>0</td>\n",
       "      <td>0</td>\n",
       "      <td>0</td>\n",
       "      <td>0</td>\n",
       "      <td>0</td>\n",
       "      <td>0</td>\n",
       "      <td>0</td>\n",
       "      <td>0</td>\n",
       "      <td>0</td>\n",
       "    </tr>\n",
       "  </tbody>\n",
       "</table>\n",
       "<p>337434 rows × 52 columns</p>\n",
       "</div>"
      ],
      "text/plain": [
       "             Adm    AdmDur       Inf    InfDur       Prd    PrdDur     BncRt  \\\n",
       "199738 -0.734052 -0.485583 -0.412760 -0.260327 -0.208215 -0.229697 -0.487376   \n",
       "52555   0.300392 -0.258402  1.276139 -0.129599  1.118539  1.713617  0.020644   \n",
       "311137 -0.734052 -0.485583 -0.412760 -0.260327 -0.692990 -0.511456 -0.487376   \n",
       "325494  0.645206  0.136276 -0.412760 -0.260327 -0.514389 -0.621169  1.246706   \n",
       "379185  0.300392 -0.366087 -0.412760 -0.260327 -0.565418 -0.463498 -0.487376   \n",
       "...          ...       ...       ...       ...       ...       ...       ...   \n",
       "81962  -0.734052 -0.485583 -0.412760 -0.260327 -0.361302 -0.520394 -0.487376   \n",
       "270085 -0.734052 -0.485583 -0.412760 -0.260327 -0.667476 -0.630941 -0.487376   \n",
       "335966  0.300392  0.103875 -0.412760 -0.260327 -0.744019 -0.654740 -0.487376   \n",
       "87136   1.334836  0.706913 -0.412760 -0.260327 -0.590932 -0.318124  0.064870   \n",
       "404838 -0.734052 -0.485583  2.120589  3.400881  1.220597  1.409744 -0.359416   \n",
       "\n",
       "           ExtRt     PgVal   SpclDay  ...  TfcTp_2  TfcTp_3  TfcTp_4  TfcTp_5  \\\n",
       "199738 -0.523353 -0.332714 -0.310491  ...        0        1        0        0   \n",
       "52555  -0.272948 -0.332714 -0.310491  ...        1        0        0        0   \n",
       "311137 -0.129734 -0.332714 -0.310491  ...        1        0        0        0   \n",
       "325494  1.212630 -0.332714 -0.310491  ...        0        1        0        0   \n",
       "379185 -0.785660 -0.332714 -0.310491  ...        0        1        0        0   \n",
       "...          ...       ...       ...  ...      ...      ...      ...      ...   \n",
       "81962  -0.850491 -0.332714 -0.310491  ...        0        0        0        0   \n",
       "270085  1.268036 -0.332714 -0.310491  ...        1        0        0        0   \n",
       "335966  0.144580 -0.332714 -0.310491  ...        1        0        0        0   \n",
       "87136  -0.188867 -0.332714 -0.310491  ...        1        0        0        0   \n",
       "404838 -0.477133  0.275650 -0.310491  ...        0        0        0        0   \n",
       "\n",
       "        TfcTp_6  TfcTp_7  TfcTp_8  TfcTp_9  VstTp_1  VstTp_2  \n",
       "199738        0        0        0        0        0        0  \n",
       "52555         0        0        0        0        0        0  \n",
       "311137        0        0        0        0        0        0  \n",
       "325494        0        0        0        0        0        0  \n",
       "379185        0        0        0        0        0        0  \n",
       "...         ...      ...      ...      ...      ...      ...  \n",
       "81962         0        0        1        0        0        0  \n",
       "270085        0        0        0        0        0        0  \n",
       "335966        0        0        0        0        1        0  \n",
       "87136         0        0        0        0        0        0  \n",
       "404838        0        0        0        0        0        0  \n",
       "\n",
       "[337434 rows x 52 columns]"
      ]
     },
     "execution_count": 123,
     "metadata": {},
     "output_type": "execute_result"
    }
   ],
   "source": [
    "# combining the dataframes to one\n",
    "X_train_preprocessed = pd.concat(\n",
    "    [X_train_scaled, X_train_dummy],\n",
    "    axis=1\n",
    ")\n",
    "\n",
    "X_test_preprocessed = pd.concat(\n",
    "    [X_test_scaled, X_test_dummy],\n",
    "    axis=1\n",
    ")\n",
    "\n",
    "X_train_preprocessed"
   ]
  },
  {
   "cell_type": "markdown",
   "metadata": {},
   "source": [
    "## 1. Baseline model"
   ]
  },
  {
   "cell_type": "markdown",
   "metadata": {},
   "source": [
    "For our case we first fit a Logistic regression model"
   ]
  },
  {
   "cell_type": "code",
   "execution_count": 127,
   "metadata": {},
   "outputs": [
    {
     "data": {
      "text/plain": [
       "Rev\n",
       "0.0    0.775805\n",
       "1.0    0.224195\n",
       "Name: proportion, dtype: float64"
      ]
     },
     "execution_count": 127,
     "metadata": {},
     "output_type": "execute_result"
    }
   ],
   "source": [
    "y_train.value_counts(normalize=True)"
   ]
  },
  {
   "cell_type": "markdown",
   "metadata": {},
   "source": [
    "There is class imbalance in the target variable with about 78% of the sessions leading to no purchases and other 22% to purchases.\n",
    "\n",
    "We first fit a baseline model with the data as is.\n"
   ]
  },
  {
   "cell_type": "code",
   "execution_count": 131,
   "metadata": {},
   "outputs": [
    {
     "data": {
      "text/html": [
       "<style>#sk-container-id-3 {color: black;background-color: white;}#sk-container-id-3 pre{padding: 0;}#sk-container-id-3 div.sk-toggleable {background-color: white;}#sk-container-id-3 label.sk-toggleable__label {cursor: pointer;display: block;width: 100%;margin-bottom: 0;padding: 0.3em;box-sizing: border-box;text-align: center;}#sk-container-id-3 label.sk-toggleable__label-arrow:before {content: \"▸\";float: left;margin-right: 0.25em;color: #696969;}#sk-container-id-3 label.sk-toggleable__label-arrow:hover:before {color: black;}#sk-container-id-3 div.sk-estimator:hover label.sk-toggleable__label-arrow:before {color: black;}#sk-container-id-3 div.sk-toggleable__content {max-height: 0;max-width: 0;overflow: hidden;text-align: left;background-color: #f0f8ff;}#sk-container-id-3 div.sk-toggleable__content pre {margin: 0.2em;color: black;border-radius: 0.25em;background-color: #f0f8ff;}#sk-container-id-3 input.sk-toggleable__control:checked~div.sk-toggleable__content {max-height: 200px;max-width: 100%;overflow: auto;}#sk-container-id-3 input.sk-toggleable__control:checked~label.sk-toggleable__label-arrow:before {content: \"▾\";}#sk-container-id-3 div.sk-estimator input.sk-toggleable__control:checked~label.sk-toggleable__label {background-color: #d4ebff;}#sk-container-id-3 div.sk-label input.sk-toggleable__control:checked~label.sk-toggleable__label {background-color: #d4ebff;}#sk-container-id-3 input.sk-hidden--visually {border: 0;clip: rect(1px 1px 1px 1px);clip: rect(1px, 1px, 1px, 1px);height: 1px;margin: -1px;overflow: hidden;padding: 0;position: absolute;width: 1px;}#sk-container-id-3 div.sk-estimator {font-family: monospace;background-color: #f0f8ff;border: 1px dotted black;border-radius: 0.25em;box-sizing: border-box;margin-bottom: 0.5em;}#sk-container-id-3 div.sk-estimator:hover {background-color: #d4ebff;}#sk-container-id-3 div.sk-parallel-item::after {content: \"\";width: 100%;border-bottom: 1px solid gray;flex-grow: 1;}#sk-container-id-3 div.sk-label:hover label.sk-toggleable__label {background-color: #d4ebff;}#sk-container-id-3 div.sk-serial::before {content: \"\";position: absolute;border-left: 1px solid gray;box-sizing: border-box;top: 0;bottom: 0;left: 50%;z-index: 0;}#sk-container-id-3 div.sk-serial {display: flex;flex-direction: column;align-items: center;background-color: white;padding-right: 0.2em;padding-left: 0.2em;position: relative;}#sk-container-id-3 div.sk-item {position: relative;z-index: 1;}#sk-container-id-3 div.sk-parallel {display: flex;align-items: stretch;justify-content: center;background-color: white;position: relative;}#sk-container-id-3 div.sk-item::before, #sk-container-id-3 div.sk-parallel-item::before {content: \"\";position: absolute;border-left: 1px solid gray;box-sizing: border-box;top: 0;bottom: 0;left: 50%;z-index: -1;}#sk-container-id-3 div.sk-parallel-item {display: flex;flex-direction: column;z-index: 1;position: relative;background-color: white;}#sk-container-id-3 div.sk-parallel-item:first-child::after {align-self: flex-end;width: 50%;}#sk-container-id-3 div.sk-parallel-item:last-child::after {align-self: flex-start;width: 50%;}#sk-container-id-3 div.sk-parallel-item:only-child::after {width: 0;}#sk-container-id-3 div.sk-dashed-wrapped {border: 1px dashed gray;margin: 0 0.4em 0.5em 0.4em;box-sizing: border-box;padding-bottom: 0.4em;background-color: white;}#sk-container-id-3 div.sk-label label {font-family: monospace;font-weight: bold;display: inline-block;line-height: 1.2em;}#sk-container-id-3 div.sk-label-container {text-align: center;}#sk-container-id-3 div.sk-container {/* jupyter's `normalize.less` sets `[hidden] { display: none; }` but bootstrap.min.css set `[hidden] { display: none !important; }` so we also need the `!important` here to be able to override the default hidden behavior on the sphinx rendered scikit-learn.org. See: https://github.com/scikit-learn/scikit-learn/issues/21755 */display: inline-block !important;position: relative;}#sk-container-id-3 div.sk-text-repr-fallback {display: none;}</style><div id=\"sk-container-id-3\" class=\"sk-top-container\"><div class=\"sk-text-repr-fallback\"><pre>LogisticRegression(random_state=20, solver=&#x27;liblinear&#x27;)</pre><b>In a Jupyter environment, please rerun this cell to show the HTML representation or trust the notebook. <br />On GitHub, the HTML representation is unable to render, please try loading this page with nbviewer.org.</b></div><div class=\"sk-container\" hidden><div class=\"sk-item\"><div class=\"sk-estimator sk-toggleable\"><input class=\"sk-toggleable__control sk-hidden--visually\" id=\"sk-estimator-id-3\" type=\"checkbox\" checked><label for=\"sk-estimator-id-3\" class=\"sk-toggleable__label sk-toggleable__label-arrow\">LogisticRegression</label><div class=\"sk-toggleable__content\"><pre>LogisticRegression(random_state=20, solver=&#x27;liblinear&#x27;)</pre></div></div></div></div></div>"
      ],
      "text/plain": [
       "LogisticRegression(random_state=20, solver='liblinear')"
      ]
     },
     "execution_count": 131,
     "metadata": {},
     "output_type": "execute_result"
    }
   ],
   "source": [
    "baseline_model = LogisticRegression(random_state=random_state, solver='liblinear')\n",
    "baseline_model.fit(X_train_preprocessed, y_train)"
   ]
  },
  {
   "cell_type": "markdown",
   "metadata": {},
   "source": [
    "### Evaluation of the baseline model"
   ]
  },
  {
   "cell_type": "markdown",
   "metadata": {},
   "source": [
    "We use the log loss to measure the performance of the model. We measure both log loss in the performance of the model on train data and also use cross validation and get the log loss."
   ]
  },
  {
   "cell_type": "code",
   "execution_count": 134,
   "metadata": {},
   "outputs": [],
   "source": [
    "# importing the modules\n",
    "from sklearn.metrics import log_loss\n",
    "from sklearn.model_selection import cross_val_score\n",
    "\n",
    "# function for validation\n",
    "def get_train_val_loss(model, X, y):\n",
    "    \"\"\"calculates the validation log loss and the train log loss\n",
    "    Args:\n",
    "        model: the model\n",
    "        X: the model features for train data\n",
    "        y: the target in the train data\n",
    "    Returns:\n",
    "        train_loss: the log loss of the training data\n",
    "        val_loss: validation log loss\n",
    "    \"\"\"\n",
    "    y_pred = model.decision_function(X)\n",
    "    train_loss = log_loss(y, y_pred )\n",
    "    \n",
    "    # use cross validation\n",
    "    val_scores = cross_val_score(model,\n",
    "                                 X,\n",
    "                                 y,\n",
    "                                 cv=10,\n",
    "                                 scoring='neg_log_loss')\n",
    "    val_loss = -val_scores.mean()\n",
    "    return train_loss, val_loss"
   ]
  },
  {
   "cell_type": "code",
   "execution_count": 136,
   "metadata": {},
   "outputs": [
    {
     "name": "stdout",
     "output_type": "stream",
     "text": [
      "Baseline model train log loss:  6.4909192012304135\n",
      "Baseline_model validation log loss:  0.4416013461857381\n"
     ]
    }
   ],
   "source": [
    "# Get the log loss for train and validation\n",
    "baseline_train_loss, baseline_validation_loss = get_train_val_loss(\n",
    "    baseline_model,\n",
    "    X_train_preprocessed,\n",
    "    y_train\n",
    ")\n",
    "\n",
    "print('Baseline model train log loss: ', baseline_train_loss)\n",
    "print('Baseline_model validation log loss: ', baseline_validation_loss)"
   ]
  },
  {
   "cell_type": "markdown",
   "metadata": {},
   "source": [
    "This model performs better in the validation data, but this could mean underfitting due to the difference in the log loss between train and validation data performance."
   ]
  },
  {
   "cell_type": "markdown",
   "metadata": {},
   "source": [
    "## 2. Fix class imbalance"
   ]
  },
  {
   "cell_type": "markdown",
   "metadata": {},
   "source": [
    "There is class imbalance in the targer with about 78% for one class and 22% for the other.\n",
    "\n",
    "We use SMOTE oversampling to fix this."
   ]
  },
  {
   "cell_type": "code",
   "execution_count": 142,
   "metadata": {},
   "outputs": [
    {
     "name": "stdout",
     "output_type": "stream",
     "text": [
      "Oversampled model train log loss: 6.873874228343664\n",
      "Oversampled model val log loss: 0.5410221662606414\n"
     ]
    }
   ],
   "source": [
    "from imblearn.over_sampling import SMOTE\n",
    "\n",
    "# initialize smote\n",
    "sm = SMOTE(random_state=random_state)\n",
    "\n",
    "# oversample with smote\n",
    "X_train_oversampled, y_train_oversampled = sm.fit_resample(\n",
    "    X_train_preprocessed,\n",
    "    y_train\n",
    ")\n",
    "\n",
    "# fit new model\n",
    "oversampled_model = LogisticRegression(random_state=random_state,\n",
    "                                       solver='liblinear')\n",
    "\n",
    "oversampled_model.fit(X_train_oversampled, y_train_oversampled)\n",
    "\n",
    "# get log loss\n",
    "ovesampled_train_loss, oversampled_val_loss = get_train_val_loss(oversampled_model,\n",
    "                                                                 X_train_oversampled,\n",
    "                                                                 y_train_oversampled)\n",
    "print('Oversampled model train log loss:', ovesampled_train_loss)\n",
    "print('Oversampled model val log loss:', oversampled_val_loss)"
   ]
  },
  {
   "cell_type": "code",
   "execution_count": 158,
   "metadata": {},
   "outputs": [],
   "source": [
    "from sklearn.model_selection import StratifiedKFold\n",
    "from sklearn.base import clone\n",
    "from sklearn.metrics import make_scorer\n",
    "\n",
    "neg_log_loss = make_scorer(log_loss, greater_is_better=False, needs_proba=True)\n",
    "\n",
    "def custom_cross_val_score(estimator, X, y):\n",
    "    # Create a list to hold the scores from each fold\n",
    "    kfold_train_scores = np.ndarray(5)\n",
    "    kfold_val_scores = np.ndarray(5)\n",
    "\n",
    "    # Instantiate a splitter object and loop over its result\n",
    "    kfold = StratifiedKFold(n_splits=5)\n",
    "    for fold, (train_index, val_index) in enumerate(kfold.split(X, y)):\n",
    "        # Extract train and validation subsets using the provided indices\n",
    "        X_t, X_val = X.iloc[train_index], X.iloc[val_index]\n",
    "        y_t, y_val = y.iloc[train_index], y.iloc[val_index]\n",
    "\n",
    "        # Instantiate StandardScaler\n",
    "        scaler = StandardScaler()\n",
    "        # Fit and transform X_t\n",
    "        X_t_scaled = scaler.fit_transform(X_t)\n",
    "        # Transform X_val\n",
    "        X_val_scaled = scaler.transform(X_val)\n",
    "\n",
    "        # Instantiate SMOTE with random_state=42 and sampling_strategy=0.28\n",
    "        sm = SMOTE(random_state=42, sampling_strategy='auto')\n",
    "        # Fit and transform X_t_scaled and y_t using sm\n",
    "        X_t_oversampled, y_t_oversampled = sm.fit_resample(X_t_scaled, y_t)\n",
    "\n",
    "        # Clone the provided model and fit it on the train subset\n",
    "        temp_model = clone(estimator)\n",
    "        temp_model.fit(X_t_oversampled, y_t_oversampled)\n",
    "\n",
    "        # Evaluate the provided model on the train and validation subsets\n",
    "        neg_log_loss_score_train = neg_log_loss(\n",
    "            temp_model, X_t_oversampled, y_t_oversampled)\n",
    "        neg_log_loss_score_val = neg_log_loss(temp_model, X_val_scaled, y_val)\n",
    "        kfold_train_scores[fold] = neg_log_loss_score_train\n",
    "        kfold_val_scores[fold] = neg_log_loss_score_val\n",
    "\n",
    "    return kfold_train_scores, kfold_val_scores"
   ]
  },
  {
   "cell_type": "markdown",
   "metadata": {},
   "source": [
    "This model performs worse than the baseline model. Lets try to reduce the regularization."
   ]
  },
  {
   "cell_type": "markdown",
   "metadata": {},
   "source": [
    "## 3. Less regularization"
   ]
  },
  {
   "cell_type": "code",
   "execution_count": 159,
   "metadata": {},
   "outputs": [
    {
     "name": "stdout",
     "output_type": "stream",
     "text": [
      "Less regularization model log loss on train data: [-0.55806728 -0.55811595 -0.55842037 -0.55776477 -0.55793691]\n",
      "Less Regularization model log loss on validation: [-0.56572202 -0.56735841 -0.5663552  -0.56531243 -0.56510882]\n"
     ]
    }
   ],
   "source": [
    "less_reg_model = LogisticRegression(solver='liblinear',\n",
    "                                    random_state=random_state,\n",
    "                                    C=1e6)\n",
    "# fitting model\n",
    "less_reg_model.fit(X_train_oversampled, y_train_oversampled)\n",
    "\n",
    "# log loss\n",
    "# less_reg_train_loss, less_reg_val_loss = get_train_val_loss(less_reg_model,\n",
    "#                                                             X_train_oversampled,\n",
    "#                                                             y_train_oversampled\n",
    "#                                                             )\n",
    "\n",
    "less_reg_train_loss, less_reg_val_loss = custom_cross_val_score(less_reg_model,\n",
    "                                                            X_train,\n",
    "                                                            y_train\n",
    "                                                            )\n",
    "print('Less regularization model log loss on train data:', less_reg_train_loss)\n",
    "print('Less Regularization model log loss on validation:', less_reg_val_loss)"
   ]
  },
  {
   "cell_type": "markdown",
   "metadata": {},
   "source": [
    "There is a small improvement on performance in the validation data but still , the model is worse than the baseline model. We can try changing the penalty to l1."
   ]
  },
  {
   "cell_type": "markdown",
   "metadata": {},
   "source": [
    "## 4. L1 regularization"
   ]
  },
  {
   "cell_type": "code",
   "execution_count": 148,
   "metadata": {},
   "outputs": [
    {
     "name": "stdout",
     "output_type": "stream",
     "text": [
      "Less regularization model log loss on train data: 6.875125254154911\n",
      "Less Regularization model log loss on validation: 0.5410212400982571\n"
     ]
    }
   ],
   "source": [
    "l1_model = LogisticRegression(solver='saga',\n",
    "                              random_state=random_state,\n",
    "                              penalty='l1')\n",
    "\n",
    "l1_model.fit(X_train_oversampled, y_train_oversampled)\n",
    "\n",
    "# log loss\n",
    "l1_train_loss, l1_val_loss = get_train_val_loss(l1_model,\n",
    "                                                X_train_oversampled,\n",
    "                                                y_train_oversampled\n",
    "                                                )\n",
    "\n",
    "print('Less regularization model log loss on train data:', l1_train_loss)\n",
    "print('Less Regularization model log loss on validation:', l1_val_loss)"
   ]
  },
  {
   "cell_type": "markdown",
   "metadata": {},
   "source": [
    "There is a slight improvement in this model. Lest try other Regularization method and compare."
   ]
  },
  {
   "cell_type": "markdown",
   "metadata": {},
   "source": [
    "## 5. Elasticnet regularization"
   ]
  },
  {
   "cell_type": "code",
   "execution_count": 151,
   "metadata": {},
   "outputs": [
    {
     "name": "stdout",
     "output_type": "stream",
     "text": [
      "Less regularization model log loss on train data: 6.87424822485259\n",
      "Less Regularization model log loss on validation: 0.5410212077747003\n"
     ]
    }
   ],
   "source": [
    "elasticnet_model = LogisticRegression(solver='saga',\n",
    "                                      random_state=random_state,\n",
    "                                      penalty='elasticnet',\n",
    "                                      l1_ratio=.5)\n",
    "\n",
    "elasticnet_model.fit(X_train_oversampled, y_train_oversampled)\n",
    "\n",
    "# log loss\n",
    "elasticnet_train_loss, elasticnet_val_loss = get_train_val_loss(\n",
    "    elasticnet_model,\n",
    "    X_train_oversampled,\n",
    "    y_train_oversampled\n",
    ")\n",
    "\n",
    "print('Elasticnet model log loss on train data:', elasticnet_train_loss)\n",
    "print('Elasticnet model log loss on validation:', elasticnet_val_loss)"
   ]
  },
  {
   "cell_type": "markdown",
   "metadata": {},
   "source": [
    "This is slightly better than the l1 model but all this models are performing worse than the baseline model.\n",
    "lets try reducing the regularization and increasing iterations"
   ]
  },
  {
   "cell_type": "code",
   "execution_count": null,
   "metadata": {},
   "outputs": [],
   "source": []
  }
 ],
 "metadata": {
  "kernelspec": {
   "display_name": "base",
   "language": "python",
   "name": "python3"
  },
  "language_info": {
   "codemirror_mode": {
    "name": "ipython",
    "version": 3
   },
   "file_extension": ".py",
   "mimetype": "text/x-python",
   "name": "python",
   "nbconvert_exporter": "python",
   "pygments_lexer": "ipython3",
   "version": "3.11.7"
  }
 },
 "nbformat": 4,
 "nbformat_minor": 2
}
