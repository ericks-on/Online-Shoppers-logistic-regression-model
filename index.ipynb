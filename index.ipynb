{
 "cells": [
  {
   "cell_type": "markdown",
   "metadata": {},
   "source": [
    "# Business-Understanding\n",
    "\n",
    "As a Data Scientist, your task is to develop a predictive model to identify purchase intent for a segment of our online users. The goal is to accurately predict which users are likely to make a purchase during their web session, enabling the business to target potential buyers more effectively."
   ]
  },
  {
   "cell_type": "markdown",
   "metadata": {},
   "source": [
    "# Data-Understanding\n",
    "\n",
    "The data is from [Kaggle](https://www.kaggle.com/competitions/22122shop/data)\n",
    "\n",
    "There are 18 variables with 10 quantitative and 7 categorical input features, 500K observations (one row or web session per online user) in a tabular format with the first 50K rows missing the Rev revenue flag (1 for purchase intent and 0 otherwise). The data was collected for the period of 1 year.\n",
    "\n",
    "Features description (from the dataset authors):\n",
    "\n",
    "1. `Administrative (Adm)`, `Informational (Inf)`,` Product Related (Prd)`: \n",
    "    - counts of different page types viewed by the user in that session. Values are derived from the URL information of the pages visited by the user and updated in real time when a user takes an action, e.g. moving from one page to another.\n",
    "2. `Administrative Duration (AdmDur)`, `Informational Duration (InfDur)`, and `Product Related Duration (PrdDur)`: \n",
    "    - total time spent on the page of the specified type.\n",
    "3. `Bounce Rate (BncRt):` \n",
    "    - %visitors who enter the site from that page and then leave (\"bounce\") without triggering any other requests to the analytics server during that session. Measured by Google Analytics\n",
    "4. `Exit Rate (ExtRt)`: \n",
    "    - %visitors that were the last in the session. Calculated as for all pageviews to the page. Measured by Google Analytics.\n",
    "5. `Page Value (PgVal)`: \n",
    "    - average value for a web page that the user visited before completing an e-commerce transaction.\n",
    "6. `Special Day (SpclDay)`: \n",
    "    - closeness of the site visiting time to a specific special day (e.g. Mother’s Day, Valentine's Day) in which the sessions are more likely to be finalized with transaction. The value of this attribute is determined by considering the dynamics of e-commerce such as the duration between the order date and delivery date. For example, for Valentine's day, this value takes a nonzero value between Feb 2 and Feb 12, zero before and after this date unless it is close to another special day, and its maximum value of 1 on Feb 8.\n",
    "7. `Operating system (OS)` of the user's PC\n",
    "8. `Browser (Bsr)`: web user's web browser\n",
    "9. `Region (Rgn) `of the web user\n",
    "10. `Traffic type (TfcTp)`: TBD\n",
    "11. `Visitor type (VstTp)`: Type of visitor\n",
    "12. `Weekend (Wknd)`: whether the page view event took place on weekend\n",
    "13. `Month of the year (Mo)`: the month of the page view event"
   ]
  },
  {
   "cell_type": "code",
   "execution_count": 17,
   "metadata": {},
   "outputs": [],
   "source": [
    "import pandas as pd\n",
    "import numpy as np\n",
    "import matplotlib.pyplot as plt\n",
    "import seaborn as sns\n",
    "%matplotlib inline"
   ]
  },
  {
   "cell_type": "code",
   "execution_count": 18,
   "metadata": {},
   "outputs": [],
   "source": [
    "sns.set_style('darkgrid')"
   ]
  },
  {
   "cell_type": "code",
   "execution_count": 19,
   "metadata": {},
   "outputs": [
    {
     "data": {
      "text/html": [
       "<div>\n",
       "<style scoped>\n",
       "    .dataframe tbody tr th:only-of-type {\n",
       "        vertical-align: middle;\n",
       "    }\n",
       "\n",
       "    .dataframe tbody tr th {\n",
       "        vertical-align: top;\n",
       "    }\n",
       "\n",
       "    .dataframe thead th {\n",
       "        text-align: right;\n",
       "    }\n",
       "</style>\n",
       "<table border=\"1\" class=\"dataframe\">\n",
       "  <thead>\n",
       "    <tr style=\"text-align: right;\">\n",
       "      <th></th>\n",
       "      <th>Adm</th>\n",
       "      <th>AdmDur</th>\n",
       "      <th>Inf</th>\n",
       "      <th>InfDur</th>\n",
       "      <th>Prd</th>\n",
       "      <th>PrdDur</th>\n",
       "      <th>BncRt</th>\n",
       "      <th>ExtRt</th>\n",
       "      <th>PgVal</th>\n",
       "      <th>SpclDay</th>\n",
       "      <th>Mo</th>\n",
       "      <th>OS</th>\n",
       "      <th>Bsr</th>\n",
       "      <th>Rgn</th>\n",
       "      <th>TfcTp</th>\n",
       "      <th>VstTp</th>\n",
       "      <th>Wkd</th>\n",
       "      <th>Rev</th>\n",
       "    </tr>\n",
       "  </thead>\n",
       "  <tbody>\n",
       "    <tr>\n",
       "      <th>0</th>\n",
       "      <td>0</td>\n",
       "      <td>0.00</td>\n",
       "      <td>0</td>\n",
       "      <td>0.00</td>\n",
       "      <td>18</td>\n",
       "      <td>132.99</td>\n",
       "      <td>0.038211</td>\n",
       "      <td>0.054523</td>\n",
       "      <td>0.000000</td>\n",
       "      <td>0.0</td>\n",
       "      <td>4</td>\n",
       "      <td>3</td>\n",
       "      <td>1</td>\n",
       "      <td>1</td>\n",
       "      <td>2</td>\n",
       "      <td>0</td>\n",
       "      <td>1</td>\n",
       "      <td>NaN</td>\n",
       "    </tr>\n",
       "    <tr>\n",
       "      <th>1</th>\n",
       "      <td>1</td>\n",
       "      <td>0.00</td>\n",
       "      <td>0</td>\n",
       "      <td>0.00</td>\n",
       "      <td>37</td>\n",
       "      <td>1150.20</td>\n",
       "      <td>0.001245</td>\n",
       "      <td>0.030321</td>\n",
       "      <td>0.000000</td>\n",
       "      <td>0.0</td>\n",
       "      <td>11</td>\n",
       "      <td>2</td>\n",
       "      <td>2</td>\n",
       "      <td>4</td>\n",
       "      <td>2</td>\n",
       "      <td>0</td>\n",
       "      <td>1</td>\n",
       "      <td>NaN</td>\n",
       "    </tr>\n",
       "    <tr>\n",
       "      <th>2</th>\n",
       "      <td>6</td>\n",
       "      <td>191.98</td>\n",
       "      <td>0</td>\n",
       "      <td>0.00</td>\n",
       "      <td>38</td>\n",
       "      <td>1266.78</td>\n",
       "      <td>0.004742</td>\n",
       "      <td>0.019551</td>\n",
       "      <td>17.816864</td>\n",
       "      <td>0.0</td>\n",
       "      <td>10</td>\n",
       "      <td>2</td>\n",
       "      <td>3</td>\n",
       "      <td>1</td>\n",
       "      <td>3</td>\n",
       "      <td>0</td>\n",
       "      <td>0</td>\n",
       "      <td>NaN</td>\n",
       "    </tr>\n",
       "    <tr>\n",
       "      <th>3</th>\n",
       "      <td>3</td>\n",
       "      <td>263.68</td>\n",
       "      <td>0</td>\n",
       "      <td>0.00</td>\n",
       "      <td>24</td>\n",
       "      <td>749.14</td>\n",
       "      <td>0.004474</td>\n",
       "      <td>0.024079</td>\n",
       "      <td>14.578547</td>\n",
       "      <td>0.0</td>\n",
       "      <td>7</td>\n",
       "      <td>2</td>\n",
       "      <td>2</td>\n",
       "      <td>2</td>\n",
       "      <td>1</td>\n",
       "      <td>0</td>\n",
       "      <td>1</td>\n",
       "      <td>NaN</td>\n",
       "    </tr>\n",
       "    <tr>\n",
       "      <th>4</th>\n",
       "      <td>0</td>\n",
       "      <td>0.00</td>\n",
       "      <td>0</td>\n",
       "      <td>0.00</td>\n",
       "      <td>3</td>\n",
       "      <td>136.41</td>\n",
       "      <td>0.000000</td>\n",
       "      <td>0.066300</td>\n",
       "      <td>0.000000</td>\n",
       "      <td>0.0</td>\n",
       "      <td>12</td>\n",
       "      <td>1</td>\n",
       "      <td>1</td>\n",
       "      <td>3</td>\n",
       "      <td>3</td>\n",
       "      <td>1</td>\n",
       "      <td>0</td>\n",
       "      <td>NaN</td>\n",
       "    </tr>\n",
       "    <tr>\n",
       "      <th>...</th>\n",
       "      <td>...</td>\n",
       "      <td>...</td>\n",
       "      <td>...</td>\n",
       "      <td>...</td>\n",
       "      <td>...</td>\n",
       "      <td>...</td>\n",
       "      <td>...</td>\n",
       "      <td>...</td>\n",
       "      <td>...</td>\n",
       "      <td>...</td>\n",
       "      <td>...</td>\n",
       "      <td>...</td>\n",
       "      <td>...</td>\n",
       "      <td>...</td>\n",
       "      <td>...</td>\n",
       "      <td>...</td>\n",
       "      <td>...</td>\n",
       "      <td>...</td>\n",
       "    </tr>\n",
       "    <tr>\n",
       "      <th>499995</th>\n",
       "      <td>14</td>\n",
       "      <td>262.46</td>\n",
       "      <td>0</td>\n",
       "      <td>0.00</td>\n",
       "      <td>170</td>\n",
       "      <td>3967.02</td>\n",
       "      <td>0.003314</td>\n",
       "      <td>0.015669</td>\n",
       "      <td>2.904034</td>\n",
       "      <td>0.0</td>\n",
       "      <td>12</td>\n",
       "      <td>2</td>\n",
       "      <td>2</td>\n",
       "      <td>4</td>\n",
       "      <td>2</td>\n",
       "      <td>0</td>\n",
       "      <td>0</td>\n",
       "      <td>0.0</td>\n",
       "    </tr>\n",
       "    <tr>\n",
       "      <th>499996</th>\n",
       "      <td>0</td>\n",
       "      <td>0.00</td>\n",
       "      <td>0</td>\n",
       "      <td>0.00</td>\n",
       "      <td>7</td>\n",
       "      <td>295.57</td>\n",
       "      <td>0.000000</td>\n",
       "      <td>0.000000</td>\n",
       "      <td>0.000000</td>\n",
       "      <td>0.0</td>\n",
       "      <td>9</td>\n",
       "      <td>1</td>\n",
       "      <td>5</td>\n",
       "      <td>4</td>\n",
       "      <td>3</td>\n",
       "      <td>0</td>\n",
       "      <td>0</td>\n",
       "      <td>0.0</td>\n",
       "    </tr>\n",
       "    <tr>\n",
       "      <th>499997</th>\n",
       "      <td>6</td>\n",
       "      <td>134.64</td>\n",
       "      <td>3</td>\n",
       "      <td>92.28</td>\n",
       "      <td>30</td>\n",
       "      <td>888.50</td>\n",
       "      <td>0.000000</td>\n",
       "      <td>0.003452</td>\n",
       "      <td>30.172020</td>\n",
       "      <td>0.0</td>\n",
       "      <td>11</td>\n",
       "      <td>2</td>\n",
       "      <td>2</td>\n",
       "      <td>1</td>\n",
       "      <td>4</td>\n",
       "      <td>0</td>\n",
       "      <td>0</td>\n",
       "      <td>0.0</td>\n",
       "    </tr>\n",
       "    <tr>\n",
       "      <th>499998</th>\n",
       "      <td>0</td>\n",
       "      <td>0.00</td>\n",
       "      <td>0</td>\n",
       "      <td>0.00</td>\n",
       "      <td>27</td>\n",
       "      <td>1185.14</td>\n",
       "      <td>0.000000</td>\n",
       "      <td>0.001593</td>\n",
       "      <td>0.000000</td>\n",
       "      <td>0.0</td>\n",
       "      <td>5</td>\n",
       "      <td>2</td>\n",
       "      <td>2</td>\n",
       "      <td>2</td>\n",
       "      <td>3</td>\n",
       "      <td>0</td>\n",
       "      <td>1</td>\n",
       "      <td>0.0</td>\n",
       "    </tr>\n",
       "    <tr>\n",
       "      <th>499999</th>\n",
       "      <td>6</td>\n",
       "      <td>51.36</td>\n",
       "      <td>0</td>\n",
       "      <td>0.00</td>\n",
       "      <td>59</td>\n",
       "      <td>1898.21</td>\n",
       "      <td>0.000000</td>\n",
       "      <td>0.003224</td>\n",
       "      <td>0.000000</td>\n",
       "      <td>0.0</td>\n",
       "      <td>12</td>\n",
       "      <td>2</td>\n",
       "      <td>2</td>\n",
       "      <td>2</td>\n",
       "      <td>1</td>\n",
       "      <td>0</td>\n",
       "      <td>0</td>\n",
       "      <td>0.0</td>\n",
       "    </tr>\n",
       "  </tbody>\n",
       "</table>\n",
       "<p>500000 rows × 18 columns</p>\n",
       "</div>"
      ],
      "text/plain": [
       "        Adm  AdmDur  Inf  InfDur  Prd   PrdDur     BncRt     ExtRt      PgVal  \\\n",
       "0         0    0.00    0    0.00   18   132.99  0.038211  0.054523   0.000000   \n",
       "1         1    0.00    0    0.00   37  1150.20  0.001245  0.030321   0.000000   \n",
       "2         6  191.98    0    0.00   38  1266.78  0.004742  0.019551  17.816864   \n",
       "3         3  263.68    0    0.00   24   749.14  0.004474  0.024079  14.578547   \n",
       "4         0    0.00    0    0.00    3   136.41  0.000000  0.066300   0.000000   \n",
       "...     ...     ...  ...     ...  ...      ...       ...       ...        ...   \n",
       "499995   14  262.46    0    0.00  170  3967.02  0.003314  0.015669   2.904034   \n",
       "499996    0    0.00    0    0.00    7   295.57  0.000000  0.000000   0.000000   \n",
       "499997    6  134.64    3   92.28   30   888.50  0.000000  0.003452  30.172020   \n",
       "499998    0    0.00    0    0.00   27  1185.14  0.000000  0.001593   0.000000   \n",
       "499999    6   51.36    0    0.00   59  1898.21  0.000000  0.003224   0.000000   \n",
       "\n",
       "        SpclDay  Mo  OS  Bsr  Rgn  TfcTp  VstTp  Wkd  Rev  \n",
       "0           0.0   4   3    1    1      2      0    1  NaN  \n",
       "1           0.0  11   2    2    4      2      0    1  NaN  \n",
       "2           0.0  10   2    3    1      3      0    0  NaN  \n",
       "3           0.0   7   2    2    2      1      0    1  NaN  \n",
       "4           0.0  12   1    1    3      3      1    0  NaN  \n",
       "...         ...  ..  ..  ...  ...    ...    ...  ...  ...  \n",
       "499995      0.0  12   2    2    4      2      0    0  0.0  \n",
       "499996      0.0   9   1    5    4      3      0    0  0.0  \n",
       "499997      0.0  11   2    2    1      4      0    0  0.0  \n",
       "499998      0.0   5   2    2    2      3      0    1  0.0  \n",
       "499999      0.0  12   2    2    2      1      0    0  0.0  \n",
       "\n",
       "[500000 rows x 18 columns]"
      ]
     },
     "execution_count": 19,
     "metadata": {},
     "output_type": "execute_result"
    }
   ],
   "source": [
    "df = pd.read_csv('XY_Shop.csv')\n",
    "df"
   ]
  },
  {
   "cell_type": "markdown",
   "metadata": {},
   "source": [
    "# EDA"
   ]
  },
  {
   "cell_type": "markdown",
   "metadata": {},
   "source": [
    "## Data-Cleaning"
   ]
  },
  {
   "cell_type": "markdown",
   "metadata": {},
   "source": [
    "We first split the data to remove the rows with missing values in the rev column."
   ]
  },
  {
   "cell_type": "code",
   "execution_count": 20,
   "metadata": {},
   "outputs": [
    {
     "data": {
      "text/plain": [
       "50000"
      ]
     },
     "execution_count": 20,
     "metadata": {},
     "output_type": "execute_result"
    }
   ],
   "source": [
    "# checking the missing values\n",
    "df.isna().sum().sum()"
   ]
  },
  {
   "cell_type": "code",
   "execution_count": 21,
   "metadata": {},
   "outputs": [
    {
     "name": "stdout",
     "output_type": "stream",
     "text": [
      "<class 'pandas.core.frame.DataFrame'>\n",
      "Index: 450000 entries, 50000 to 499999\n",
      "Data columns (total 18 columns):\n",
      " #   Column   Non-Null Count   Dtype  \n",
      "---  ------   --------------   -----  \n",
      " 0   Adm      450000 non-null  int64  \n",
      " 1   AdmDur   450000 non-null  float64\n",
      " 2   Inf      450000 non-null  int64  \n",
      " 3   InfDur   450000 non-null  float64\n",
      " 4   Prd      450000 non-null  int64  \n",
      " 5   PrdDur   450000 non-null  float64\n",
      " 6   BncRt    450000 non-null  float64\n",
      " 7   ExtRt    450000 non-null  float64\n",
      " 8   PgVal    450000 non-null  float64\n",
      " 9   SpclDay  450000 non-null  float64\n",
      " 10  Mo       450000 non-null  int64  \n",
      " 11  OS       450000 non-null  int64  \n",
      " 12  Bsr      450000 non-null  int64  \n",
      " 13  Rgn      450000 non-null  int64  \n",
      " 14  TfcTp    450000 non-null  int64  \n",
      " 15  VstTp    450000 non-null  int64  \n",
      " 16  Wkd      450000 non-null  int64  \n",
      " 17  Rev      450000 non-null  float64\n",
      "dtypes: float64(8), int64(10)\n",
      "memory usage: 65.2 MB\n"
     ]
    }
   ],
   "source": [
    "missing_rev = df.loc[df.Rev.isna()]\n",
    "df.dropna(inplace=True)\n",
    "df.info()"
   ]
  },
  {
   "cell_type": "markdown",
   "metadata": {},
   "source": [
    "Now we check for duplicates"
   ]
  },
  {
   "cell_type": "code",
   "execution_count": 22,
   "metadata": {},
   "outputs": [
    {
     "data": {
      "text/plain": [
       "87"
      ]
     },
     "execution_count": 22,
     "metadata": {},
     "output_type": "execute_result"
    }
   ],
   "source": [
    "df.duplicated().sum()"
   ]
  },
  {
   "cell_type": "code",
   "execution_count": 23,
   "metadata": {},
   "outputs": [
    {
     "data": {
      "text/html": [
       "<div>\n",
       "<style scoped>\n",
       "    .dataframe tbody tr th:only-of-type {\n",
       "        vertical-align: middle;\n",
       "    }\n",
       "\n",
       "    .dataframe tbody tr th {\n",
       "        vertical-align: top;\n",
       "    }\n",
       "\n",
       "    .dataframe thead th {\n",
       "        text-align: right;\n",
       "    }\n",
       "</style>\n",
       "<table border=\"1\" class=\"dataframe\">\n",
       "  <thead>\n",
       "    <tr style=\"text-align: right;\">\n",
       "      <th></th>\n",
       "      <th>Adm</th>\n",
       "      <th>AdmDur</th>\n",
       "      <th>Inf</th>\n",
       "      <th>InfDur</th>\n",
       "      <th>Prd</th>\n",
       "      <th>PrdDur</th>\n",
       "      <th>BncRt</th>\n",
       "      <th>ExtRt</th>\n",
       "      <th>PgVal</th>\n",
       "      <th>SpclDay</th>\n",
       "      <th>Mo</th>\n",
       "      <th>OS</th>\n",
       "      <th>Bsr</th>\n",
       "      <th>Rgn</th>\n",
       "      <th>TfcTp</th>\n",
       "      <th>VstTp</th>\n",
       "      <th>Wkd</th>\n",
       "      <th>Rev</th>\n",
       "    </tr>\n",
       "  </thead>\n",
       "  <tbody>\n",
       "    <tr>\n",
       "      <th>50000</th>\n",
       "      <td>0</td>\n",
       "      <td>0.00</td>\n",
       "      <td>0</td>\n",
       "      <td>0.00</td>\n",
       "      <td>1</td>\n",
       "      <td>0.00</td>\n",
       "      <td>0.157489</td>\n",
       "      <td>0.115168</td>\n",
       "      <td>0.000000</td>\n",
       "      <td>0.0</td>\n",
       "      <td>12</td>\n",
       "      <td>2</td>\n",
       "      <td>2</td>\n",
       "      <td>1</td>\n",
       "      <td>9</td>\n",
       "      <td>0</td>\n",
       "      <td>0</td>\n",
       "      <td>0.0</td>\n",
       "    </tr>\n",
       "    <tr>\n",
       "      <th>50001</th>\n",
       "      <td>7</td>\n",
       "      <td>116.19</td>\n",
       "      <td>0</td>\n",
       "      <td>0.00</td>\n",
       "      <td>79</td>\n",
       "      <td>2683.58</td>\n",
       "      <td>0.000000</td>\n",
       "      <td>0.001910</td>\n",
       "      <td>0.000000</td>\n",
       "      <td>0.0</td>\n",
       "      <td>4</td>\n",
       "      <td>2</td>\n",
       "      <td>3</td>\n",
       "      <td>2</td>\n",
       "      <td>2</td>\n",
       "      <td>1</td>\n",
       "      <td>0</td>\n",
       "      <td>0.0</td>\n",
       "    </tr>\n",
       "    <tr>\n",
       "      <th>50002</th>\n",
       "      <td>6</td>\n",
       "      <td>233.07</td>\n",
       "      <td>0</td>\n",
       "      <td>0.00</td>\n",
       "      <td>8</td>\n",
       "      <td>171.08</td>\n",
       "      <td>0.033427</td>\n",
       "      <td>0.062316</td>\n",
       "      <td>0.000000</td>\n",
       "      <td>0.0</td>\n",
       "      <td>12</td>\n",
       "      <td>2</td>\n",
       "      <td>2</td>\n",
       "      <td>2</td>\n",
       "      <td>1</td>\n",
       "      <td>0</td>\n",
       "      <td>0</td>\n",
       "      <td>0.0</td>\n",
       "    </tr>\n",
       "    <tr>\n",
       "      <th>50003</th>\n",
       "      <td>0</td>\n",
       "      <td>0.00</td>\n",
       "      <td>0</td>\n",
       "      <td>0.00</td>\n",
       "      <td>5</td>\n",
       "      <td>0.00</td>\n",
       "      <td>0.140943</td>\n",
       "      <td>0.160706</td>\n",
       "      <td>0.000000</td>\n",
       "      <td>0.0</td>\n",
       "      <td>6</td>\n",
       "      <td>2</td>\n",
       "      <td>2</td>\n",
       "      <td>3</td>\n",
       "      <td>5</td>\n",
       "      <td>0</td>\n",
       "      <td>0</td>\n",
       "      <td>0.0</td>\n",
       "    </tr>\n",
       "    <tr>\n",
       "      <th>50004</th>\n",
       "      <td>0</td>\n",
       "      <td>0.00</td>\n",
       "      <td>0</td>\n",
       "      <td>0.00</td>\n",
       "      <td>6</td>\n",
       "      <td>112.57</td>\n",
       "      <td>0.035324</td>\n",
       "      <td>0.021440</td>\n",
       "      <td>0.000000</td>\n",
       "      <td>0.0</td>\n",
       "      <td>10</td>\n",
       "      <td>2</td>\n",
       "      <td>2</td>\n",
       "      <td>4</td>\n",
       "      <td>7</td>\n",
       "      <td>1</td>\n",
       "      <td>1</td>\n",
       "      <td>0.0</td>\n",
       "    </tr>\n",
       "    <tr>\n",
       "      <th>...</th>\n",
       "      <td>...</td>\n",
       "      <td>...</td>\n",
       "      <td>...</td>\n",
       "      <td>...</td>\n",
       "      <td>...</td>\n",
       "      <td>...</td>\n",
       "      <td>...</td>\n",
       "      <td>...</td>\n",
       "      <td>...</td>\n",
       "      <td>...</td>\n",
       "      <td>...</td>\n",
       "      <td>...</td>\n",
       "      <td>...</td>\n",
       "      <td>...</td>\n",
       "      <td>...</td>\n",
       "      <td>...</td>\n",
       "      <td>...</td>\n",
       "      <td>...</td>\n",
       "    </tr>\n",
       "    <tr>\n",
       "      <th>499995</th>\n",
       "      <td>14</td>\n",
       "      <td>262.46</td>\n",
       "      <td>0</td>\n",
       "      <td>0.00</td>\n",
       "      <td>170</td>\n",
       "      <td>3967.02</td>\n",
       "      <td>0.003314</td>\n",
       "      <td>0.015669</td>\n",
       "      <td>2.904034</td>\n",
       "      <td>0.0</td>\n",
       "      <td>12</td>\n",
       "      <td>2</td>\n",
       "      <td>2</td>\n",
       "      <td>4</td>\n",
       "      <td>2</td>\n",
       "      <td>0</td>\n",
       "      <td>0</td>\n",
       "      <td>0.0</td>\n",
       "    </tr>\n",
       "    <tr>\n",
       "      <th>499996</th>\n",
       "      <td>0</td>\n",
       "      <td>0.00</td>\n",
       "      <td>0</td>\n",
       "      <td>0.00</td>\n",
       "      <td>7</td>\n",
       "      <td>295.57</td>\n",
       "      <td>0.000000</td>\n",
       "      <td>0.000000</td>\n",
       "      <td>0.000000</td>\n",
       "      <td>0.0</td>\n",
       "      <td>9</td>\n",
       "      <td>1</td>\n",
       "      <td>5</td>\n",
       "      <td>4</td>\n",
       "      <td>3</td>\n",
       "      <td>0</td>\n",
       "      <td>0</td>\n",
       "      <td>0.0</td>\n",
       "    </tr>\n",
       "    <tr>\n",
       "      <th>499997</th>\n",
       "      <td>6</td>\n",
       "      <td>134.64</td>\n",
       "      <td>3</td>\n",
       "      <td>92.28</td>\n",
       "      <td>30</td>\n",
       "      <td>888.50</td>\n",
       "      <td>0.000000</td>\n",
       "      <td>0.003452</td>\n",
       "      <td>30.172020</td>\n",
       "      <td>0.0</td>\n",
       "      <td>11</td>\n",
       "      <td>2</td>\n",
       "      <td>2</td>\n",
       "      <td>1</td>\n",
       "      <td>4</td>\n",
       "      <td>0</td>\n",
       "      <td>0</td>\n",
       "      <td>0.0</td>\n",
       "    </tr>\n",
       "    <tr>\n",
       "      <th>499998</th>\n",
       "      <td>0</td>\n",
       "      <td>0.00</td>\n",
       "      <td>0</td>\n",
       "      <td>0.00</td>\n",
       "      <td>27</td>\n",
       "      <td>1185.14</td>\n",
       "      <td>0.000000</td>\n",
       "      <td>0.001593</td>\n",
       "      <td>0.000000</td>\n",
       "      <td>0.0</td>\n",
       "      <td>5</td>\n",
       "      <td>2</td>\n",
       "      <td>2</td>\n",
       "      <td>2</td>\n",
       "      <td>3</td>\n",
       "      <td>0</td>\n",
       "      <td>1</td>\n",
       "      <td>0.0</td>\n",
       "    </tr>\n",
       "    <tr>\n",
       "      <th>499999</th>\n",
       "      <td>6</td>\n",
       "      <td>51.36</td>\n",
       "      <td>0</td>\n",
       "      <td>0.00</td>\n",
       "      <td>59</td>\n",
       "      <td>1898.21</td>\n",
       "      <td>0.000000</td>\n",
       "      <td>0.003224</td>\n",
       "      <td>0.000000</td>\n",
       "      <td>0.0</td>\n",
       "      <td>12</td>\n",
       "      <td>2</td>\n",
       "      <td>2</td>\n",
       "      <td>2</td>\n",
       "      <td>1</td>\n",
       "      <td>0</td>\n",
       "      <td>0</td>\n",
       "      <td>0.0</td>\n",
       "    </tr>\n",
       "  </tbody>\n",
       "</table>\n",
       "<p>449913 rows × 18 columns</p>\n",
       "</div>"
      ],
      "text/plain": [
       "        Adm  AdmDur  Inf  InfDur  Prd   PrdDur     BncRt     ExtRt      PgVal  \\\n",
       "50000     0    0.00    0    0.00    1     0.00  0.157489  0.115168   0.000000   \n",
       "50001     7  116.19    0    0.00   79  2683.58  0.000000  0.001910   0.000000   \n",
       "50002     6  233.07    0    0.00    8   171.08  0.033427  0.062316   0.000000   \n",
       "50003     0    0.00    0    0.00    5     0.00  0.140943  0.160706   0.000000   \n",
       "50004     0    0.00    0    0.00    6   112.57  0.035324  0.021440   0.000000   \n",
       "...     ...     ...  ...     ...  ...      ...       ...       ...        ...   \n",
       "499995   14  262.46    0    0.00  170  3967.02  0.003314  0.015669   2.904034   \n",
       "499996    0    0.00    0    0.00    7   295.57  0.000000  0.000000   0.000000   \n",
       "499997    6  134.64    3   92.28   30   888.50  0.000000  0.003452  30.172020   \n",
       "499998    0    0.00    0    0.00   27  1185.14  0.000000  0.001593   0.000000   \n",
       "499999    6   51.36    0    0.00   59  1898.21  0.000000  0.003224   0.000000   \n",
       "\n",
       "        SpclDay  Mo  OS  Bsr  Rgn  TfcTp  VstTp  Wkd  Rev  \n",
       "50000       0.0  12   2    2    1      9      0    0  0.0  \n",
       "50001       0.0   4   2    3    2      2      1    0  0.0  \n",
       "50002       0.0  12   2    2    2      1      0    0  0.0  \n",
       "50003       0.0   6   2    2    3      5      0    0  0.0  \n",
       "50004       0.0  10   2    2    4      7      1    1  0.0  \n",
       "...         ...  ..  ..  ...  ...    ...    ...  ...  ...  \n",
       "499995      0.0  12   2    2    4      2      0    0  0.0  \n",
       "499996      0.0   9   1    5    4      3      0    0  0.0  \n",
       "499997      0.0  11   2    2    1      4      0    0  0.0  \n",
       "499998      0.0   5   2    2    2      3      0    1  0.0  \n",
       "499999      0.0  12   2    2    2      1      0    0  0.0  \n",
       "\n",
       "[449913 rows x 18 columns]"
      ]
     },
     "execution_count": 23,
     "metadata": {},
     "output_type": "execute_result"
    }
   ],
   "source": [
    "df.drop_duplicates(inplace=True)\n",
    "df"
   ]
  },
  {
   "cell_type": "markdown",
   "metadata": {},
   "source": [
    "## Page Visits"
   ]
  },
  {
   "cell_type": "code",
   "execution_count": 24,
   "metadata": {},
   "outputs": [
    {
     "name": "stdout",
     "output_type": "stream",
     "text": [
      "Adm     2\n",
      "Inf     0\n",
      "Prd    30\n",
      "dtype: int32\n"
     ]
    },
    {
     "data": {
      "image/png": "[encoded data removed]",
      "text/plain": [
       "<Figure size 800x800 with 1 Axes>"
      ]
     },
     "metadata": {},
     "output_type": "display_data"
    }
   ],
   "source": [
    "page_visits = df[['Adm', 'Inf', 'Prd']]\n",
    "\n",
    "# plotting the average page visits per session\n",
    "avg_visits = page_visits.mean().astype(int)\n",
    "print(avg_visits)\n",
    "\n",
    "\n",
    "full_names = {'Inf': 'Informational',\n",
    "              'Adm': 'Administrative', 'Prd': 'Products'}\n",
    "colors = sns.color_palette('pastel')  # Seaborn color palette\n",
    "\n",
    "plt.figure(figsize=(8, 8))  # Optional: Set the figure size\n",
    "plt.pie(avg_visits, labels=avg_visits.index.map(full_names),\n",
    "        autopct='%1.1f%%', startangle=140, colors=colors)\n",
    "\n",
    "# Add a custom legend\n",
    "plt.legend(title=\"Categories\", loc=\"best\")\n",
    "\n",
    "plt.title('Average Visits Distribution')\n",
    "plt.show()"
   ]
  },
  {
   "cell_type": "markdown",
   "metadata": {},
   "source": [
    "- Products page averages the most visits per session with about 30 per session.\n",
    "- There is a contrast in page visits for the Administrative pages with an average of 0 visits per session.\n",
    "- Informational pages averages no visits per session."
   ]
  },
  {
   "cell_type": "code",
   "execution_count": 25,
   "metadata": {},
   "outputs": [
    {
     "name": "stdout",
     "output_type": "stream",
     "text": [
      "AdmDur      76.870743\n",
      "InfDur      31.830116\n",
      "PrdDur    1165.230601\n",
      "dtype: float64\n"
     ]
    },
    {
     "data": {
      "image/png": "[encoded data removed]",
      "text/plain": [
       "<Figure size 640x480 with 1 Axes>"
      ]
     },
     "metadata": {},
     "output_type": "display_data"
    }
   ],
   "source": [
    "page_time = df[['AdmDur', 'InfDur','PrdDur']]\n",
    "avg_page_time = page_time.mean()\n",
    "print(avg_page_time)\n",
    "\n",
    "# plotting\n",
    "sns.barplot(x=avg_page_time.index, y=avg_page_time);"
   ]
  },
  {
   "cell_type": "markdown",
   "metadata": {},
   "source": [
    "Same case for the duration, most time is spent on the product pages compared to the administrative and informational pages."
   ]
  },
  {
   "cell_type": "markdown",
   "metadata": {},
   "source": [
    "## Bounce and Exit Rates"
   ]
  },
  {
   "cell_type": "code",
   "execution_count": 26,
   "metadata": {},
   "outputs": [
    {
     "data": {
      "text/plain": [
       "BncRt    0.018359\n",
       "ExtRt    0.036841\n",
       "dtype: float64"
      ]
     },
     "execution_count": 26,
     "metadata": {},
     "output_type": "execute_result"
    }
   ],
   "source": [
    "bounce_exit = df[['BncRt', 'ExtRt']]\n",
    "bounce_exit.mean()"
   ]
  },
  {
   "cell_type": "markdown",
   "metadata": {},
   "source": [
    "- Bounce rate is relatively low at around 2%.\n",
    "- Same case for Exit rate at around 4%"
   ]
  },
  {
   "cell_type": "markdown",
   "metadata": {},
   "source": [
    "## Purchases on different times of the year"
   ]
  },
  {
   "cell_type": "code",
   "execution_count": 27,
   "metadata": {},
   "outputs": [
    {
     "data": {
      "text/html": [
       "<div>\n",
       "<style scoped>\n",
       "    .dataframe tbody tr th:only-of-type {\n",
       "        vertical-align: middle;\n",
       "    }\n",
       "\n",
       "    .dataframe tbody tr th {\n",
       "        vertical-align: top;\n",
       "    }\n",
       "\n",
       "    .dataframe thead th {\n",
       "        text-align: right;\n",
       "    }\n",
       "</style>\n",
       "<table border=\"1\" class=\"dataframe\">\n",
       "  <thead>\n",
       "    <tr style=\"text-align: right;\">\n",
       "      <th></th>\n",
       "      <th>Mo</th>\n",
       "      <th>Rev</th>\n",
       "    </tr>\n",
       "  </thead>\n",
       "  <tbody>\n",
       "    <tr>\n",
       "      <th>0</th>\n",
       "      <td>1</td>\n",
       "      <td>252.0</td>\n",
       "    </tr>\n",
       "    <tr>\n",
       "      <th>1</th>\n",
       "      <td>2</td>\n",
       "      <td>4388.0</td>\n",
       "    </tr>\n",
       "    <tr>\n",
       "      <th>2</th>\n",
       "      <td>3</td>\n",
       "      <td>4440.0</td>\n",
       "    </tr>\n",
       "    <tr>\n",
       "      <th>3</th>\n",
       "      <td>4</td>\n",
       "      <td>11889.0</td>\n",
       "    </tr>\n",
       "    <tr>\n",
       "      <th>4</th>\n",
       "      <td>5</td>\n",
       "      <td>8223.0</td>\n",
       "    </tr>\n",
       "    <tr>\n",
       "      <th>5</th>\n",
       "      <td>6</td>\n",
       "      <td>9561.0</td>\n",
       "    </tr>\n",
       "    <tr>\n",
       "      <th>6</th>\n",
       "      <td>7</td>\n",
       "      <td>3218.0</td>\n",
       "    </tr>\n",
       "    <tr>\n",
       "      <th>7</th>\n",
       "      <td>8</td>\n",
       "      <td>3813.0</td>\n",
       "    </tr>\n",
       "    <tr>\n",
       "      <th>8</th>\n",
       "      <td>9</td>\n",
       "      <td>4389.0</td>\n",
       "    </tr>\n",
       "    <tr>\n",
       "      <th>9</th>\n",
       "      <td>10</td>\n",
       "      <td>14331.0</td>\n",
       "    </tr>\n",
       "    <tr>\n",
       "      <th>10</th>\n",
       "      <td>11</td>\n",
       "      <td>17111.0</td>\n",
       "    </tr>\n",
       "    <tr>\n",
       "      <th>11</th>\n",
       "      <td>12</td>\n",
       "      <td>19243.0</td>\n",
       "    </tr>\n",
       "  </tbody>\n",
       "</table>\n",
       "</div>"
      ],
      "text/plain": [
       "    Mo      Rev\n",
       "0    1    252.0\n",
       "1    2   4388.0\n",
       "2    3   4440.0\n",
       "3    4  11889.0\n",
       "4    5   8223.0\n",
       "5    6   9561.0\n",
       "6    7   3218.0\n",
       "7    8   3813.0\n",
       "8    9   4389.0\n",
       "9   10  14331.0\n",
       "10  11  17111.0\n",
       "11  12  19243.0"
      ]
     },
     "execution_count": 27,
     "metadata": {},
     "output_type": "execute_result"
    }
   ],
   "source": [
    "monthly_rev = df.groupby('Mo')['Rev'].sum().reset_index()\n",
    "monthly_rev"
   ]
  },
  {
   "cell_type": "markdown",
   "metadata": {},
   "source": [
    "we now convert the month numbers to the actual names of the months then plot.\n"
   ]
  },
  {
   "cell_type": "code",
   "execution_count": 28,
   "metadata": {},
   "outputs": [],
   "source": [
    "import calendar\n",
    "\n",
    "# Transforming the month column\n",
    "monthly_rev['Mo'] = monthly_rev.Mo.map(\n",
    "    lambda x: calendar.month_name[int(x)]\n",
    ")"
   ]
  },
  {
   "cell_type": "code",
   "execution_count": 29,
   "metadata": {},
   "outputs": [
    {
     "name": "stderr",
     "output_type": "stream",
     "text": [
      "c:\\Users\\mutis\\anaconda3\\Lib\\site-packages\\seaborn\\_oldcore.py:1119: FutureWarning: use_inf_as_na option is deprecated and will be removed in a future version. Convert inf values to NaN before operating instead.\n",
      "  with pd.option_context('mode.use_inf_as_na', True):\n",
      "c:\\Users\\mutis\\anaconda3\\Lib\\site-packages\\seaborn\\_oldcore.py:1119: FutureWarning: use_inf_as_na option is deprecated and will be removed in a future version. Convert inf values to NaN before operating instead.\n",
      "  with pd.option_context('mode.use_inf_as_na', True):\n"
     ]
    },
    {
     "data": {
      "image/png": "[encoded data removed]",
      "text/plain": [
       "<Figure size 640x480 with 1 Axes>"
      ]
     },
     "metadata": {},
     "output_type": "display_data"
    }
   ],
   "source": [
    "# plotting the distribution\n",
    "sns.lineplot(\n",
    "    monthly_rev,\n",
    "    x='Mo', \n",
    "    y='Rev'\n",
    ")\n",
    "plt.xlabel('Month')\n",
    "plt.ylabel('Purchases')\n",
    "plt.title('Purchases Throgh the year')\n",
    "plt.xticks(rotation=45);"
   ]
  },
  {
   "cell_type": "markdown",
   "metadata": {},
   "source": [
    "- Purchases tend to peak in October and continue to rise steadily, reaching their highest levels by the end of the year. This can be contributed by special events such as holiday shopping and special promotions among others.\n",
    "- Purchases tend to be lowest in January, gradually rise to a peak in April, though not as high as the peak in October, and then steadily decline afterward.\n",
    "- This pattern reflects typical consumer behavior influenced by seasonal events, financial cycles, and marketing strategies."
   ]
  },
  {
   "cell_type": "markdown",
   "metadata": {},
   "source": [
    "## Purchases on special days"
   ]
  },
  {
   "cell_type": "markdown",
   "metadata": {},
   "source": [
    "Investigating how closeness to the special days influences the purchases."
   ]
  },
  {
   "cell_type": "code",
   "execution_count": 30,
   "metadata": {},
   "outputs": [],
   "source": [
    "special_purchases = df.loc[df.SpclDay > 0].groupby(\n",
    "    'SpclDay'\n",
    ")['Rev'].sum().reset_index()\n",
    "special_purchases.columns = ['Closeness', 'Purchases']"
   ]
  },
  {
   "cell_type": "code",
   "execution_count": 31,
   "metadata": {},
   "outputs": [
    {
     "name": "stderr",
     "output_type": "stream",
     "text": [
      "c:\\Users\\mutis\\anaconda3\\Lib\\site-packages\\seaborn\\_oldcore.py:1119: FutureWarning: use_inf_as_na option is deprecated and will be removed in a future version. Convert inf values to NaN before operating instead.\n",
      "  with pd.option_context('mode.use_inf_as_na', True):\n",
      "c:\\Users\\mutis\\anaconda3\\Lib\\site-packages\\seaborn\\_oldcore.py:1119: FutureWarning: use_inf_as_na option is deprecated and will be removed in a future version. Convert inf values to NaN before operating instead.\n",
      "  with pd.option_context('mode.use_inf_as_na', True):\n"
     ]
    },
    {
     "data": {
      "image/png": "[encoded data removed]",
      "text/plain": [
       "<Figure size 640x480 with 1 Axes>"
      ]
     },
     "metadata": {},
     "output_type": "display_data"
    }
   ],
   "source": [
    "# Plotting the trend\n",
    "sns.lineplot(\n",
    "    special_purchases,\n",
    "    x='Closeness',\n",
    "    y='Purchases'\n",
    ")\n",
    "\n",
    "plt.title('Effect of closeness to Special days on purchases');"
   ]
  },
  {
   "cell_type": "markdown",
   "metadata": {},
   "source": [
    "\n",
    "Purchases tend to increase when the closeness value is around the midpoint, indicating a balanced anticipation of the special day. As the date of the special event approaches, the likelihood of making a purchase gradually decreases. Conversely, when the event is farther away, purchase activity is relatively lower but starts to rise as the date nears, peaking at the midpoint before gradually declining again."
   ]
  },
  {
   "cell_type": "markdown",
   "metadata": {},
   "source": [
    "## Purchases on weekends"
   ]
  },
  {
   "cell_type": "markdown",
   "metadata": {},
   "source": [
    "Effect of weekends on purchases"
   ]
  },
  {
   "cell_type": "code",
   "execution_count": 32,
   "metadata": {},
   "outputs": [
    {
     "data": {
      "text/plain": [
       "Wkd\n",
       "0    321053\n",
       "1    128860\n",
       "Name: count, dtype: int64"
      ]
     },
     "execution_count": 32,
     "metadata": {},
     "output_type": "execute_result"
    }
   ],
   "source": [
    "df.Wkd.value_counts()"
   ]
  },
  {
   "cell_type": "code",
   "execution_count": 33,
   "metadata": {},
   "outputs": [
    {
     "name": "stdout",
     "output_type": "stream",
     "text": [
      "   Wkd       Rev\n",
      "0    0  0.171043\n",
      "1    1  0.356542\n"
     ]
    },
    {
     "data": {
      "image/png": "[encoded data removed]",
      "text/plain": [
       "<Figure size 640x480 with 1 Axes>"
      ]
     },
     "metadata": {},
     "output_type": "display_data"
    }
   ],
   "source": [
    "weekend_purchases = df.groupby('Wkd')['Rev'].mean().reset_index()\n",
    "\n",
    "# plotting\n",
    "sns.barplot(\n",
    "    weekend_purchases,\n",
    "    x='Wkd',\n",
    "    y='Rev'\n",
    ")\n",
    "print(weekend_purchases)\n",
    "\n",
    "plt.xticks([0, 1], labels=['Normal', 'Weekend'])\n",
    "plt.xlabel('Day')\n",
    "plt.ylabel('purchases %');"
   ]
  },
  {
   "cell_type": "markdown",
   "metadata": {},
   "source": [
    "Purchases occur more on weekends than on normal days as indicated by the chart. About 35% of the visits in the weekends result to purchases compared to normal days at 17%."
   ]
  },
  {
   "cell_type": "markdown",
   "metadata": {},
   "source": [
    "## Page value"
   ]
  },
  {
   "cell_type": "markdown",
   "metadata": {},
   "source": [
    "Investigating the effect of page value to the purchases."
   ]
  },
  {
   "cell_type": "code",
   "execution_count": 34,
   "metadata": {},
   "outputs": [
    {
     "data": {
      "text/html": [
       "<div>\n",
       "<style scoped>\n",
       "    .dataframe tbody tr th:only-of-type {\n",
       "        vertical-align: middle;\n",
       "    }\n",
       "\n",
       "    .dataframe tbody tr th {\n",
       "        vertical-align: top;\n",
       "    }\n",
       "\n",
       "    .dataframe thead th {\n",
       "        text-align: right;\n",
       "    }\n",
       "</style>\n",
       "<table border=\"1\" class=\"dataframe\">\n",
       "  <thead>\n",
       "    <tr style=\"text-align: right;\">\n",
       "      <th></th>\n",
       "      <th>PgVal</th>\n",
       "    </tr>\n",
       "  </thead>\n",
       "  <tbody>\n",
       "    <tr>\n",
       "      <th>count</th>\n",
       "      <td>449913.000000</td>\n",
       "    </tr>\n",
       "    <tr>\n",
       "      <th>mean</th>\n",
       "      <td>5.500630</td>\n",
       "    </tr>\n",
       "    <tr>\n",
       "      <th>std</th>\n",
       "      <td>16.525529</td>\n",
       "    </tr>\n",
       "    <tr>\n",
       "      <th>min</th>\n",
       "      <td>0.000000</td>\n",
       "    </tr>\n",
       "    <tr>\n",
       "      <th>25%</th>\n",
       "      <td>0.000000</td>\n",
       "    </tr>\n",
       "    <tr>\n",
       "      <th>50%</th>\n",
       "      <td>0.000000</td>\n",
       "    </tr>\n",
       "    <tr>\n",
       "      <th>75%</th>\n",
       "      <td>0.000000</td>\n",
       "    </tr>\n",
       "    <tr>\n",
       "      <th>max</th>\n",
       "      <td>360.740676</td>\n",
       "    </tr>\n",
       "  </tbody>\n",
       "</table>\n",
       "</div>"
      ],
      "text/plain": [
       "               PgVal\n",
       "count  449913.000000\n",
       "mean        5.500630\n",
       "std        16.525529\n",
       "min         0.000000\n",
       "25%         0.000000\n",
       "50%         0.000000\n",
       "75%         0.000000\n",
       "max       360.740676"
      ]
     },
     "execution_count": 34,
     "metadata": {},
     "output_type": "execute_result"
    }
   ],
   "source": [
    "df[['PgVal']].describe()"
   ]
  },
  {
   "cell_type": "markdown",
   "metadata": {},
   "source": [
    "The page value ranges from 0 to 360. We bin the range to different values to get the  purchases as value increases."
   ]
  },
  {
   "cell_type": "code",
   "execution_count": 35,
   "metadata": {},
   "outputs": [
    {
     "name": "stderr",
     "output_type": "stream",
     "text": [
      "C:\\Users\\mutis\\AppData\\Local\\Temp\\ipykernel_18132\\934730105.py:6: FutureWarning: The default of observed=False is deprecated and will be changed to True in a future version of pandas. Pass observed=False to retain current behavior or observed=True to adopt the future default and silence this warning.\n",
      "  value_cat_purchases = value_df.groupby('val_cat')['Rev'].mean().reset_index()\n",
      "c:\\Users\\mutis\\anaconda3\\Lib\\site-packages\\seaborn\\categorical.py:641: FutureWarning: The default of observed=False is deprecated and will be changed to True in a future version of pandas. Pass observed=False to retain current behavior or observed=True to adopt the future default and silence this warning.\n",
      "  grouped_vals = vals.groupby(grouper)\n"
     ]
    },
    {
     "data": {
      "image/png": "[encoded data removed]",
      "text/plain": [
       "<Figure size 640x480 with 1 Axes>"
      ]
     },
     "metadata": {},
     "output_type": "display_data"
    }
   ],
   "source": [
    "value_df = df.copy()\n",
    "# binning the page value to 10 categories\n",
    "value_df['val_cat'] = pd.cut(df['PgVal'], bins=10, labels=np.arange(1, 11))\n",
    "\n",
    "# get the percentage of purchases\n",
    "value_cat_purchases = value_df.groupby('val_cat')['Rev'].mean().reset_index()\n",
    "\n",
    "# plotting\n",
    "sns.barplot(\n",
    "    value_cat_purchases,\n",
    "    x='val_cat',\n",
    "    y='Rev',\n",
    ")\n",
    "\n",
    "plt.title('Purchases According to page value')\n",
    "plt.xlabel('Page Value')\n",
    "plt.ylabel('Purchases');"
   ]
  },
  {
   "cell_type": "markdown",
   "metadata": {},
   "source": [
    "There is an upward trend as the page value increases, more purchases are made."
   ]
  },
  {
   "cell_type": "markdown",
   "metadata": {},
   "source": [
    "# Data preparation"
   ]
  },
  {
   "cell_type": "code",
   "execution_count": 36,
   "metadata": {},
   "outputs": [
    {
     "name": "stdout",
     "output_type": "stream",
     "text": [
      "<class 'pandas.core.frame.DataFrame'>\n",
      "Index: 449913 entries, 50000 to 499999\n",
      "Data columns (total 18 columns):\n",
      " #   Column   Non-Null Count   Dtype  \n",
      "---  ------   --------------   -----  \n",
      " 0   Adm      449913 non-null  int64  \n",
      " 1   AdmDur   449913 non-null  float64\n",
      " 2   Inf      449913 non-null  int64  \n",
      " 3   InfDur   449913 non-null  float64\n",
      " 4   Prd      449913 non-null  int64  \n",
      " 5   PrdDur   449913 non-null  float64\n",
      " 6   BncRt    449913 non-null  float64\n",
      " 7   ExtRt    449913 non-null  float64\n",
      " 8   PgVal    449913 non-null  float64\n",
      " 9   SpclDay  449913 non-null  float64\n",
      " 10  Mo       449913 non-null  int64  \n",
      " 11  OS       449913 non-null  int64  \n",
      " 12  Bsr      449913 non-null  int64  \n",
      " 13  Rgn      449913 non-null  int64  \n",
      " 14  TfcTp    449913 non-null  int64  \n",
      " 15  VstTp    449913 non-null  int64  \n",
      " 16  Wkd      449913 non-null  int64  \n",
      " 17  Rev      449913 non-null  float64\n",
      "dtypes: float64(8), int64(10)\n",
      "memory usage: 65.2 MB\n"
     ]
    }
   ],
   "source": [
    "df.info()"
   ]
  },
  {
   "cell_type": "markdown",
   "metadata": {},
   "source": [
    "most columns are either in float64 format or int64 but some of them are categorical. So we convert the categorical columns to object."
   ]
  },
  {
   "cell_type": "code",
   "execution_count": 37,
   "metadata": {},
   "outputs": [
    {
     "name": "stdout",
     "output_type": "stream",
     "text": [
      "<class 'pandas.core.frame.DataFrame'>\n",
      "Index: 449913 entries, 50000 to 499999\n",
      "Data columns (total 18 columns):\n",
      " #   Column   Non-Null Count   Dtype  \n",
      "---  ------   --------------   -----  \n",
      " 0   Adm      449913 non-null  int64  \n",
      " 1   AdmDur   449913 non-null  float64\n",
      " 2   Inf      449913 non-null  int64  \n",
      " 3   InfDur   449913 non-null  float64\n",
      " 4   Prd      449913 non-null  int64  \n",
      " 5   PrdDur   449913 non-null  float64\n",
      " 6   BncRt    449913 non-null  float64\n",
      " 7   ExtRt    449913 non-null  float64\n",
      " 8   PgVal    449913 non-null  float64\n",
      " 9   SpclDay  449913 non-null  float64\n",
      " 10  Mo       449913 non-null  object \n",
      " 11  OS       449913 non-null  object \n",
      " 12  Bsr      449913 non-null  object \n",
      " 13  Rgn      449913 non-null  object \n",
      " 14  TfcTp    449913 non-null  object \n",
      " 15  VstTp    449913 non-null  object \n",
      " 16  Wkd      449913 non-null  int64  \n",
      " 17  Rev      449913 non-null  float64\n",
      "dtypes: float64(8), int64(4), object(6)\n",
      "memory usage: 65.2+ MB\n"
     ]
    }
   ],
   "source": [
    "df[['Mo', 'OS', 'Bsr', 'Rgn', 'TfcTp', 'VstTp']] = (\n",
    "    df[['Mo', 'OS', 'Bsr', 'Rgn', 'TfcTp', 'VstTp']].astype('object')\n",
    ")\n",
    "df.info()"
   ]
  },
  {
   "cell_type": "markdown",
   "metadata": {},
   "source": [
    "now our data is in the correct data types."
   ]
  },
  {
   "cell_type": "markdown",
   "metadata": {},
   "source": [
    "# Modelling"
   ]
  },
  {
   "cell_type": "markdown",
   "metadata": {},
   "source": [
    "We first start by spitting the data to the train and test sets."
   ]
  },
  {
   "cell_type": "markdown",
   "metadata": {},
   "source": [
    "## Preprocessing"
   ]
  },
  {
   "cell_type": "code",
   "execution_count": 38,
   "metadata": {},
   "outputs": [],
   "source": [
    "# importing modules\n",
    "from sklearn.model_selection import train_test_split\n",
    "from sklearn.linear_model import LogisticRegression\n",
    "from sklearn.preprocessing import StandardScaler"
   ]
  },
  {
   "cell_type": "code",
   "execution_count": 39,
   "metadata": {},
   "outputs": [],
   "source": [
    "# the seed for random generators\n",
    "random_state = 20"
   ]
  },
  {
   "cell_type": "code",
   "execution_count": 40,
   "metadata": {},
   "outputs": [],
   "source": [
    "X = df.drop('Rev', axis=1)\n",
    "y = df['Rev']\n",
    "# splitting the data\n",
    "X_train, X_test, y_train, y_test = train_test_split(X, y,\n",
    "                                                    random_state=random_state)"
   ]
  },
  {
   "cell_type": "markdown",
   "metadata": {},
   "source": [
    "We now proceed to create dummy variables for the categorical columns. Remember wkd is already a binary variable so we include it after creating dummy variables for the other categorical features."
   ]
  },
  {
   "cell_type": "code",
   "execution_count": 41,
   "metadata": {},
   "outputs": [],
   "source": [
    "# creating dummy variables for categorical\n",
    "X_train_dummy = pd.get_dummies(X_train.select_dtypes('object'),\n",
    "                               drop_first=True,\n",
    "                               dtype=int)\n",
    "# add weekend to the set of dummy variable\n",
    "X_train_dummy['Wkd'] = df['Wkd']"
   ]
  },
  {
   "cell_type": "markdown",
   "metadata": {},
   "source": [
    "## 1. Baseline model"
   ]
  },
  {
   "cell_type": "markdown",
   "metadata": {},
   "source": [
    "For our case we first fit a Logistic regression model"
   ]
  },
  {
   "cell_type": "code",
   "execution_count": 42,
   "metadata": {},
   "outputs": [
    {
     "data": {
      "text/plain": [
       "Rev\n",
       "0.0    0.775805\n",
       "1.0    0.224195\n",
       "Name: proportion, dtype: float64"
      ]
     },
     "execution_count": 42,
     "metadata": {},
     "output_type": "execute_result"
    }
   ],
   "source": [
    "y_train.value_counts(normalize=True)"
   ]
  },
  {
   "cell_type": "markdown",
   "metadata": {},
   "source": [
    "There is class imbalance in the target variable with about 78% of the sessions leading to no purchases and other 22% to purchases.\n",
    "\n",
    "We first fit a baseline model with the data as is.\n"
   ]
  },
  {
   "cell_type": "code",
   "execution_count": 43,
   "metadata": {},
   "outputs": [
    {
     "data": {
      "text/html": [
       "<style>#sk-container-id-1 {color: black;background-color: white;}#sk-container-id-1 pre{padding: 0;}#sk-container-id-1 div.sk-toggleable {background-color: white;}#sk-container-id-1 label.sk-toggleable__label {cursor: pointer;display: block;width: 100%;margin-bottom: 0;padding: 0.3em;box-sizing: border-box;text-align: center;}#sk-container-id-1 label.sk-toggleable__label-arrow:before {content: \"▸\";float: left;margin-right: 0.25em;color: #696969;}#sk-container-id-1 label.sk-toggleable__label-arrow:hover:before {color: black;}#sk-container-id-1 div.sk-estimator:hover label.sk-toggleable__label-arrow:before {color: black;}#sk-container-id-1 div.sk-toggleable__content {max-height: 0;max-width: 0;overflow: hidden;text-align: left;background-color: #f0f8ff;}#sk-container-id-1 div.sk-toggleable__content pre {margin: 0.2em;color: black;border-radius: 0.25em;background-color: #f0f8ff;}#sk-container-id-1 input.sk-toggleable__control:checked~div.sk-toggleable__content {max-height: 200px;max-width: 100%;overflow: auto;}#sk-container-id-1 input.sk-toggleable__control:checked~label.sk-toggleable__label-arrow:before {content: \"▾\";}#sk-container-id-1 div.sk-estimator input.sk-toggleable__control:checked~label.sk-toggleable__label {background-color: #d4ebff;}#sk-container-id-1 div.sk-label input.sk-toggleable__control:checked~label.sk-toggleable__label {background-color: #d4ebff;}#sk-container-id-1 input.sk-hidden--visually {border: 0;clip: rect(1px 1px 1px 1px);clip: rect(1px, 1px, 1px, 1px);height: 1px;margin: -1px;overflow: hidden;padding: 0;position: absolute;width: 1px;}#sk-container-id-1 div.sk-estimator {font-family: monospace;background-color: #f0f8ff;border: 1px dotted black;border-radius: 0.25em;box-sizing: border-box;margin-bottom: 0.5em;}#sk-container-id-1 div.sk-estimator:hover {background-color: #d4ebff;}#sk-container-id-1 div.sk-parallel-item::after {content: \"\";width: 100%;border-bottom: 1px solid gray;flex-grow: 1;}#sk-container-id-1 div.sk-label:hover label.sk-toggleable__label {background-color: #d4ebff;}#sk-container-id-1 div.sk-serial::before {content: \"\";position: absolute;border-left: 1px solid gray;box-sizing: border-box;top: 0;bottom: 0;left: 50%;z-index: 0;}#sk-container-id-1 div.sk-serial {display: flex;flex-direction: column;align-items: center;background-color: white;padding-right: 0.2em;padding-left: 0.2em;position: relative;}#sk-container-id-1 div.sk-item {position: relative;z-index: 1;}#sk-container-id-1 div.sk-parallel {display: flex;align-items: stretch;justify-content: center;background-color: white;position: relative;}#sk-container-id-1 div.sk-item::before, #sk-container-id-1 div.sk-parallel-item::before {content: \"\";position: absolute;border-left: 1px solid gray;box-sizing: border-box;top: 0;bottom: 0;left: 50%;z-index: -1;}#sk-container-id-1 div.sk-parallel-item {display: flex;flex-direction: column;z-index: 1;position: relative;background-color: white;}#sk-container-id-1 div.sk-parallel-item:first-child::after {align-self: flex-end;width: 50%;}#sk-container-id-1 div.sk-parallel-item:last-child::after {align-self: flex-start;width: 50%;}#sk-container-id-1 div.sk-parallel-item:only-child::after {width: 0;}#sk-container-id-1 div.sk-dashed-wrapped {border: 1px dashed gray;margin: 0 0.4em 0.5em 0.4em;box-sizing: border-box;padding-bottom: 0.4em;background-color: white;}#sk-container-id-1 div.sk-label label {font-family: monospace;font-weight: bold;display: inline-block;line-height: 1.2em;}#sk-container-id-1 div.sk-label-container {text-align: center;}#sk-container-id-1 div.sk-container {/* jupyter's `normalize.less` sets `[hidden] { display: none; }` but bootstrap.min.css set `[hidden] { display: none !important; }` so we also need the `!important` here to be able to override the default hidden behavior on the sphinx rendered scikit-learn.org. See: https://github.com/scikit-learn/scikit-learn/issues/21755 */display: inline-block !important;position: relative;}#sk-container-id-1 div.sk-text-repr-fallback {display: none;}</style><div id=\"sk-container-id-1\" class=\"sk-top-container\"><div class=\"sk-text-repr-fallback\"><pre>LogisticRegression(random_state=20, solver=&#x27;liblinear&#x27;)</pre><b>In a Jupyter environment, please rerun this cell to show the HTML representation or trust the notebook. <br />On GitHub, the HTML representation is unable to render, please try loading this page with nbviewer.org.</b></div><div class=\"sk-container\" hidden><div class=\"sk-item\"><div class=\"sk-estimator sk-toggleable\"><input class=\"sk-toggleable__control sk-hidden--visually\" id=\"sk-estimator-id-1\" type=\"checkbox\" checked><label for=\"sk-estimator-id-1\" class=\"sk-toggleable__label sk-toggleable__label-arrow\">LogisticRegression</label><div class=\"sk-toggleable__content\"><pre>LogisticRegression(random_state=20, solver=&#x27;liblinear&#x27;)</pre></div></div></div></div></div>"
      ],
      "text/plain": [
       "LogisticRegression(random_state=20, solver='liblinear')"
      ]
     },
     "execution_count": 43,
     "metadata": {},
     "output_type": "execute_result"
    }
   ],
   "source": [
    "scaler = StandardScaler()\n",
    "numeric_training = X_train.select_dtypes(exclude='object').drop('Wkd',\n",
    "                                                                axis=1)\n",
    "\n",
    "# scaling X\n",
    "X_train_scaled = pd.DataFrame(\n",
    "    scaler.fit_transform(numeric_training),\n",
    "    columns=numeric_training.columns,\n",
    "    index=numeric_training.index\n",
    ")\n",
    "\n",
    "X_train_scaled = pd.concat([X_train_scaled, X_train_dummy], axis=1)\n",
    "\n",
    "\n",
    "baseline_model = LogisticRegression(random_state=random_state, solver='liblinear')\n",
    "baseline_model.fit(X_train_scaled, y_train)"
   ]
  },
  {
   "cell_type": "markdown",
   "metadata": {},
   "source": [
    "### Evaluation of the baseline model"
   ]
  },
  {
   "cell_type": "markdown",
   "metadata": {},
   "source": [
    "We use the log loss to measure the performance of the model. We measure both log loss in the performance of the model on train data and also use cross validation and get the log loss."
   ]
  },
  {
   "cell_type": "code",
   "execution_count": 44,
   "metadata": {},
   "outputs": [
    {
     "name": "stdout",
     "output_type": "stream",
     "text": [
      "Baseline model train log loss:  6.490913445799422\n",
      "Baseline_model validation log loss:  0.4416013217663197\n"
     ]
    }
   ],
   "source": [
    "# importing the modules\n",
    "from sklearn.metrics import log_loss\n",
    "from sklearn.model_selection import cross_val_score\n",
    "\n",
    "\n",
    "# Get the log loss for train and validation\n",
    "baseline_train_loss = log_loss(y_train, baseline_model.decision_function(X_train_scaled) )\n",
    "\n",
    "# use cross validation\n",
    "val_scores = cross_val_score(baseline_model,\n",
    "                             X_train_scaled,\n",
    "                             y_train,\n",
    "                             cv=10,\n",
    "                             scoring='neg_log_loss')\n",
    "baseline_validation_loss = -val_scores.mean()\n",
    "\n",
    "print('Baseline model train log loss: ', baseline_train_loss)\n",
    "print('Baseline_model validation log loss: ', baseline_validation_loss)"
   ]
  },
  {
   "cell_type": "markdown",
   "metadata": {},
   "source": [
    "This model performs better in the validation data, but this could mean underfitting due to the difference in the log loss between train and validation data performance."
   ]
  },
  {
   "cell_type": "markdown",
   "metadata": {},
   "source": [
    "## 2. Fix class imbalance"
   ]
  },
  {
   "cell_type": "markdown",
   "metadata": {},
   "source": [
    "There is class imbalance in the targer with about 78% for one class and 22% for the other.\n",
    "\n",
    "We use SMOTE oversampling to fix this but not on the whole train data. This is because of data leakage during cross validation. We therefore define afunction to carry out cross validation and include smote."
   ]
  },
  {
   "cell_type": "code",
   "execution_count": 50,
   "metadata": {},
   "outputs": [],
   "source": [
    "# Creating a custom function for validation to include smote\n",
    "from sklearn.model_selection import StratifiedKFold\n",
    "from sklearn.base import clone\n",
    "from imblearn.over_sampling import SMOTE\n",
    "\n",
    "\n",
    "# function for validation\n",
    "def get_train_val_loss(model, X_train, y_train, cont_cols, cat_cols):\n",
    "    \"\"\"calculates the validation log loss and the train log loss and includes \n",
    "    SMOTE oversampling to reduce class imbalance\n",
    "    Args:\n",
    "        model: the model\n",
    "        X_train: the model features for train data where dummy variables are already\n",
    "            created\n",
    "        y_train: the target in the train data\n",
    "        cont_cols: list of continuous columns\n",
    "        cat_cols: list of categorical columns\n",
    "    Returns:\n",
    "        val_loss: validation log loss which is the mean of the test scores\n",
    "    \"\"\"\n",
    "    # making a copy of the model not to change the original one\n",
    "    modelcp = clone(model)\n",
    "    \n",
    "    sm = SMOTE(random_state=random_state)\n",
    "    scaler = StandardScaler()\n",
    "    \n",
    "    # cross validation\n",
    "    kfold = StratifiedKFold(n_splits=3)\n",
    "    train_scores = np.ndarray(3)\n",
    "    test_scores = np.ndarray(3)\n",
    "    \n",
    "    \n",
    "    \n",
    "    for i, (train_idx, test_idx) in enumerate(kfold.split(X_train, y_train)):\n",
    "        X_t = X_train.iloc[train_idx]\n",
    "        y_t = y_train.iloc[train_idx]\n",
    "        X_v = X_train.iloc[test_idx]\n",
    "        y_v = y_train.iloc[test_idx]\n",
    "        \n",
    "        # scaling\n",
    "        # first separating continuous and categorical features\n",
    "        # scaling the training set\n",
    "        X_t_cat = X_t[cat_cols]\n",
    "        X_t_cont = pd.DataFrame(\n",
    "            scaler.fit_transform(X_t[cont_cols]),\n",
    "            columns=cont_cols,\n",
    "            index=X_t.index\n",
    "        )\n",
    "        # the test set\n",
    "        X_v_cat = X_v[cat_cols]\n",
    "        X_v_cont = pd.DataFrame(\n",
    "            scaler.transform(X_v[cont_cols]),\n",
    "            columns=cont_cols,\n",
    "            index=X_v.index\n",
    "        )\n",
    "        \n",
    "        # joinig categorical and continuous back together\n",
    "        X_t_scaled = pd.concat(\n",
    "            [X_t_cont, X_t_cat],\n",
    "            axis=1\n",
    "        )\n",
    "        \n",
    "        X_v_scaled = pd.concat(\n",
    "            [X_v_cont, X_v_cat],\n",
    "            axis=1\n",
    "        )\n",
    "        \n",
    "        # Oversampling\n",
    "        X_t_oversampled, y_t_oversampled = sm.fit_resample(X_t_scaled, y_t)\n",
    "        \n",
    "        # fitting model\n",
    "        modelcp.fit(X_t_oversampled, y_t_oversampled)\n",
    "        \n",
    "        # training log loss \n",
    "        cross_train_score = log_loss(y_t_oversampled, modelcp.predict_proba(X_t_oversampled))\n",
    "        \n",
    "        # validation log loss\n",
    "        cross_test_score = log_loss(y_v, modelcp.predict_proba(X_v_scaled))\n",
    "        \n",
    "        # append to list\n",
    "        train_scores[i] =  cross_train_score\n",
    "        test_scores[i] =  cross_test_score\n",
    "\n",
    "    train_loss = train_scores.mean()\n",
    "    val_loss = test_scores.mean()\n",
    "    \n",
    "    return train_loss, val_loss"
   ]
  },
  {
   "cell_type": "markdown",
   "metadata": {},
   "source": [
    "First i convert the X_train to contain only dummy variables and create two lists to contain the names for categorical and continuous columns."
   ]
  },
  {
   "cell_type": "code",
   "execution_count": 46,
   "metadata": {},
   "outputs": [
    {
     "data": {
      "text/html": [
       "<div>\n",
       "<style scoped>\n",
       "    .dataframe tbody tr th:only-of-type {\n",
       "        vertical-align: middle;\n",
       "    }\n",
       "\n",
       "    .dataframe tbody tr th {\n",
       "        vertical-align: top;\n",
       "    }\n",
       "\n",
       "    .dataframe thead th {\n",
       "        text-align: right;\n",
       "    }\n",
       "</style>\n",
       "<table border=\"1\" class=\"dataframe\">\n",
       "  <thead>\n",
       "    <tr style=\"text-align: right;\">\n",
       "      <th></th>\n",
       "      <th>Adm</th>\n",
       "      <th>AdmDur</th>\n",
       "      <th>Inf</th>\n",
       "      <th>InfDur</th>\n",
       "      <th>Prd</th>\n",
       "      <th>PrdDur</th>\n",
       "      <th>BncRt</th>\n",
       "      <th>ExtRt</th>\n",
       "      <th>PgVal</th>\n",
       "      <th>SpclDay</th>\n",
       "      <th>...</th>\n",
       "      <th>TfcTp_7</th>\n",
       "      <th>TfcTp_8</th>\n",
       "      <th>TfcTp_9</th>\n",
       "      <th>TfcTp_10</th>\n",
       "      <th>TfcTp_11</th>\n",
       "      <th>TfcTp_12</th>\n",
       "      <th>TfcTp_13</th>\n",
       "      <th>VstTp_1</th>\n",
       "      <th>VstTp_2</th>\n",
       "      <th>Wkd</th>\n",
       "    </tr>\n",
       "  </thead>\n",
       "  <tbody>\n",
       "    <tr>\n",
       "      <th>199738</th>\n",
       "      <td>0</td>\n",
       "      <td>0.00</td>\n",
       "      <td>0</td>\n",
       "      <td>0.00</td>\n",
       "      <td>22</td>\n",
       "      <td>758.22</td>\n",
       "      <td>0.000000</td>\n",
       "      <td>0.017185</td>\n",
       "      <td>0.000000</td>\n",
       "      <td>0.0</td>\n",
       "      <td>...</td>\n",
       "      <td>0</td>\n",
       "      <td>0</td>\n",
       "      <td>0</td>\n",
       "      <td>0</td>\n",
       "      <td>0</td>\n",
       "      <td>0</td>\n",
       "      <td>0</td>\n",
       "      <td>0</td>\n",
       "      <td>0</td>\n",
       "      <td>1</td>\n",
       "    </tr>\n",
       "    <tr>\n",
       "      <th>52555</th>\n",
       "      <td>3</td>\n",
       "      <td>35.97</td>\n",
       "      <td>2</td>\n",
       "      <td>15.98</td>\n",
       "      <td>74</td>\n",
       "      <td>4206.55</td>\n",
       "      <td>0.019160</td>\n",
       "      <td>0.026590</td>\n",
       "      <td>0.000000</td>\n",
       "      <td>0.0</td>\n",
       "      <td>...</td>\n",
       "      <td>0</td>\n",
       "      <td>0</td>\n",
       "      <td>0</td>\n",
       "      <td>0</td>\n",
       "      <td>0</td>\n",
       "      <td>0</td>\n",
       "      <td>0</td>\n",
       "      <td>0</td>\n",
       "      <td>0</td>\n",
       "      <td>0</td>\n",
       "    </tr>\n",
       "    <tr>\n",
       "      <th>311137</th>\n",
       "      <td>0</td>\n",
       "      <td>0.00</td>\n",
       "      <td>0</td>\n",
       "      <td>0.00</td>\n",
       "      <td>3</td>\n",
       "      <td>258.25</td>\n",
       "      <td>0.000000</td>\n",
       "      <td>0.031969</td>\n",
       "      <td>0.000000</td>\n",
       "      <td>0.0</td>\n",
       "      <td>...</td>\n",
       "      <td>0</td>\n",
       "      <td>0</td>\n",
       "      <td>0</td>\n",
       "      <td>0</td>\n",
       "      <td>0</td>\n",
       "      <td>0</td>\n",
       "      <td>0</td>\n",
       "      <td>0</td>\n",
       "      <td>0</td>\n",
       "      <td>1</td>\n",
       "    </tr>\n",
       "    <tr>\n",
       "      <th>325494</th>\n",
       "      <td>4</td>\n",
       "      <td>98.46</td>\n",
       "      <td>0</td>\n",
       "      <td>0.00</td>\n",
       "      <td>10</td>\n",
       "      <td>63.57</td>\n",
       "      <td>0.065401</td>\n",
       "      <td>0.082387</td>\n",
       "      <td>0.000000</td>\n",
       "      <td>0.0</td>\n",
       "      <td>...</td>\n",
       "      <td>0</td>\n",
       "      <td>0</td>\n",
       "      <td>0</td>\n",
       "      <td>0</td>\n",
       "      <td>0</td>\n",
       "      <td>0</td>\n",
       "      <td>0</td>\n",
       "      <td>0</td>\n",
       "      <td>0</td>\n",
       "      <td>0</td>\n",
       "    </tr>\n",
       "    <tr>\n",
       "      <th>379185</th>\n",
       "      <td>3</td>\n",
       "      <td>18.92</td>\n",
       "      <td>0</td>\n",
       "      <td>0.00</td>\n",
       "      <td>8</td>\n",
       "      <td>343.35</td>\n",
       "      <td>0.000000</td>\n",
       "      <td>0.007333</td>\n",
       "      <td>0.000000</td>\n",
       "      <td>0.0</td>\n",
       "      <td>...</td>\n",
       "      <td>0</td>\n",
       "      <td>0</td>\n",
       "      <td>0</td>\n",
       "      <td>0</td>\n",
       "      <td>0</td>\n",
       "      <td>0</td>\n",
       "      <td>0</td>\n",
       "      <td>0</td>\n",
       "      <td>0</td>\n",
       "      <td>0</td>\n",
       "    </tr>\n",
       "    <tr>\n",
       "      <th>...</th>\n",
       "      <td>...</td>\n",
       "      <td>...</td>\n",
       "      <td>...</td>\n",
       "      <td>...</td>\n",
       "      <td>...</td>\n",
       "      <td>...</td>\n",
       "      <td>...</td>\n",
       "      <td>...</td>\n",
       "      <td>...</td>\n",
       "      <td>...</td>\n",
       "      <td>...</td>\n",
       "      <td>...</td>\n",
       "      <td>...</td>\n",
       "      <td>...</td>\n",
       "      <td>...</td>\n",
       "      <td>...</td>\n",
       "      <td>...</td>\n",
       "      <td>...</td>\n",
       "      <td>...</td>\n",
       "      <td>...</td>\n",
       "      <td>...</td>\n",
       "    </tr>\n",
       "    <tr>\n",
       "      <th>81962</th>\n",
       "      <td>0</td>\n",
       "      <td>0.00</td>\n",
       "      <td>0</td>\n",
       "      <td>0.00</td>\n",
       "      <td>16</td>\n",
       "      <td>242.39</td>\n",
       "      <td>0.000000</td>\n",
       "      <td>0.004898</td>\n",
       "      <td>0.000000</td>\n",
       "      <td>0.0</td>\n",
       "      <td>...</td>\n",
       "      <td>0</td>\n",
       "      <td>1</td>\n",
       "      <td>0</td>\n",
       "      <td>0</td>\n",
       "      <td>0</td>\n",
       "      <td>0</td>\n",
       "      <td>0</td>\n",
       "      <td>0</td>\n",
       "      <td>0</td>\n",
       "      <td>1</td>\n",
       "    </tr>\n",
       "    <tr>\n",
       "      <th>270085</th>\n",
       "      <td>0</td>\n",
       "      <td>0.00</td>\n",
       "      <td>0</td>\n",
       "      <td>0.00</td>\n",
       "      <td>4</td>\n",
       "      <td>46.23</td>\n",
       "      <td>0.000000</td>\n",
       "      <td>0.084468</td>\n",
       "      <td>0.000000</td>\n",
       "      <td>0.0</td>\n",
       "      <td>...</td>\n",
       "      <td>0</td>\n",
       "      <td>0</td>\n",
       "      <td>0</td>\n",
       "      <td>0</td>\n",
       "      <td>0</td>\n",
       "      <td>0</td>\n",
       "      <td>0</td>\n",
       "      <td>0</td>\n",
       "      <td>0</td>\n",
       "      <td>0</td>\n",
       "    </tr>\n",
       "    <tr>\n",
       "      <th>335966</th>\n",
       "      <td>3</td>\n",
       "      <td>93.33</td>\n",
       "      <td>0</td>\n",
       "      <td>0.00</td>\n",
       "      <td>1</td>\n",
       "      <td>4.00</td>\n",
       "      <td>0.000000</td>\n",
       "      <td>0.042272</td>\n",
       "      <td>0.000000</td>\n",
       "      <td>0.0</td>\n",
       "      <td>...</td>\n",
       "      <td>0</td>\n",
       "      <td>0</td>\n",
       "      <td>0</td>\n",
       "      <td>0</td>\n",
       "      <td>0</td>\n",
       "      <td>0</td>\n",
       "      <td>0</td>\n",
       "      <td>1</td>\n",
       "      <td>0</td>\n",
       "      <td>0</td>\n",
       "    </tr>\n",
       "    <tr>\n",
       "      <th>87136</th>\n",
       "      <td>6</td>\n",
       "      <td>188.81</td>\n",
       "      <td>0</td>\n",
       "      <td>0.00</td>\n",
       "      <td>7</td>\n",
       "      <td>601.31</td>\n",
       "      <td>0.020828</td>\n",
       "      <td>0.029748</td>\n",
       "      <td>0.000000</td>\n",
       "      <td>0.0</td>\n",
       "      <td>...</td>\n",
       "      <td>0</td>\n",
       "      <td>0</td>\n",
       "      <td>0</td>\n",
       "      <td>0</td>\n",
       "      <td>0</td>\n",
       "      <td>0</td>\n",
       "      <td>0</td>\n",
       "      <td>0</td>\n",
       "      <td>0</td>\n",
       "      <td>0</td>\n",
       "    </tr>\n",
       "    <tr>\n",
       "      <th>404838</th>\n",
       "      <td>0</td>\n",
       "      <td>0.00</td>\n",
       "      <td>3</td>\n",
       "      <td>447.54</td>\n",
       "      <td>78</td>\n",
       "      <td>3667.34</td>\n",
       "      <td>0.004826</td>\n",
       "      <td>0.018921</td>\n",
       "      <td>10.024848</td>\n",
       "      <td>0.0</td>\n",
       "      <td>...</td>\n",
       "      <td>0</td>\n",
       "      <td>0</td>\n",
       "      <td>0</td>\n",
       "      <td>0</td>\n",
       "      <td>0</td>\n",
       "      <td>0</td>\n",
       "      <td>0</td>\n",
       "      <td>0</td>\n",
       "      <td>0</td>\n",
       "      <td>0</td>\n",
       "    </tr>\n",
       "  </tbody>\n",
       "</table>\n",
       "<p>337434 rows × 52 columns</p>\n",
       "</div>"
      ],
      "text/plain": [
       "        Adm  AdmDur  Inf  InfDur  Prd   PrdDur     BncRt     ExtRt      PgVal  \\\n",
       "199738    0    0.00    0    0.00   22   758.22  0.000000  0.017185   0.000000   \n",
       "52555     3   35.97    2   15.98   74  4206.55  0.019160  0.026590   0.000000   \n",
       "311137    0    0.00    0    0.00    3   258.25  0.000000  0.031969   0.000000   \n",
       "325494    4   98.46    0    0.00   10    63.57  0.065401  0.082387   0.000000   \n",
       "379185    3   18.92    0    0.00    8   343.35  0.000000  0.007333   0.000000   \n",
       "...     ...     ...  ...     ...  ...      ...       ...       ...        ...   \n",
       "81962     0    0.00    0    0.00   16   242.39  0.000000  0.004898   0.000000   \n",
       "270085    0    0.00    0    0.00    4    46.23  0.000000  0.084468   0.000000   \n",
       "335966    3   93.33    0    0.00    1     4.00  0.000000  0.042272   0.000000   \n",
       "87136     6  188.81    0    0.00    7   601.31  0.020828  0.029748   0.000000   \n",
       "404838    0    0.00    3  447.54   78  3667.34  0.004826  0.018921  10.024848   \n",
       "\n",
       "        SpclDay  ...  TfcTp_7  TfcTp_8  TfcTp_9  TfcTp_10  TfcTp_11  TfcTp_12  \\\n",
       "199738      0.0  ...        0        0        0         0         0         0   \n",
       "52555       0.0  ...        0        0        0         0         0         0   \n",
       "311137      0.0  ...        0        0        0         0         0         0   \n",
       "325494      0.0  ...        0        0        0         0         0         0   \n",
       "379185      0.0  ...        0        0        0         0         0         0   \n",
       "...         ...  ...      ...      ...      ...       ...       ...       ...   \n",
       "81962       0.0  ...        0        1        0         0         0         0   \n",
       "270085      0.0  ...        0        0        0         0         0         0   \n",
       "335966      0.0  ...        0        0        0         0         0         0   \n",
       "87136       0.0  ...        0        0        0         0         0         0   \n",
       "404838      0.0  ...        0        0        0         0         0         0   \n",
       "\n",
       "        TfcTp_13  VstTp_1  VstTp_2  Wkd  \n",
       "199738         0        0        0    1  \n",
       "52555          0        0        0    0  \n",
       "311137         0        0        0    1  \n",
       "325494         0        0        0    0  \n",
       "379185         0        0        0    0  \n",
       "...          ...      ...      ...  ...  \n",
       "81962          0        0        0    1  \n",
       "270085         0        0        0    0  \n",
       "335966         0        1        0    0  \n",
       "87136          0        0        0    0  \n",
       "404838         0        0        0    0  \n",
       "\n",
       "[337434 rows x 52 columns]"
      ]
     },
     "execution_count": 46,
     "metadata": {},
     "output_type": "execute_result"
    }
   ],
   "source": [
    "# creating list for categorical and continuous columns\n",
    "cat_cols = X_train_dummy.columns\n",
    "cont_cols = list(X_train.select_dtypes(exclude='object'))\n",
    "cont_cols.remove('Wkd')\n",
    "\n",
    "# preprocessed X train\n",
    "X_train_preprocessed = pd.concat(\n",
    "    [numeric_training, X_train_dummy],\n",
    "    axis=1\n",
    ")\n",
    "X_train_preprocessed"
   ]
  },
  {
   "cell_type": "code",
   "execution_count": 262,
   "metadata": {},
   "outputs": [
    {
     "name": "stdout",
     "output_type": "stream",
     "text": [
      "Oversampled model train log loss: 6.920449322542662\n",
      "Oversampled model val log loss: 4.653150186266458\n"
     ]
    }
   ],
   "source": [
    "oversampled_train_loss, oversampled_val_loss = get_train_val_loss(\n",
    "    baseline_model,\n",
    "    X_train_preprocessed,\n",
    "    y_train,\n",
    "    cont_cols,\n",
    "    cat_cols\n",
    ")\n",
    "print('Oversampled model train log loss:', oversampled_train_loss)\n",
    "print('Oversampled model val log loss:', oversampled_val_loss)"
   ]
  },
  {
   "cell_type": "markdown",
   "metadata": {},
   "source": [
    "This model performs worse than the baseline model indicatied by the higher log loss, but the variance bias tradeoff is better in this model. "
   ]
  },
  {
   "cell_type": "markdown",
   "metadata": {},
   "source": [
    "## 3. Less regularization"
   ]
  },
  {
   "cell_type": "markdown",
   "metadata": {},
   "source": [
    "We try to reduce the regularization to improve the performance."
   ]
  },
  {
   "cell_type": "code",
   "execution_count": 263,
   "metadata": {},
   "outputs": [
    {
     "name": "stdout",
     "output_type": "stream",
     "text": [
      "Less regularization(10) model log loss on train data: 6.924038233818931\n",
      "Less Regularization(10) model log loss on validation: 4.655176337979004\n",
      "\n",
      "Less regularization(100) model log loss on train data: 6.924221889515656\n",
      "Less Regularization(100) model log loss on validation: 4.655790669341802\n",
      "\n",
      "Less regularization(1000.0) model log loss on train data: 6.924181771152384\n",
      "Less Regularization(1000.0) model log loss on validation: 4.65594174372054\n",
      "\n",
      "Less regularization(1000000.0) model log loss on train data: 6.9243141564783235\n",
      "Less Regularization(1000000.0) model log loss on validation: 4.655940369179685\n",
      "\n"
     ]
    }
   ],
   "source": [
    "c_vals = [10, 100, 1e3, 1e6]\n",
    "for c in c_vals:\n",
    "    less_reg_model = LogisticRegression(solver='liblinear',\n",
    "                                        random_state=random_state,\n",
    "                                        C=c)\n",
    "\n",
    "    # getting train and validation scores for the  model \n",
    "    less_reg_train_loss, less_reg_val_loss = get_train_val_loss(less_reg_model,\n",
    "                                                                X_train_preprocessed,\n",
    "                                                                y_train,\n",
    "                                                                cont_cols,\n",
    "                                                                cat_cols)\n",
    "\n",
    "\n",
    "    print(f'Less regularization({c}) model log loss on train data:', less_reg_train_loss)\n",
    "    print(f'Less Regularization({c}) model log loss on validation:', less_reg_val_loss)\n",
    "    print()"
   ]
  },
  {
   "cell_type": "markdown",
   "metadata": {},
   "source": [
    "Performance gets worse with less regularization. Lets try increasing the  regularization."
   ]
  },
  {
   "cell_type": "code",
   "execution_count": 287,
   "metadata": {},
   "outputs": [],
   "source": [
    "c_vals = [.1, .01, .001, 1e-4, .1e-5, 1e-6, 1e-7, 1e-8]\n",
    "l2_log_loss_items = []\n",
    "for c in c_vals:\n",
    "    item = {\n",
    "        'c': c\n",
    "    }\n",
    "    less_reg_model = LogisticRegression(solver='liblinear',\n",
    "                                  random_state=random_state,\n",
    "                                  C=c)\n",
    "    l2_train_loss, l2_val_loss = get_train_val_loss(less_reg_model,\n",
    "                                                    X_train_preprocessed,\n",
    "                                                    y_train,\n",
    "                                                    cont_cols,\n",
    "                                                    cat_cols)\n",
    "\n",
    "    item['train_loss'] = l2_train_loss\n",
    "    item['val_loss'] = l2_val_loss\n",
    "    l2_log_loss_items.append(item)\n",
    "    \n"
   ]
  },
  {
   "cell_type": "code",
   "execution_count": 288,
   "metadata": {},
   "outputs": [
    {
     "data": {
      "text/html": [
       "<div>\n",
       "<style scoped>\n",
       "    .dataframe tbody tr th:only-of-type {\n",
       "        vertical-align: middle;\n",
       "    }\n",
       "\n",
       "    .dataframe tbody tr th {\n",
       "        vertical-align: top;\n",
       "    }\n",
       "\n",
       "    .dataframe thead th {\n",
       "        text-align: right;\n",
       "    }\n",
       "</style>\n",
       "<table border=\"1\" class=\"dataframe\">\n",
       "  <thead>\n",
       "    <tr style=\"text-align: right;\">\n",
       "      <th></th>\n",
       "      <th>c</th>\n",
       "      <th>train_loss</th>\n",
       "      <th>val_loss</th>\n",
       "      <th>Train val difference</th>\n",
       "    </tr>\n",
       "  </thead>\n",
       "  <tbody>\n",
       "    <tr>\n",
       "      <th>0</th>\n",
       "      <td>1.000000e-01</td>\n",
       "      <td>6.889687</td>\n",
       "      <td>4.623700</td>\n",
       "      <td>2.265987</td>\n",
       "    </tr>\n",
       "    <tr>\n",
       "      <th>1</th>\n",
       "      <td>1.000000e-02</td>\n",
       "      <td>6.735191</td>\n",
       "      <td>4.438825</td>\n",
       "      <td>2.296366</td>\n",
       "    </tr>\n",
       "    <tr>\n",
       "      <th>2</th>\n",
       "      <td>1.000000e-03</td>\n",
       "      <td>6.796242</td>\n",
       "      <td>4.224101</td>\n",
       "      <td>2.572141</td>\n",
       "    </tr>\n",
       "    <tr>\n",
       "      <th>3</th>\n",
       "      <td>1.000000e-04</td>\n",
       "      <td>7.092018</td>\n",
       "      <td>3.981004</td>\n",
       "      <td>3.111014</td>\n",
       "    </tr>\n",
       "    <tr>\n",
       "      <th>4</th>\n",
       "      <td>1.000000e-06</td>\n",
       "      <td>6.584323</td>\n",
       "      <td>2.946785</td>\n",
       "      <td>3.637538</td>\n",
       "    </tr>\n",
       "    <tr>\n",
       "      <th>5</th>\n",
       "      <td>1.000000e-06</td>\n",
       "      <td>6.584323</td>\n",
       "      <td>2.946785</td>\n",
       "      <td>3.637538</td>\n",
       "    </tr>\n",
       "    <tr>\n",
       "      <th>6</th>\n",
       "      <td>1.000000e-07</td>\n",
       "      <td>7.051304</td>\n",
       "      <td>3.141002</td>\n",
       "      <td>3.910302</td>\n",
       "    </tr>\n",
       "    <tr>\n",
       "      <th>7</th>\n",
       "      <td>1.000000e-08</td>\n",
       "      <td>7.819918</td>\n",
       "      <td>3.485243</td>\n",
       "      <td>4.334676</td>\n",
       "    </tr>\n",
       "  </tbody>\n",
       "</table>\n",
       "</div>"
      ],
      "text/plain": [
       "              c  train_loss  val_loss  Train val difference\n",
       "0  1.000000e-01    6.889687  4.623700              2.265987\n",
       "1  1.000000e-02    6.735191  4.438825              2.296366\n",
       "2  1.000000e-03    6.796242  4.224101              2.572141\n",
       "3  1.000000e-04    7.092018  3.981004              3.111014\n",
       "4  1.000000e-06    6.584323  2.946785              3.637538\n",
       "5  1.000000e-06    6.584323  2.946785              3.637538\n",
       "6  1.000000e-07    7.051304  3.141002              3.910302\n",
       "7  1.000000e-08    7.819918  3.485243              4.334676"
      ]
     },
     "execution_count": 288,
     "metadata": {},
     "output_type": "execute_result"
    }
   ],
   "source": [
    "l2_loss_df = pd.DataFrame(l2_log_loss_items)\n",
    "l2_loss_df['Train val difference'] = l2_loss_df['train_loss'] - \\\n",
    "    l2_loss_df['val_loss']\n",
    "\n",
    "l2_loss_df"
   ]
  },
  {
   "cell_type": "markdown",
   "metadata": {},
   "source": [
    "### Plotting log loss at different regularization for L2"
   ]
  },
  {
   "cell_type": "code",
   "execution_count": 291,
   "metadata": {},
   "outputs": [
    {
     "name": "stderr",
     "output_type": "stream",
     "text": [
      "c:\\Users\\mutis\\anaconda3\\Lib\\site-packages\\seaborn\\_oldcore.py:1119: FutureWarning: use_inf_as_na option is deprecated and will be removed in a future version. Convert inf values to NaN before operating instead.\n",
      "  with pd.option_context('mode.use_inf_as_na', True):\n",
      "c:\\Users\\mutis\\anaconda3\\Lib\\site-packages\\seaborn\\_oldcore.py:1119: FutureWarning: use_inf_as_na option is deprecated and will be removed in a future version. Convert inf values to NaN before operating instead.\n",
      "  with pd.option_context('mode.use_inf_as_na', True):\n",
      "c:\\Users\\mutis\\anaconda3\\Lib\\site-packages\\seaborn\\_oldcore.py:1119: FutureWarning: use_inf_as_na option is deprecated and will be removed in a future version. Convert inf values to NaN before operating instead.\n",
      "  with pd.option_context('mode.use_inf_as_na', True):\n",
      "c:\\Users\\mutis\\anaconda3\\Lib\\site-packages\\seaborn\\_oldcore.py:1119: FutureWarning: use_inf_as_na option is deprecated and will be removed in a future version. Convert inf values to NaN before operating instead.\n",
      "  with pd.option_context('mode.use_inf_as_na', True):\n",
      "c:\\Users\\mutis\\anaconda3\\Lib\\site-packages\\seaborn\\_oldcore.py:1119: FutureWarning: use_inf_as_na option is deprecated and will be removed in a future version. Convert inf values to NaN before operating instead.\n",
      "  with pd.option_context('mode.use_inf_as_na', True):\n",
      "c:\\Users\\mutis\\anaconda3\\Lib\\site-packages\\seaborn\\_oldcore.py:1119: FutureWarning: use_inf_as_na option is deprecated and will be removed in a future version. Convert inf values to NaN before operating instead.\n",
      "  with pd.option_context('mode.use_inf_as_na', True):\n"
     ]
    },
    {
     "data": {
      "image/png": "[encoded data removed]",
      "text/plain": [
       "<Figure size 1500x500 with 3 Axes>"
      ]
     },
     "metadata": {},
     "output_type": "display_data"
    }
   ],
   "source": [
    "from matplotlib.ticker import FuncFormatter\n",
    "\n",
    "# Plotting\n",
    "\n",
    "\n",
    "def scientific_format(x, _):\n",
    "    return f'{x:.0e}'\n",
    "\n",
    "\n",
    "# Plotting\n",
    "fig, axes = plt.subplots(ncols=3, figsize=(15, 5))\n",
    "\n",
    "# c vs train loss\n",
    "sns.lineplot(\n",
    "    data=l2_loss_df,\n",
    "    x='c',\n",
    "    y='train_loss',\n",
    "    ax=axes[0]\n",
    ")\n",
    "axes[0].set_xlabel('C')\n",
    "axes[0].set_ylabel('Train log loss')\n",
    "axes[0].set_xscale('log')\n",
    "axes[0].set_xticks([0.1, 0.01, 0.001, 1e-4, 1e-5, 1e-6, 1e-7, 1e-8])\n",
    "axes[0].xaxis.set_major_formatter(FuncFormatter(scientific_format))\n",
    "\n",
    "# c vs val loss\n",
    "sns.lineplot(\n",
    "    data=l2_loss_df,\n",
    "    x='c',\n",
    "    y='val_loss',\n",
    "    ax=axes[1]\n",
    ")\n",
    "axes[1].set_xlabel('C')\n",
    "axes[1].set_ylabel('Validation log loss')\n",
    "axes[1].set_xscale('log')\n",
    "axes[1].set_xticks([0.1, 0.01, 0.001, 1e-4, 1e-5, 1e-6, 1e-7, 1e-8])\n",
    "axes[1].xaxis.set_major_formatter(FuncFormatter(scientific_format))\n",
    "\n",
    "# c vs difference\n",
    "sns.lineplot(\n",
    "    data=l2_loss_df,\n",
    "    x='c',\n",
    "    y='Train val difference',\n",
    "    ax=axes[2]\n",
    ")\n",
    "axes[2].set_xlabel('C')\n",
    "axes[2].set_ylabel('Train-Validation Difference')\n",
    "axes[2].set_xscale('log')\n",
    "axes[2].set_xticks([0.1, 0.01, 0.001, 1e-4, 1e-5, 1e-6, 1e-7, 1e-8])\n",
    "axes[2].xaxis.set_major_formatter(FuncFormatter(scientific_format))\n",
    "\n",
    "fig.suptitle('L2 regularization')\n",
    "plt.tight_layout()\n",
    "plt.show()"
   ]
  },
  {
   "cell_type": "markdown",
   "metadata": {},
   "source": [
    "For l2 regularization, As the regularization increases(lower C value), the difference between log loss in train data and validation data increases indicating possibility of underfitting.\n",
    "\n",
    "Even when the log loss is low in train and validation sets at around C = 1e06, there is underfitting."
   ]
  },
  {
   "cell_type": "markdown",
   "metadata": {},
   "source": [
    "## 4. L1 regularization"
   ]
  },
  {
   "cell_type": "markdown",
   "metadata": {},
   "source": [
    "We start with the l1 Regularization(Lasso)"
   ]
  },
  {
   "cell_type": "code",
   "execution_count": 264,
   "metadata": {},
   "outputs": [
    {
     "name": "stdout",
     "output_type": "stream",
     "text": [
      "L1 regularization(1) model log loss on train data: 6.922744438179024\n",
      "L1 Regularization(1) model log loss on validation: 4.654101704215641\n",
      "\n",
      "L1 regularization(10) model log loss on train data: 6.923966945276252\n",
      "L1 Regularization(10) model log loss on validation: 4.655553510318879\n",
      "\n",
      "L1 regularization(100) model log loss on train data: 6.924042418229262\n",
      "L1 Regularization(100) model log loss on validation: 4.655453570349502\n",
      "\n",
      "L1 regularization(1000.0) model log loss on train data: 6.924046941811287\n",
      "L1 Regularization(1000.0) model log loss on validation: 4.655460839683827\n",
      "\n",
      "L1 regularization(1000000.0) model log loss on train data: 6.9240480871271375\n",
      "L1 Regularization(1000000.0) model log loss on validation: 4.655462966680484\n",
      "\n"
     ]
    }
   ],
   "source": [
    "c_vals = [1, 10, 100, 1e3, 1e6]\n",
    "for c in c_vals:\n",
    "    l1_model = LogisticRegression(solver='saga',\n",
    "                                random_state=random_state,\n",
    "                                penalty='l1',\n",
    "                                C=c)\n",
    "    l1_train_loss, l1_val_loss = get_train_val_loss(l1_model,\n",
    "                                                    X_train_preprocessed,\n",
    "                                                    y_train,\n",
    "                                                    cont_cols,\n",
    "                                                    cat_cols)\n",
    "\n",
    "    print(f'L1 regularization({c}) model log loss on train data:', l1_train_loss)\n",
    "    print(f'L1 Regularization({c}) model log loss on validation:', l1_val_loss)\n",
    "    print()"
   ]
  },
  {
   "cell_type": "code",
   "execution_count": 284,
   "metadata": {},
   "outputs": [
    {
     "data": {
      "text/html": [
       "<div>\n",
       "<style scoped>\n",
       "    .dataframe tbody tr th:only-of-type {\n",
       "        vertical-align: middle;\n",
       "    }\n",
       "\n",
       "    .dataframe tbody tr th {\n",
       "        vertical-align: top;\n",
       "    }\n",
       "\n",
       "    .dataframe thead th {\n",
       "        text-align: right;\n",
       "    }\n",
       "</style>\n",
       "<table border=\"1\" class=\"dataframe\">\n",
       "  <thead>\n",
       "    <tr style=\"text-align: right;\">\n",
       "      <th></th>\n",
       "      <th>c</th>\n",
       "      <th>train_loss</th>\n",
       "      <th>val_loss</th>\n",
       "      <th>Train val difference</th>\n",
       "    </tr>\n",
       "  </thead>\n",
       "  <tbody>\n",
       "    <tr>\n",
       "      <th>0</th>\n",
       "      <td>1.000000e-01</td>\n",
       "      <td>6.909002</td>\n",
       "      <td>4.636216</td>\n",
       "      <td>2.272786</td>\n",
       "    </tr>\n",
       "    <tr>\n",
       "      <th>1</th>\n",
       "      <td>1.000000e-02</td>\n",
       "      <td>6.764112</td>\n",
       "      <td>4.422848</td>\n",
       "      <td>2.341265</td>\n",
       "    </tr>\n",
       "    <tr>\n",
       "      <th>2</th>\n",
       "      <td>1.000000e-03</td>\n",
       "      <td>6.621629</td>\n",
       "      <td>3.992579</td>\n",
       "      <td>2.629050</td>\n",
       "    </tr>\n",
       "    <tr>\n",
       "      <th>3</th>\n",
       "      <td>1.000000e-04</td>\n",
       "      <td>8.727381</td>\n",
       "      <td>4.462992</td>\n",
       "      <td>4.264389</td>\n",
       "    </tr>\n",
       "    <tr>\n",
       "      <th>4</th>\n",
       "      <td>1.000000e-06</td>\n",
       "      <td>2.256407</td>\n",
       "      <td>1.018138</td>\n",
       "      <td>1.238269</td>\n",
       "    </tr>\n",
       "    <tr>\n",
       "      <th>5</th>\n",
       "      <td>1.000000e-06</td>\n",
       "      <td>2.256407</td>\n",
       "      <td>1.018138</td>\n",
       "      <td>1.238269</td>\n",
       "    </tr>\n",
       "    <tr>\n",
       "      <th>6</th>\n",
       "      <td>1.000000e-07</td>\n",
       "      <td>2.256577</td>\n",
       "      <td>1.018213</td>\n",
       "      <td>1.238364</td>\n",
       "    </tr>\n",
       "    <tr>\n",
       "      <th>7</th>\n",
       "      <td>1.000000e-08</td>\n",
       "      <td>2.256577</td>\n",
       "      <td>1.018213</td>\n",
       "      <td>1.238364</td>\n",
       "    </tr>\n",
       "  </tbody>\n",
       "</table>\n",
       "</div>"
      ],
      "text/plain": [
       "              c  train_loss  val_loss  Train val difference\n",
       "0  1.000000e-01    6.909002  4.636216              2.272786\n",
       "1  1.000000e-02    6.764112  4.422848              2.341265\n",
       "2  1.000000e-03    6.621629  3.992579              2.629050\n",
       "3  1.000000e-04    8.727381  4.462992              4.264389\n",
       "4  1.000000e-06    2.256407  1.018138              1.238269\n",
       "5  1.000000e-06    2.256407  1.018138              1.238269\n",
       "6  1.000000e-07    2.256577  1.018213              1.238364\n",
       "7  1.000000e-08    2.256577  1.018213              1.238364"
      ]
     },
     "execution_count": 284,
     "metadata": {},
     "output_type": "execute_result"
    }
   ],
   "source": [
    "c_vals = [.1, .01, .001, 1e-4, .1e-5, 1e-6, 1e-7,1e-8]\n",
    "l1_log_loss_items = []\n",
    "for c in c_vals:\n",
    "    item = {\n",
    "        'c': c\n",
    "    }\n",
    "    l1_model = LogisticRegression(solver='saga',\n",
    "                                  random_state=random_state,\n",
    "                                  penalty='l1',\n",
    "                                  C=c)\n",
    "    l1_train_loss, l1_val_loss = get_train_val_loss(l1_model,\n",
    "                                                    X_train_preprocessed,\n",
    "                                                    y_train,\n",
    "                                                    cont_cols,\n",
    "                                                    cat_cols)\n",
    "\n",
    "    item['train_loss'] = l1_train_loss\n",
    "    item['val_loss'] = l1_val_loss\n",
    "    l1_log_loss_items.append(item)\n",
    "    "
   ]
  },
  {
   "cell_type": "code",
   "execution_count": 286,
   "metadata": {},
   "outputs": [
    {
     "data": {
      "text/html": [
       "<div>\n",
       "<style scoped>\n",
       "    .dataframe tbody tr th:only-of-type {\n",
       "        vertical-align: middle;\n",
       "    }\n",
       "\n",
       "    .dataframe tbody tr th {\n",
       "        vertical-align: top;\n",
       "    }\n",
       "\n",
       "    .dataframe thead th {\n",
       "        text-align: right;\n",
       "    }\n",
       "</style>\n",
       "<table border=\"1\" class=\"dataframe\">\n",
       "  <thead>\n",
       "    <tr style=\"text-align: right;\">\n",
       "      <th></th>\n",
       "      <th>c</th>\n",
       "      <th>train_loss</th>\n",
       "      <th>val_loss</th>\n",
       "      <th>Train val difference</th>\n",
       "    </tr>\n",
       "  </thead>\n",
       "  <tbody>\n",
       "    <tr>\n",
       "      <th>0</th>\n",
       "      <td>1.000000e-01</td>\n",
       "      <td>6.909002</td>\n",
       "      <td>4.636216</td>\n",
       "      <td>2.272786</td>\n",
       "    </tr>\n",
       "    <tr>\n",
       "      <th>1</th>\n",
       "      <td>1.000000e-02</td>\n",
       "      <td>6.764112</td>\n",
       "      <td>4.422848</td>\n",
       "      <td>2.341265</td>\n",
       "    </tr>\n",
       "    <tr>\n",
       "      <th>2</th>\n",
       "      <td>1.000000e-03</td>\n",
       "      <td>6.621629</td>\n",
       "      <td>3.992579</td>\n",
       "      <td>2.629050</td>\n",
       "    </tr>\n",
       "    <tr>\n",
       "      <th>3</th>\n",
       "      <td>1.000000e-04</td>\n",
       "      <td>8.727381</td>\n",
       "      <td>4.462992</td>\n",
       "      <td>4.264389</td>\n",
       "    </tr>\n",
       "    <tr>\n",
       "      <th>4</th>\n",
       "      <td>1.000000e-06</td>\n",
       "      <td>2.256407</td>\n",
       "      <td>1.018138</td>\n",
       "      <td>1.238269</td>\n",
       "    </tr>\n",
       "    <tr>\n",
       "      <th>5</th>\n",
       "      <td>1.000000e-06</td>\n",
       "      <td>2.256407</td>\n",
       "      <td>1.018138</td>\n",
       "      <td>1.238269</td>\n",
       "    </tr>\n",
       "    <tr>\n",
       "      <th>6</th>\n",
       "      <td>1.000000e-07</td>\n",
       "      <td>2.256577</td>\n",
       "      <td>1.018213</td>\n",
       "      <td>1.238364</td>\n",
       "    </tr>\n",
       "    <tr>\n",
       "      <th>7</th>\n",
       "      <td>1.000000e-08</td>\n",
       "      <td>2.256577</td>\n",
       "      <td>1.018213</td>\n",
       "      <td>1.238364</td>\n",
       "    </tr>\n",
       "  </tbody>\n",
       "</table>\n",
       "</div>"
      ],
      "text/plain": [
       "              c  train_loss  val_loss  Train val difference\n",
       "0  1.000000e-01    6.909002  4.636216              2.272786\n",
       "1  1.000000e-02    6.764112  4.422848              2.341265\n",
       "2  1.000000e-03    6.621629  3.992579              2.629050\n",
       "3  1.000000e-04    8.727381  4.462992              4.264389\n",
       "4  1.000000e-06    2.256407  1.018138              1.238269\n",
       "5  1.000000e-06    2.256407  1.018138              1.238269\n",
       "6  1.000000e-07    2.256577  1.018213              1.238364\n",
       "7  1.000000e-08    2.256577  1.018213              1.238364"
      ]
     },
     "execution_count": 286,
     "metadata": {},
     "output_type": "execute_result"
    }
   ],
   "source": [
    "l1_loss_df = pd.DataFrame(l1_log_loss_items)\n",
    "l1_loss_df['Train val difference'] = l1_loss_df['train_loss'] - \\\n",
    "    l1_loss_df['val_loss']\n",
    "l1_loss_df"
   ]
  },
  {
   "cell_type": "markdown",
   "metadata": {},
   "source": [
    "### Comparing log loss at different L1 regularizations"
   ]
  },
  {
   "cell_type": "code",
   "execution_count": 292,
   "metadata": {},
   "outputs": [
    {
     "name": "stderr",
     "output_type": "stream",
     "text": [
      "c:\\Users\\mutis\\anaconda3\\Lib\\site-packages\\seaborn\\_oldcore.py:1119: FutureWarning: use_inf_as_na option is deprecated and will be removed in a future version. Convert inf values to NaN before operating instead.\n",
      "  with pd.option_context('mode.use_inf_as_na', True):\n",
      "c:\\Users\\mutis\\anaconda3\\Lib\\site-packages\\seaborn\\_oldcore.py:1119: FutureWarning: use_inf_as_na option is deprecated and will be removed in a future version. Convert inf values to NaN before operating instead.\n",
      "  with pd.option_context('mode.use_inf_as_na', True):\n",
      "c:\\Users\\mutis\\anaconda3\\Lib\\site-packages\\seaborn\\_oldcore.py:1119: FutureWarning: use_inf_as_na option is deprecated and will be removed in a future version. Convert inf values to NaN before operating instead.\n",
      "  with pd.option_context('mode.use_inf_as_na', True):\n",
      "c:\\Users\\mutis\\anaconda3\\Lib\\site-packages\\seaborn\\_oldcore.py:1119: FutureWarning: use_inf_as_na option is deprecated and will be removed in a future version. Convert inf values to NaN before operating instead.\n",
      "  with pd.option_context('mode.use_inf_as_na', True):\n",
      "c:\\Users\\mutis\\anaconda3\\Lib\\site-packages\\seaborn\\_oldcore.py:1119: FutureWarning: use_inf_as_na option is deprecated and will be removed in a future version. Convert inf values to NaN before operating instead.\n",
      "  with pd.option_context('mode.use_inf_as_na', True):\n",
      "c:\\Users\\mutis\\anaconda3\\Lib\\site-packages\\seaborn\\_oldcore.py:1119: FutureWarning: use_inf_as_na option is deprecated and will be removed in a future version. Convert inf values to NaN before operating instead.\n",
      "  with pd.option_context('mode.use_inf_as_na', True):\n"
     ]
    },
    {
     "data": {
      "image/png": "[encoded data removed]",
      "text/plain": [
       "<Figure size 1500x500 with 3 Axes>"
      ]
     },
     "metadata": {},
     "output_type": "display_data"
    }
   ],
   "source": [
    "\n",
    "# Plotting\n",
    "fig, axes = plt.subplots(ncols=3, figsize=(15, 5))\n",
    "\n",
    "# c vs train loss\n",
    "sns.lineplot(\n",
    "    data=l1_loss_df,\n",
    "    x='c',\n",
    "    y='train_loss',\n",
    "    ax=axes[0]\n",
    ")\n",
    "axes[0].set_xlabel('C')\n",
    "axes[0].set_ylabel('Train log loss')\n",
    "axes[0].set_xscale('log')\n",
    "axes[0].set_xticks([0.1, 0.01, 0.001, 1e-4, 1e-5, 1e-6, 1e-7, 1e-8])\n",
    "axes[0].xaxis.set_major_formatter(FuncFormatter(scientific_format))\n",
    "\n",
    "# c vs val loss\n",
    "sns.lineplot(\n",
    "    data=l1_loss_df,\n",
    "    x='c',\n",
    "    y='val_loss',\n",
    "    ax=axes[1]\n",
    ")\n",
    "axes[1].set_xlabel('C')\n",
    "axes[1].set_ylabel('Validation log loss')\n",
    "axes[1].set_xscale('log')\n",
    "axes[1].set_xticks([0.1, 0.01, 0.001, 1e-4, 1e-5, 1e-6, 1e-7, 1e-8])\n",
    "axes[1].xaxis.set_major_formatter(FuncFormatter(scientific_format))\n",
    "\n",
    "# c vs difference\n",
    "sns.lineplot(\n",
    "    data=l1_loss_df,\n",
    "    x='c',\n",
    "    y='Train val difference',\n",
    "    ax=axes[2]\n",
    ")\n",
    "axes[2].set_xlabel('C')\n",
    "axes[2].set_ylabel('Train-Validation Difference')\n",
    "axes[2].set_xscale('log')\n",
    "axes[2].set_xticks([0.1, 0.01, 0.001, 1e-4, 1e-5, 1e-6, 1e-7, 1e-8])\n",
    "axes[2].xaxis.set_major_formatter(FuncFormatter(scientific_format))\n",
    "fig.suptitle('L1 regularization')\n",
    "plt.tight_layout()\n",
    "plt.show()"
   ]
  },
  {
   "cell_type": "markdown",
   "metadata": {},
   "source": [
    "## 5. Elasticnet regularization"
   ]
  },
  {
   "cell_type": "code",
   "execution_count": 265,
   "metadata": {},
   "outputs": [
    {
     "name": "stdout",
     "output_type": "stream",
     "text": [
      "Elasticnet regularization(1) model log loss on train data: 6.9238287176437\n",
      "Elasticnet Regularization(1) model log loss on validation: 4.655310505298025\n",
      "\n",
      "Elasticnet regularization(10) model log loss on train data: 6.9238287176437\n",
      "Elasticnet Regularization(10) model log loss on validation: 4.655310505298025\n",
      "\n",
      "Elasticnet regularization(100) model log loss on train data: 6.9238287176437\n",
      "Elasticnet Regularization(100) model log loss on validation: 4.655310505298025\n",
      "\n",
      "Elasticnet regularization(1000.0) model log loss on train data: 6.9238287176437\n",
      "Elasticnet Regularization(1000.0) model log loss on validation: 4.655310505298025\n",
      "\n",
      "Elasticnet regularization(1000000.0) model log loss on train data: 6.9238287176437\n",
      "Elasticnet Regularization(1000000.0) model log loss on validation: 4.655310505298025\n",
      "\n"
     ]
    }
   ],
   "source": [
    "for c in c_vals:\n",
    "    elasticnet_model = LogisticRegression(solver='saga',\n",
    "                                        random_state=random_state,\n",
    "                                        penalty='elasticnet',\n",
    "                                        l1_ratio=.5,\n",
    "                                        C=10)\n",
    "    elasticnet_train_loss, elasticnet_val_loss = get_train_val_loss(elasticnet_model,\n",
    "                                                                    X_train_preprocessed,\n",
    "                                                                    y_train,\n",
    "                                                                    cont_cols,\n",
    "                                                                    cat_cols)\n",
    "\n",
    "    print(f'Elasticnet regularization({c}) model log loss on train data:', \n",
    "          elasticnet_train_loss)\n",
    "    print(f'Elasticnet Regularization({c}) model log loss on validation:', \n",
    "          elasticnet_val_loss)\n",
    "    print()"
   ]
  },
  {
   "cell_type": "markdown",
   "metadata": {},
   "source": [
    "## Decision tree"
   ]
  },
  {
   "cell_type": "code",
   "execution_count": 51,
   "metadata": {},
   "outputs": [
    {
     "name": "stdout",
     "output_type": "stream",
     "text": [
      "Decision tree model train log loss: 2.2204460492503136e-16\n",
      "Decision tree model val log loss: 1.2855413756113048\n"
     ]
    }
   ],
   "source": [
    "# decision tree\n",
    "from sklearn.tree import DecisionTreeClassifier\n",
    "dt_model = DecisionTreeClassifier(random_state=random_state)\n",
    "dt_train_loss, dt_val_loss = get_train_val_loss(dt_model,\n",
    "                                                X_train_preprocessed,\n",
    "                                                y_train,\n",
    "                                                cont_cols,\n",
    "                                                cat_cols)\n",
    "print('Decision tree model train log loss:', dt_train_loss)\n",
    "print('Decision tree model val log loss:', dt_val_loss)"
   ]
  },
  {
   "cell_type": "markdown",
   "metadata": {},
   "source": [
    "Comparing all the models, the baseline model performs better on the validation set but the difference in the log loss in the training and the validation could imply underfitting.\n",
    "\n",
    "\n",
    "On further investigation, the l1 model with more regularization is our best model. It has the lowest log loss with a good balance in bias and variance this reducing chances of overfitting or underfitting."
   ]
  },
  {
   "cell_type": "markdown",
   "metadata": {},
   "source": [
    "# Evaluation of the final model"
   ]
  },
  {
   "cell_type": "markdown",
   "metadata": {},
   "source": [
    "Our best performing model is the l1 model with higher regularization. We now preprocess the full training and test data and evaluate the model."
   ]
  },
  {
   "cell_type": "code",
   "execution_count": 268,
   "metadata": {},
   "outputs": [
    {
     "data": {
      "text/html": [
       "<style>#sk-container-id-11 {color: black;background-color: white;}#sk-container-id-11 pre{padding: 0;}#sk-container-id-11 div.sk-toggleable {background-color: white;}#sk-container-id-11 label.sk-toggleable__label {cursor: pointer;display: block;width: 100%;margin-bottom: 0;padding: 0.3em;box-sizing: border-box;text-align: center;}#sk-container-id-11 label.sk-toggleable__label-arrow:before {content: \"▸\";float: left;margin-right: 0.25em;color: #696969;}#sk-container-id-11 label.sk-toggleable__label-arrow:hover:before {color: black;}#sk-container-id-11 div.sk-estimator:hover label.sk-toggleable__label-arrow:before {color: black;}#sk-container-id-11 div.sk-toggleable__content {max-height: 0;max-width: 0;overflow: hidden;text-align: left;background-color: #f0f8ff;}#sk-container-id-11 div.sk-toggleable__content pre {margin: 0.2em;color: black;border-radius: 0.25em;background-color: #f0f8ff;}#sk-container-id-11 input.sk-toggleable__control:checked~div.sk-toggleable__content {max-height: 200px;max-width: 100%;overflow: auto;}#sk-container-id-11 input.sk-toggleable__control:checked~label.sk-toggleable__label-arrow:before {content: \"▾\";}#sk-container-id-11 div.sk-estimator input.sk-toggleable__control:checked~label.sk-toggleable__label {background-color: #d4ebff;}#sk-container-id-11 div.sk-label input.sk-toggleable__control:checked~label.sk-toggleable__label {background-color: #d4ebff;}#sk-container-id-11 input.sk-hidden--visually {border: 0;clip: rect(1px 1px 1px 1px);clip: rect(1px, 1px, 1px, 1px);height: 1px;margin: -1px;overflow: hidden;padding: 0;position: absolute;width: 1px;}#sk-container-id-11 div.sk-estimator {font-family: monospace;background-color: #f0f8ff;border: 1px dotted black;border-radius: 0.25em;box-sizing: border-box;margin-bottom: 0.5em;}#sk-container-id-11 div.sk-estimator:hover {background-color: #d4ebff;}#sk-container-id-11 div.sk-parallel-item::after {content: \"\";width: 100%;border-bottom: 1px solid gray;flex-grow: 1;}#sk-container-id-11 div.sk-label:hover label.sk-toggleable__label {background-color: #d4ebff;}#sk-container-id-11 div.sk-serial::before {content: \"\";position: absolute;border-left: 1px solid gray;box-sizing: border-box;top: 0;bottom: 0;left: 50%;z-index: 0;}#sk-container-id-11 div.sk-serial {display: flex;flex-direction: column;align-items: center;background-color: white;padding-right: 0.2em;padding-left: 0.2em;position: relative;}#sk-container-id-11 div.sk-item {position: relative;z-index: 1;}#sk-container-id-11 div.sk-parallel {display: flex;align-items: stretch;justify-content: center;background-color: white;position: relative;}#sk-container-id-11 div.sk-item::before, #sk-container-id-11 div.sk-parallel-item::before {content: \"\";position: absolute;border-left: 1px solid gray;box-sizing: border-box;top: 0;bottom: 0;left: 50%;z-index: -1;}#sk-container-id-11 div.sk-parallel-item {display: flex;flex-direction: column;z-index: 1;position: relative;background-color: white;}#sk-container-id-11 div.sk-parallel-item:first-child::after {align-self: flex-end;width: 50%;}#sk-container-id-11 div.sk-parallel-item:last-child::after {align-self: flex-start;width: 50%;}#sk-container-id-11 div.sk-parallel-item:only-child::after {width: 0;}#sk-container-id-11 div.sk-dashed-wrapped {border: 1px dashed gray;margin: 0 0.4em 0.5em 0.4em;box-sizing: border-box;padding-bottom: 0.4em;background-color: white;}#sk-container-id-11 div.sk-label label {font-family: monospace;font-weight: bold;display: inline-block;line-height: 1.2em;}#sk-container-id-11 div.sk-label-container {text-align: center;}#sk-container-id-11 div.sk-container {/* jupyter's `normalize.less` sets `[hidden] { display: none; }` but bootstrap.min.css set `[hidden] { display: none !important; }` so we also need the `!important` here to be able to override the default hidden behavior on the sphinx rendered scikit-learn.org. See: https://github.com/scikit-learn/scikit-learn/issues/21755 */display: inline-block !important;position: relative;}#sk-container-id-11 div.sk-text-repr-fallback {display: none;}</style><div id=\"sk-container-id-11\" class=\"sk-top-container\"><div class=\"sk-text-repr-fallback\"><pre>LogisticRegression(C=1000000.0, penalty=&#x27;l1&#x27;, random_state=20, solver=&#x27;saga&#x27;)</pre><b>In a Jupyter environment, please rerun this cell to show the HTML representation or trust the notebook. <br />On GitHub, the HTML representation is unable to render, please try loading this page with nbviewer.org.</b></div><div class=\"sk-container\" hidden><div class=\"sk-item\"><div class=\"sk-estimator sk-toggleable\"><input class=\"sk-toggleable__control sk-hidden--visually\" id=\"sk-estimator-id-11\" type=\"checkbox\" checked><label for=\"sk-estimator-id-11\" class=\"sk-toggleable__label sk-toggleable__label-arrow\">LogisticRegression</label><div class=\"sk-toggleable__content\"><pre>LogisticRegression(C=1000000.0, penalty=&#x27;l1&#x27;, random_state=20, solver=&#x27;saga&#x27;)</pre></div></div></div></div></div>"
      ],
      "text/plain": [
       "LogisticRegression(C=1000000.0, penalty='l1', random_state=20, solver='saga')"
      ]
     },
     "execution_count": 268,
     "metadata": {},
     "output_type": "execute_result"
    }
   ],
   "source": [
    "final_model = LogisticRegression(random_state=random_state,\n",
    "                                 penalty='l1',\n",
    "                                 C=1e06,\n",
    "                                 solver='saga')\n",
    "\n",
    "final_scaler = StandardScaler()\n",
    "final_sm = SMOTE(random_state=random_state)\n",
    "\n",
    "X_train_cont = X_train_preprocessed[cont_cols]\n",
    "X_train_cat = X_train_preprocessed[cat_cols]\n",
    "\n",
    "# scaling X for train data\n",
    "X_train_scaled = pd.DataFrame(\n",
    "    final_scaler.fit_transform(X_train_cont),\n",
    "    columns=X_train_cont.columns,\n",
    "    index=X_train_cont.index\n",
    ")\n",
    "\n",
    "X_train_scaled = pd.concat([X_train_scaled, X_train_cat], axis=1)\n",
    "\n",
    "# scaling X for test data\n",
    "X_test_dummy = pd.get_dummies(X_test.select_dtypes('object'),\n",
    "                              drop_first=True,\n",
    "                              dtype=int)\n",
    "X_test_dummy['Wkd'] = X_test['Wkd']\n",
    "\n",
    "numeric_test = X_test.select_dtypes(exclude='object').drop('Wkd',\n",
    "                                                           axis=1)\n",
    "\n",
    "X_test_scaled = pd.DataFrame(\n",
    "    final_scaler.transform(numeric_test),\n",
    "    columns=numeric_test.columns,\n",
    "    index=numeric_test.index,\n",
    ")\n",
    "\n",
    "X_test_scaled = pd.concat(\n",
    "    [X_test_scaled, X_test_dummy],\n",
    "    axis=1\n",
    ")\n",
    "\n",
    "# oversampling to reduce class imbalance\n",
    "X_train_oversampled, y_train_oversampled = final_sm.fit_resample(X_train_scaled,\n",
    "                                                           y_train)\n",
    "# fitting the model\n",
    "final_model.fit(X_train_oversampled, y_train_oversampled)"
   ]
  },
  {
   "cell_type": "code",
   "execution_count": 269,
   "metadata": {},
   "outputs": [],
   "source": [
    "# importing modules\n",
    "from sklearn.metrics import accuracy_score\n",
    "from sklearn.metrics import recall_score\n",
    "from sklearn.metrics import precision_score\n",
    "from sklearn.metrics import f1_score\n",
    "from sklearn.metrics import auc\n",
    "from sklearn.metrics import roc_curve"
   ]
  },
  {
   "cell_type": "markdown",
   "metadata": {},
   "source": [
    "## Accuracy"
   ]
  },
  {
   "cell_type": "code",
   "execution_count": 270,
   "metadata": {},
   "outputs": [
    {
     "data": {
      "text/plain": [
       "0.7406004676428489"
      ]
     },
     "execution_count": 270,
     "metadata": {},
     "output_type": "execute_result"
    }
   ],
   "source": [
    "y_pred = final_model.predict(X_test_scaled)\n",
    "accuracy_score(y_test, y_pred)"
   ]
  },
  {
   "cell_type": "markdown",
   "metadata": {},
   "source": [
    "This means that out of all the predictions our model made, 74% were correct."
   ]
  },
  {
   "cell_type": "markdown",
   "metadata": {},
   "source": [
    "## Recall"
   ]
  },
  {
   "cell_type": "code",
   "execution_count": 271,
   "metadata": {},
   "outputs": [
    {
     "data": {
      "text/plain": [
       "0.6516047129765541"
      ]
     },
     "execution_count": 271,
     "metadata": {},
     "output_type": "execute_result"
    }
   ],
   "source": [
    "recall_score(y_test, y_pred)"
   ]
  },
  {
   "cell_type": "markdown",
   "metadata": {},
   "source": [
    "This means that out of all the customers that had purchase intent, our model was able to predict about 65%."
   ]
  },
  {
   "cell_type": "markdown",
   "metadata": {},
   "source": [
    "## Precision"
   ]
  },
  {
   "cell_type": "code",
   "execution_count": 272,
   "metadata": {},
   "outputs": [
    {
     "data": {
      "text/plain": [
       "0.44608908202064096"
      ]
     },
     "execution_count": 272,
     "metadata": {},
     "output_type": "execute_result"
    }
   ],
   "source": [
    "precision_score(y_test, y_pred)"
   ]
  },
  {
   "cell_type": "markdown",
   "metadata": {},
   "source": [
    "Out of all the customers that our model predicted as having purchase intent, about 45% actually had purchase intent."
   ]
  },
  {
   "cell_type": "markdown",
   "metadata": {},
   "source": [
    "## F1- score"
   ]
  },
  {
   "cell_type": "code",
   "execution_count": 273,
   "metadata": {},
   "outputs": [
    {
     "data": {
      "text/plain": [
       "0.5296080739033002"
      ]
     },
     "execution_count": 273,
     "metadata": {},
     "output_type": "execute_result"
    }
   ],
   "source": [
    "f1_score(y_test, y_pred)"
   ]
  },
  {
   "cell_type": "markdown",
   "metadata": {},
   "source": [
    "# Conclusion\n",
    "\n",
    "The predictive model successfully identifies potential buyers with a recall rate of 65%, capturing a significant portion of users likely to make a purchase. Although the precision is 45%, indicating that not all predicted buyers convert, the model still provides valuable insights for targeting marketing efforts. By focusing on the users with the highest likelihood of purchasing and continuously refining the model, we can enhance the efficiency of our marketing strategies and drive increased sales. Implementing these insights will enable us to optimize resource allocation and improve overall conversion rates."
   ]
  },
  {
   "cell_type": "markdown",
   "metadata": {},
   "source": [
    "## predicting rev for missing set"
   ]
  },
  {
   "cell_type": "code",
   "execution_count": 274,
   "metadata": {},
   "outputs": [
    {
     "name": "stdout",
     "output_type": "stream",
     "text": [
      "<class 'pandas.core.frame.DataFrame'>\n",
      "Index: 50000 entries, 0 to 49999\n",
      "Data columns (total 18 columns):\n",
      " #   Column   Non-Null Count  Dtype  \n",
      "---  ------   --------------  -----  \n",
      " 0   Adm      50000 non-null  int64  \n",
      " 1   AdmDur   50000 non-null  float64\n",
      " 2   Inf      50000 non-null  int64  \n",
      " 3   InfDur   50000 non-null  float64\n",
      " 4   Prd      50000 non-null  int64  \n",
      " 5   PrdDur   50000 non-null  float64\n",
      " 6   BncRt    50000 non-null  float64\n",
      " 7   ExtRt    50000 non-null  float64\n",
      " 8   PgVal    50000 non-null  float64\n",
      " 9   SpclDay  50000 non-null  float64\n",
      " 10  Mo       50000 non-null  int64  \n",
      " 11  OS       50000 non-null  int64  \n",
      " 12  Bsr      50000 non-null  int64  \n",
      " 13  Rgn      50000 non-null  int64  \n",
      " 14  TfcTp    50000 non-null  int64  \n",
      " 15  VstTp    50000 non-null  int64  \n",
      " 16  Wkd      50000 non-null  int64  \n",
      " 17  Rev      0 non-null      float64\n",
      "dtypes: float64(8), int64(10)\n",
      "memory usage: 7.2 MB\n"
     ]
    }
   ],
   "source": [
    "missing_rev.info()"
   ]
  },
  {
   "cell_type": "code",
   "execution_count": 275,
   "metadata": {},
   "outputs": [
    {
     "name": "stderr",
     "output_type": "stream",
     "text": [
      "C:\\Users\\mutis\\AppData\\Local\\Temp\\ipykernel_17580\\2206965402.py:1: SettingWithCopyWarning: \n",
      "A value is trying to be set on a copy of a slice from a DataFrame.\n",
      "Try using .loc[row_indexer,col_indexer] = value instead\n",
      "\n",
      "See the caveats in the documentation: https://pandas.pydata.org/pandas-docs/stable/user_guide/indexing.html#returning-a-view-versus-a-copy\n",
      "  missing_rev[['Mo', 'OS', 'Bsr', 'Rgn', 'TfcTp', 'VstTp']] = (\n",
      "C:\\Users\\mutis\\AppData\\Local\\Temp\\ipykernel_17580\\2206965402.py:4: SettingWithCopyWarning: \n",
      "A value is trying to be set on a copy of a slice from a DataFrame\n",
      "\n",
      "See the caveats in the documentation: https://pandas.pydata.org/pandas-docs/stable/user_guide/indexing.html#returning-a-view-versus-a-copy\n",
      "  missing_rev.drop('Rev', axis=1, inplace=True)\n"
     ]
    }
   ],
   "source": [
    "missing_rev[['Mo', 'OS', 'Bsr', 'Rgn', 'TfcTp', 'VstTp']] = (\n",
    "    missing_rev[['Mo', 'OS', 'Bsr', 'Rgn', 'TfcTp', 'VstTp']].astype('object')\n",
    ")\n",
    "missing_rev.drop('Rev', axis=1, inplace=True)"
   ]
  },
  {
   "cell_type": "code",
   "execution_count": 276,
   "metadata": {},
   "outputs": [],
   "source": [
    "missing_numeric = missing_rev.select_dtypes(exclude='object').drop('Wkd',\n",
    "                                                                   axis=1)\n",
    "missing_rev_dummy = pd.get_dummies(missing_rev.select_dtypes('object'),\n",
    "                                   drop_first=True,\n",
    "                                   dtype=int)\n",
    "missing_rev_dummy['Wkd'] = missing_rev['Wkd']\n",
    "\n",
    "missing_rev_scaled = pd.DataFrame(\n",
    "    final_scaler.transform(missing_numeric),\n",
    "    columns=missing_numeric.columns,\n",
    "    index=missing_numeric.index,\n",
    ")\n",
    "\n",
    "missing_rev_scaled = pd.concat(\n",
    "    [missing_rev_scaled, missing_rev_dummy],\n",
    "    axis=1\n",
    ")\n",
    "\n",
    "missing_pred = final_model.predict(missing_rev_scaled)"
   ]
  },
  {
   "cell_type": "code",
   "execution_count": 300,
   "metadata": {},
   "outputs": [
    {
     "data": {
      "text/html": [
       "<div>\n",
       "<style scoped>\n",
       "    .dataframe tbody tr th:only-of-type {\n",
       "        vertical-align: middle;\n",
       "    }\n",
       "\n",
       "    .dataframe tbody tr th {\n",
       "        vertical-align: top;\n",
       "    }\n",
       "\n",
       "    .dataframe thead th {\n",
       "        text-align: right;\n",
       "    }\n",
       "</style>\n",
       "<table border=\"1\" class=\"dataframe\">\n",
       "  <thead>\n",
       "    <tr style=\"text-align: right;\">\n",
       "      <th></th>\n",
       "      <th>Rev</th>\n",
       "    </tr>\n",
       "    <tr>\n",
       "      <th>id</th>\n",
       "      <th></th>\n",
       "    </tr>\n",
       "  </thead>\n",
       "  <tbody>\n",
       "    <tr>\n",
       "      <th>1</th>\n",
       "      <td>0</td>\n",
       "    </tr>\n",
       "    <tr>\n",
       "      <th>2</th>\n",
       "      <td>1</td>\n",
       "    </tr>\n",
       "    <tr>\n",
       "      <th>3</th>\n",
       "      <td>1</td>\n",
       "    </tr>\n",
       "    <tr>\n",
       "      <th>4</th>\n",
       "      <td>1</td>\n",
       "    </tr>\n",
       "    <tr>\n",
       "      <th>5</th>\n",
       "      <td>0</td>\n",
       "    </tr>\n",
       "    <tr>\n",
       "      <th>...</th>\n",
       "      <td>...</td>\n",
       "    </tr>\n",
       "    <tr>\n",
       "      <th>49996</th>\n",
       "      <td>1</td>\n",
       "    </tr>\n",
       "    <tr>\n",
       "      <th>49997</th>\n",
       "      <td>0</td>\n",
       "    </tr>\n",
       "    <tr>\n",
       "      <th>49998</th>\n",
       "      <td>1</td>\n",
       "    </tr>\n",
       "    <tr>\n",
       "      <th>49999</th>\n",
       "      <td>1</td>\n",
       "    </tr>\n",
       "    <tr>\n",
       "      <th>50000</th>\n",
       "      <td>0</td>\n",
       "    </tr>\n",
       "  </tbody>\n",
       "</table>\n",
       "<p>50000 rows × 1 columns</p>\n",
       "</div>"
      ],
      "text/plain": [
       "       Rev\n",
       "id        \n",
       "1        0\n",
       "2        1\n",
       "3        1\n",
       "4        1\n",
       "5        0\n",
       "...    ...\n",
       "49996    1\n",
       "49997    0\n",
       "49998    1\n",
       "49999    1\n",
       "50000    0\n",
       "\n",
       "[50000 rows x 1 columns]"
      ]
     },
     "execution_count": 300,
     "metadata": {},
     "output_type": "execute_result"
    }
   ],
   "source": [
    "predicted = pd.DataFrame(missing_pred, columns=['Rev'])\n",
    "predicted['id'] = missing_rev.index + 1\n",
    "predicted = predicted[['id', 'Rev']].astype('Int64').set_index('id')\n",
    "predicted"
   ]
  },
  {
   "cell_type": "code",
   "execution_count": 301,
   "metadata": {},
   "outputs": [],
   "source": [
    "predicted.to_csv('predicted.csv')"
   ]
  }
 ],
 "metadata": {
  "kernelspec": {
   "display_name": "base",
   "language": "python",
   "name": "python3"
  },
  "language_info": {
   "codemirror_mode": {
    "name": "ipython",
    "version": 3
   },
   "file_extension": ".py",
   "mimetype": "text/x-python",
   "name": "python",
   "nbconvert_exporter": "python",
   "pygments_lexer": "ipython3",
   "version": "3.11.7"
  }
 },
 "nbformat": 4,
 "nbformat_minor": 2
}
